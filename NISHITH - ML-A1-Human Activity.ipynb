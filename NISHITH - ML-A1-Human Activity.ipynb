{
 "cells": [
  {
   "cell_type": "markdown",
   "id": "d7d7f1d8",
   "metadata": {},
   "source": [
    "# NB and Logistic Regression Project \n",
    "\n",
    "Welcome to NB and Logistic Regression Project! Go ahead and follow the directions below."
   ]
  },
  {
   "attachments": {},
   "cell_type": "markdown",
   "id": "9a44b873",
   "metadata": {},
   "source": [
    "Tasks:\n",
    "\n",
    "EDA and Basic Data Preprocessing and Preparation [Marks:2]\n",
    "\n",
    "Train Model using different variations of NB [Marks:2+1]\n",
    "\n",
    "Compare time and accuracy of different NB algorithms [Marks:0.5]\n",
    "\n",
    "Train Model with Logistic Regression with different solver and penalty [Marks:2+1]\n",
    "\n",
    "Compare time and accuracy of different Logistic Regression algorithms [Marks:0.5]\n",
    "\n",
    "Plot confusion Matrix for the final model selected [Marks:1]\n",
    "\n",
    "\n",
    "\n",
    "Above tasks are mentioned in the notebook, The notebook has empty\n",
    "code cells. Fill the empty code cells with appropriate python code.\n",
    "Convert the notebook to HTML format and upload on Canvas. Submit ONLY\n",
    "HTML format of the notebook."
   ]
  },
  {
   "cell_type": "markdown",
   "id": "7314d2dd",
   "metadata": {},
   "source": [
    "**Build a classification model which will recognise the activities through the mobile sensor like walking, walking_upstairs  ,walking_downstairs ,sitting  ,standing,lying.The topic Human Activity recognition is in research and has its own advantages like anomaly detection, for healthy diet maintenance fitness bands are used , measuring stress level ,for monitoring employees ,for heartbeat pulse rate etc. In this project we are going to focus on  the dataset which was carried out through experiments with a group of 30 volunteers wearing a smartphone.The experiments have been video-recorded to label the data manually.The  main motto is to use the dataset and work with the libraries like scikit learn and machine learning related libraries and algorithms while training.**"
   ]
  },
  {
   "cell_type": "markdown",
   "id": "ec6cd280",
   "metadata": {},
   "source": [
    "# <font color='red'>Download and submit only HTML file</font>"
   ]
  },
  {
   "cell_type": "markdown",
   "id": "fd98b33b",
   "metadata": {},
   "source": [
    "# Import Libraries\n",
    "**Import pandas,seaborn, and the usual libraries.**"
   ]
  },
  {
   "cell_type": "code",
   "execution_count": 1,
   "id": "38b8134c",
   "metadata": {},
   "outputs": [],
   "source": [
    "import pandas as pd\n",
    "import seaborn as sns"
   ]
  },
  {
   "cell_type": "code",
   "execution_count": 2,
   "id": "c548d823",
   "metadata": {},
   "outputs": [],
   "source": [
    "import numpy as np\n",
    "import matplotlib.pyplot as plt\n",
    "import sklearn\n",
    "import statsmodels as sm"
   ]
  },
  {
   "cell_type": "markdown",
   "id": "fa301959",
   "metadata": {},
   "source": [
    "# EDA and Basic Data Preprocessing and Preparation [Marks:2]\n",
    "**If trying auto EDA do it in a different notebook and only highlight important, interesting or unusual pattern that you noticed in the data**\n",
    "\n",
    "<font color='red'>Give justification for your choices and techniques used for every step</font>"
   ]
  },
  {
   "cell_type": "code",
   "execution_count": 3,
   "id": "4c6b377c",
   "metadata": {},
   "outputs": [
    {
     "data": {
      "text/html": [
       "<div>\n",
       "<style scoped>\n",
       "    .dataframe tbody tr th:only-of-type {\n",
       "        vertical-align: middle;\n",
       "    }\n",
       "\n",
       "    .dataframe tbody tr th {\n",
       "        vertical-align: top;\n",
       "    }\n",
       "\n",
       "    .dataframe thead th {\n",
       "        text-align: right;\n",
       "    }\n",
       "</style>\n",
       "<table border=\"1\" class=\"dataframe\">\n",
       "  <thead>\n",
       "    <tr style=\"text-align: right;\">\n",
       "      <th></th>\n",
       "      <th>tBodyAcc-mean()-X</th>\n",
       "      <th>tBodyAcc-mean()-Y</th>\n",
       "      <th>tBodyAcc-mean()-Z</th>\n",
       "      <th>tBodyAcc-std()-X</th>\n",
       "      <th>tBodyAcc-std()-Y</th>\n",
       "      <th>tBodyAcc-std()-Z</th>\n",
       "      <th>tBodyAcc-mad()-X</th>\n",
       "      <th>tBodyAcc-mad()-Y</th>\n",
       "      <th>tBodyAcc-mad()-Z</th>\n",
       "      <th>tBodyAcc-max()-X</th>\n",
       "      <th>...</th>\n",
       "      <th>fBodyBodyGyroJerkMag-kurtosis()</th>\n",
       "      <th>angle(tBodyAccMean,gravity)</th>\n",
       "      <th>angle(tBodyAccJerkMean),gravityMean)</th>\n",
       "      <th>angle(tBodyGyroMean,gravityMean)</th>\n",
       "      <th>angle(tBodyGyroJerkMean,gravityMean)</th>\n",
       "      <th>angle(X,gravityMean)</th>\n",
       "      <th>angle(Y,gravityMean)</th>\n",
       "      <th>angle(Z,gravityMean)</th>\n",
       "      <th>subject</th>\n",
       "      <th>Activity</th>\n",
       "    </tr>\n",
       "  </thead>\n",
       "  <tbody>\n",
       "    <tr>\n",
       "      <th>0</th>\n",
       "      <td>0.288585</td>\n",
       "      <td>-0.020294</td>\n",
       "      <td>-0.132905</td>\n",
       "      <td>-0.995279</td>\n",
       "      <td>-0.983111</td>\n",
       "      <td>-0.913526</td>\n",
       "      <td>-0.995112</td>\n",
       "      <td>-0.983185</td>\n",
       "      <td>-0.923527</td>\n",
       "      <td>-0.934724</td>\n",
       "      <td>...</td>\n",
       "      <td>-0.710304</td>\n",
       "      <td>-0.112754</td>\n",
       "      <td>0.030400</td>\n",
       "      <td>-0.464761</td>\n",
       "      <td>-0.018446</td>\n",
       "      <td>-0.841247</td>\n",
       "      <td>0.179941</td>\n",
       "      <td>-0.058627</td>\n",
       "      <td>1</td>\n",
       "      <td>STANDING</td>\n",
       "    </tr>\n",
       "    <tr>\n",
       "      <th>1</th>\n",
       "      <td>0.278419</td>\n",
       "      <td>-0.016411</td>\n",
       "      <td>-0.123520</td>\n",
       "      <td>-0.998245</td>\n",
       "      <td>-0.975300</td>\n",
       "      <td>-0.960322</td>\n",
       "      <td>-0.998807</td>\n",
       "      <td>-0.974914</td>\n",
       "      <td>-0.957686</td>\n",
       "      <td>-0.943068</td>\n",
       "      <td>...</td>\n",
       "      <td>-0.861499</td>\n",
       "      <td>0.053477</td>\n",
       "      <td>-0.007435</td>\n",
       "      <td>-0.732626</td>\n",
       "      <td>0.703511</td>\n",
       "      <td>-0.844788</td>\n",
       "      <td>0.180289</td>\n",
       "      <td>-0.054317</td>\n",
       "      <td>1</td>\n",
       "      <td>STANDING</td>\n",
       "    </tr>\n",
       "    <tr>\n",
       "      <th>2</th>\n",
       "      <td>0.279653</td>\n",
       "      <td>-0.019467</td>\n",
       "      <td>-0.113462</td>\n",
       "      <td>-0.995380</td>\n",
       "      <td>-0.967187</td>\n",
       "      <td>-0.978944</td>\n",
       "      <td>-0.996520</td>\n",
       "      <td>-0.963668</td>\n",
       "      <td>-0.977469</td>\n",
       "      <td>-0.938692</td>\n",
       "      <td>...</td>\n",
       "      <td>-0.760104</td>\n",
       "      <td>-0.118559</td>\n",
       "      <td>0.177899</td>\n",
       "      <td>0.100699</td>\n",
       "      <td>0.808529</td>\n",
       "      <td>-0.848933</td>\n",
       "      <td>0.180637</td>\n",
       "      <td>-0.049118</td>\n",
       "      <td>1</td>\n",
       "      <td>STANDING</td>\n",
       "    </tr>\n",
       "    <tr>\n",
       "      <th>3</th>\n",
       "      <td>0.279174</td>\n",
       "      <td>-0.026201</td>\n",
       "      <td>-0.123283</td>\n",
       "      <td>-0.996091</td>\n",
       "      <td>-0.983403</td>\n",
       "      <td>-0.990675</td>\n",
       "      <td>-0.997099</td>\n",
       "      <td>-0.982750</td>\n",
       "      <td>-0.989302</td>\n",
       "      <td>-0.938692</td>\n",
       "      <td>...</td>\n",
       "      <td>-0.482845</td>\n",
       "      <td>-0.036788</td>\n",
       "      <td>-0.012892</td>\n",
       "      <td>0.640011</td>\n",
       "      <td>-0.485366</td>\n",
       "      <td>-0.848649</td>\n",
       "      <td>0.181935</td>\n",
       "      <td>-0.047663</td>\n",
       "      <td>1</td>\n",
       "      <td>STANDING</td>\n",
       "    </tr>\n",
       "    <tr>\n",
       "      <th>4</th>\n",
       "      <td>0.276629</td>\n",
       "      <td>-0.016570</td>\n",
       "      <td>-0.115362</td>\n",
       "      <td>-0.998139</td>\n",
       "      <td>-0.980817</td>\n",
       "      <td>-0.990482</td>\n",
       "      <td>-0.998321</td>\n",
       "      <td>-0.979672</td>\n",
       "      <td>-0.990441</td>\n",
       "      <td>-0.942469</td>\n",
       "      <td>...</td>\n",
       "      <td>-0.699205</td>\n",
       "      <td>0.123320</td>\n",
       "      <td>0.122542</td>\n",
       "      <td>0.693578</td>\n",
       "      <td>-0.615971</td>\n",
       "      <td>-0.847865</td>\n",
       "      <td>0.185151</td>\n",
       "      <td>-0.043892</td>\n",
       "      <td>1</td>\n",
       "      <td>STANDING</td>\n",
       "    </tr>\n",
       "  </tbody>\n",
       "</table>\n",
       "<p>5 rows × 563 columns</p>\n",
       "</div>"
      ],
      "text/plain": [
       "   tBodyAcc-mean()-X  tBodyAcc-mean()-Y  tBodyAcc-mean()-Z  tBodyAcc-std()-X  \\\n",
       "0           0.288585          -0.020294          -0.132905         -0.995279   \n",
       "1           0.278419          -0.016411          -0.123520         -0.998245   \n",
       "2           0.279653          -0.019467          -0.113462         -0.995380   \n",
       "3           0.279174          -0.026201          -0.123283         -0.996091   \n",
       "4           0.276629          -0.016570          -0.115362         -0.998139   \n",
       "\n",
       "   tBodyAcc-std()-Y  tBodyAcc-std()-Z  tBodyAcc-mad()-X  tBodyAcc-mad()-Y  \\\n",
       "0         -0.983111         -0.913526         -0.995112         -0.983185   \n",
       "1         -0.975300         -0.960322         -0.998807         -0.974914   \n",
       "2         -0.967187         -0.978944         -0.996520         -0.963668   \n",
       "3         -0.983403         -0.990675         -0.997099         -0.982750   \n",
       "4         -0.980817         -0.990482         -0.998321         -0.979672   \n",
       "\n",
       "   tBodyAcc-mad()-Z  tBodyAcc-max()-X  ...  fBodyBodyGyroJerkMag-kurtosis()  \\\n",
       "0         -0.923527         -0.934724  ...                        -0.710304   \n",
       "1         -0.957686         -0.943068  ...                        -0.861499   \n",
       "2         -0.977469         -0.938692  ...                        -0.760104   \n",
       "3         -0.989302         -0.938692  ...                        -0.482845   \n",
       "4         -0.990441         -0.942469  ...                        -0.699205   \n",
       "\n",
       "   angle(tBodyAccMean,gravity)  angle(tBodyAccJerkMean),gravityMean)  \\\n",
       "0                    -0.112754                              0.030400   \n",
       "1                     0.053477                             -0.007435   \n",
       "2                    -0.118559                              0.177899   \n",
       "3                    -0.036788                             -0.012892   \n",
       "4                     0.123320                              0.122542   \n",
       "\n",
       "   angle(tBodyGyroMean,gravityMean)  angle(tBodyGyroJerkMean,gravityMean)  \\\n",
       "0                         -0.464761                             -0.018446   \n",
       "1                         -0.732626                              0.703511   \n",
       "2                          0.100699                              0.808529   \n",
       "3                          0.640011                             -0.485366   \n",
       "4                          0.693578                             -0.615971   \n",
       "\n",
       "   angle(X,gravityMean)  angle(Y,gravityMean)  angle(Z,gravityMean)  subject  \\\n",
       "0             -0.841247              0.179941             -0.058627        1   \n",
       "1             -0.844788              0.180289             -0.054317        1   \n",
       "2             -0.848933              0.180637             -0.049118        1   \n",
       "3             -0.848649              0.181935             -0.047663        1   \n",
       "4             -0.847865              0.185151             -0.043892        1   \n",
       "\n",
       "   Activity  \n",
       "0  STANDING  \n",
       "1  STANDING  \n",
       "2  STANDING  \n",
       "3  STANDING  \n",
       "4  STANDING  \n",
       "\n",
       "[5 rows x 563 columns]"
      ]
     },
     "execution_count": 3,
     "metadata": {},
     "output_type": "execute_result"
    }
   ],
   "source": [
    "df = pd.read_csv('NISHITH - human_activity.csv')\n",
    "df.head()           #First five rows"
   ]
  },
  {
   "cell_type": "code",
   "execution_count": 4,
   "id": "a3c8ea60",
   "metadata": {},
   "outputs": [],
   "source": [
    "                            #Data Analysis\n",
    "print(\"*********************************************\")\n",
    "df.shape          #number of rows and columns\n",
    "print(\"\\n*********************************************\")\n",
    "df.describe()     #Gives count, mean, stdev, min value, max value, common percentiles\n",
    "print(\"\\n*********************************************\")\n",
    "df.info()         #Gives info on each and every column and their data types stored"
   ]
  },
  {
   "cell_type": "code",
   "execution_count": 5,
   "id": "6d4ee412",
   "metadata": {},
   "outputs": [
    {
     "data": {
      "text/plain": [
       "\" \\n    axis : {0 or 'index', 1 or 'columns'}, default 0\\n    Determine if rows or columns which contain missing values are removed.\\n\\n0, or 'index' : Drop rows which contain missing values.\\n1, or 'columns' : Drop columns which contain missing value.\\nhow : {'any', 'all'}, default 'any'\\n    Determine if row or column is removed from DataFrame, when we have at least one NA or all NA.\\n\\n'any' : If any NA values are present, drop that row or column.\\n'all' : If all values are NA, drop that row or column.\\n\\n\""
      ]
     },
     "execution_count": 5,
     "metadata": {},
     "output_type": "execute_result"
    }
   ],
   "source": [
    "                            #Null Value Checker\n",
    "# df.isnull().sum()     #Gives number of Null values in each column\n",
    "# df = df.dropna(axis=0, how='any') \n",
    "# df.shape\n",
    "\"\"\" \n",
    "    axis : {0 or 'index', 1 or 'columns'}, default 0\n",
    "    Determine if rows or columns which contain missing values are removed.\n",
    "\n",
    "0, or 'index' : Drop rows which contain missing values.\n",
    "1, or 'columns' : Drop columns which contain missing value.\n",
    "how : {'any', 'all'}, default 'any'\n",
    "    Determine if row or column is removed from DataFrame, when we have at least one NA or all NA.\n",
    "\n",
    "'any' : If any NA values are present, drop that row or column.\n",
    "'all' : If all values are NA, drop that row or column.\n",
    "\n",
    "\"\"\"\n"
   ]
  },
  {
   "cell_type": "code",
   "execution_count": 7,
   "id": "e06bcf79",
   "metadata": {},
   "outputs": [],
   "source": [
    "                               #PLOTTING\n",
    "#Univariate -> tells us how data in each feature is distributed\n",
    "#Bivariate -> two variables or features are analyzed together, that how they are related to each other. Generally, we use to perform to find the relationship between the dependent and independent variable\n",
    "\n",
    "\n",
    "\n",
    "# sns.histplot(x=\"tBodyAcc-mean()-X\",data=df)\n",
    "# sns.boxplot(x=\"tBodyAcc-mean()-X\", y=\"tBodyAcc-mean()-Y\",data=df)\n",
    "# sns.scatterplot( x=\"tBodyAcc-mean()-X\", y='tBodyAcc-mean()-Y', data=df,hue='tBodyAcc-mean()-Z', size='tBodyAcc-std()-X')\n",
    "\n",
    "#Heat Map\n",
    "# plt.figure(figsize=(10,6))\n",
    "# sns.heatmap(df.corr(), cmap=plt.cm.Reds, annot=True)\n",
    "plt.show()"
   ]
  },
  {
   "cell_type": "code",
   "execution_count": null,
   "id": "e8ab11a4",
   "metadata": {},
   "outputs": [],
   "source": [
    "                                #Outliers\n",
    "from sklearn.datasets import load_boston\n",
    "\n",
    "# Skewness and Kurtosis\n",
    "# df.skew()         \n",
    "# df.kurt()         #How 'tailed' the curve is\n",
    "\n"
   ]
  },
  {
   "cell_type": "markdown",
   "id": "d656cabb",
   "metadata": {},
   "source": [
    "## Null/Outlier Treatment"
   ]
  },
  {
   "cell_type": "code",
   "execution_count": null,
   "id": "78f99e57",
   "metadata": {},
   "outputs": [],
   "source": []
  },
  {
   "cell_type": "code",
   "execution_count": null,
   "id": "310ffd1f",
   "metadata": {},
   "outputs": [],
   "source": []
  },
  {
   "cell_type": "markdown",
   "id": "6fbd7ed4",
   "metadata": {},
   "source": [
    "## Remove non-Important Features"
   ]
  },
  {
   "cell_type": "code",
   "execution_count": null,
   "id": "a42d24f4",
   "metadata": {},
   "outputs": [],
   "source": []
  },
  {
   "cell_type": "code",
   "execution_count": null,
   "id": "00b4d256",
   "metadata": {},
   "outputs": [],
   "source": []
  },
  {
   "cell_type": "markdown",
   "id": "5d6bb07b",
   "metadata": {},
   "source": [
    "## Split Predictor and Target Varaibles"
   ]
  },
  {
   "cell_type": "code",
   "execution_count": null,
   "id": "583f1548",
   "metadata": {},
   "outputs": [],
   "source": []
  },
  {
   "cell_type": "code",
   "execution_count": null,
   "id": "ffb9b880",
   "metadata": {},
   "outputs": [],
   "source": []
  },
  {
   "cell_type": "markdown",
   "id": "42429766",
   "metadata": {},
   "source": [
    "## Split Training and Testing Data Set"
   ]
  },
  {
   "cell_type": "code",
   "execution_count": null,
   "id": "35eabe38",
   "metadata": {},
   "outputs": [],
   "source": []
  },
  {
   "cell_type": "code",
   "execution_count": null,
   "id": "979a50cc",
   "metadata": {},
   "outputs": [],
   "source": []
  },
  {
   "cell_type": "markdown",
   "id": "95e2e290",
   "metadata": {},
   "source": [
    "## Standardize the Variables"
   ]
  },
  {
   "cell_type": "code",
   "execution_count": null,
   "id": "7d7297e5",
   "metadata": {},
   "outputs": [],
   "source": []
  },
  {
   "cell_type": "code",
   "execution_count": null,
   "id": "c3294cc5",
   "metadata": {},
   "outputs": [],
   "source": []
  },
  {
   "cell_type": "markdown",
   "id": "c6bd7e08",
   "metadata": {},
   "source": [
    "# Train Model using different variations of NB [Marks:2+1]\n",
    "**Breifly describe & Justify why one of the variant performed better compared to others**"
   ]
  },
  {
   "cell_type": "code",
   "execution_count": null,
   "id": "c54e4440",
   "metadata": {},
   "outputs": [],
   "source": []
  },
  {
   "cell_type": "code",
   "execution_count": null,
   "id": "55dc8340",
   "metadata": {},
   "outputs": [],
   "source": []
  },
  {
   "cell_type": "markdown",
   "id": "bb30ac66",
   "metadata": {},
   "source": [
    "# Compare time and accuracy of different NB algos [Marks:0.5]"
   ]
  },
  {
   "cell_type": "code",
   "execution_count": null,
   "id": "8b6b10af",
   "metadata": {},
   "outputs": [],
   "source": []
  },
  {
   "cell_type": "code",
   "execution_count": null,
   "id": "aba4e591",
   "metadata": {},
   "outputs": [],
   "source": []
  },
  {
   "cell_type": "markdown",
   "id": "e89ad9dc",
   "metadata": {},
   "source": [
    "# Train Model with Logistic Regression with different solver and penalty [Marks:2+1]\n",
    "**Justify why one of the solver or penalty performed better compared to others**"
   ]
  },
  {
   "cell_type": "code",
   "execution_count": null,
   "id": "a276d9d5",
   "metadata": {},
   "outputs": [],
   "source": []
  },
  {
   "cell_type": "code",
   "execution_count": null,
   "id": "f392e501",
   "metadata": {},
   "outputs": [],
   "source": []
  },
  {
   "cell_type": "markdown",
   "id": "3d3c9589",
   "metadata": {},
   "source": [
    "# Compare time and accuracy of different Logistic Regression algos [Marks:0.5]"
   ]
  },
  {
   "cell_type": "code",
   "execution_count": null,
   "id": "7a806305",
   "metadata": {},
   "outputs": [],
   "source": []
  },
  {
   "cell_type": "code",
   "execution_count": null,
   "id": "1160eab7",
   "metadata": {},
   "outputs": [],
   "source": []
  },
  {
   "cell_type": "markdown",
   "id": "8f36cb10",
   "metadata": {},
   "source": [
    "# Plot confusion Matrix for the final model selected [Marks:1]"
   ]
  },
  {
   "cell_type": "code",
   "execution_count": null,
   "id": "c372cc7b",
   "metadata": {},
   "outputs": [],
   "source": []
  },
  {
   "cell_type": "code",
   "execution_count": null,
   "id": "9184b59e",
   "metadata": {},
   "outputs": [],
   "source": []
  }
 ],
 "metadata": {
  "kernelspec": {
   "display_name": "Python 3.8.10 64-bit",
   "language": "python",
   "name": "python3"
  },
  "language_info": {
   "codemirror_mode": {
    "name": "ipython",
    "version": 3
   },
   "file_extension": ".py",
   "mimetype": "text/x-python",
   "name": "python",
   "nbconvert_exporter": "python",
   "pygments_lexer": "ipython3",
   "version": "3.8.10"
  },
  "vscode": {
   "interpreter": {
    "hash": "916dbcbb3f70747c44a77c7bcd40155683ae19c65e1c03b4aa3499c5328201f1"
   }
  }
 },
 "nbformat": 4,
 "nbformat_minor": 5
}
