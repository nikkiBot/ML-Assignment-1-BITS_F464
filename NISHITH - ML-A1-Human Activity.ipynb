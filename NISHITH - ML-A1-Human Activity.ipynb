{
 "cells": [
  {
   "cell_type": "markdown",
   "id": "d7d7f1d8",
   "metadata": {},
   "source": [
    "# NB and Logistic Regression Project \n",
    "\n",
    "Welcome to NB and Logistic Regression Project! Go ahead and follow the directions below."
   ]
  },
  {
   "attachments": {},
   "cell_type": "markdown",
   "id": "9a44b873",
   "metadata": {},
   "source": [
    "Tasks:\n",
    "\n",
    "EDA and Basic Data Preprocessing and Preparation [Marks:2]\n",
    "\n",
    "Train Model using different variations of NB [Marks:2+1]\n",
    "\n",
    "Compare time and accuracy of different NB algorithms [Marks:0.5]\n",
    "\n",
    "Train Model with Logistic Regression with different solver and penalty [Marks:2+1]\n",
    "\n",
    "Compare time and accuracy of different Logistic Regression algorithms [Marks:0.5]\n",
    "\n",
    "Plot confusion Matrix for the final model selected [Marks:1]\n",
    "\n",
    "\n",
    "\n",
    "Above tasks are mentioned in the notebook, The notebook has empty\n",
    "code cells. Fill the empty code cells with appropriate python code.\n",
    "Convert the notebook to HTML format and upload on Canvas. Submit ONLY\n",
    "HTML format of the notebook."
   ]
  },
  {
   "cell_type": "markdown",
   "id": "7314d2dd",
   "metadata": {},
   "source": [
    "**Build a classification model which will recognise the activities through the mobile sensor like walking, walking_upstairs  ,walking_downstairs ,sitting  ,standing,lying.The topic Human Activity recognition is in research and has its own advantages like anomaly detection, for healthy diet maintenance fitness bands are used , measuring stress level ,for monitoring employees ,for heartbeat pulse rate etc. In this project we are going to focus on  the dataset which was carried out through experiments with a group of 30 volunteers wearing a smartphone.The experiments have been video-recorded to label the data manually.The  main motto is to use the dataset and work with the libraries like scikit learn and machine learning related libraries and algorithms while training.**"
   ]
  },
  {
   "cell_type": "markdown",
   "id": "ec6cd280",
   "metadata": {},
   "source": [
    "# <font color='red'>Download and submit only HTML file</font>"
   ]
  },
  {
   "cell_type": "markdown",
   "id": "fd98b33b",
   "metadata": {},
   "source": [
    "# Import Libraries\n",
    "**Import pandas,seaborn, and the usual libraries.**"
   ]
  },
  {
   "cell_type": "code",
   "execution_count": 3,
   "id": "38b8134c",
   "metadata": {},
   "outputs": [],
   "source": [
    "import pandas as pd\n",
    "import seaborn as sns"
   ]
  },
  {
   "cell_type": "code",
   "execution_count": 4,
   "id": "c548d823",
   "metadata": {},
   "outputs": [],
   "source": [
    "import numpy as np\n",
    "import matplotlib.pyplot as plt\n",
    "import sklearn\n",
    "import statsmodels as sm"
   ]
  },
  {
   "cell_type": "markdown",
   "id": "fa301959",
   "metadata": {},
   "source": [
    "# EDA and Basic Data Preprocessing and Preparation [Marks:2]\n",
    "**If trying auto EDA do it in a different notebook and only highlight important, interesting or unusual pattern that you noticed in the data**\n",
    "\n",
    "<font color='red'>Give justification for your choices and techniques used for every step</font>"
   ]
  },
  {
   "cell_type": "code",
   "execution_count": null,
   "id": "4c6b377c",
   "metadata": {},
   "outputs": [],
   "source": [
    "df = pd.read_csv('NISHITH - human_activity.csv')\n",
    "df.head()           #First five rows"
   ]
  },
  {
   "cell_type": "code",
   "execution_count": 5,
   "id": "a3c8ea60",
   "metadata": {},
   "outputs": [],
   "source": [
    "                            #Data Analysis\n",
    "# df.shape          #number of rows and columns\n",
    "# df.describe()     #Gives count, mean, stdev, min value, max value, common percentiles\n",
    "# df.info()         #Gives info on each and every column and their data types stored"
   ]
  },
  {
   "cell_type": "code",
   "execution_count": null,
   "id": "6d4ee412",
   "metadata": {},
   "outputs": [],
   "source": [
    "                            #Null Value Checker\n",
    "# df.isnull().sum()     #Gives number of Null values in each column\n",
    "# df = df.dropna(axis=0, how='any') \n",
    "# df.shape\n",
    "\"\"\" \n",
    "    axis : {0 or 'index', 1 or 'columns'}, default 0\n",
    "    Determine if rows or columns which contain missing values are removed.\n",
    "\n",
    "0, or 'index' : Drop rows which contain missing values.\n",
    "1, or 'columns' : Drop columns which contain missing value.\n",
    "how : {'any', 'all'}, default 'any'\n",
    "    Determine if row or column is removed from DataFrame, when we have at least one NA or all NA.\n",
    "\n",
    "'any' : If any NA values are present, drop that row or column.\n",
    "'all' : If all values are NA, drop that row or column.\n",
    "\n",
    "\"\"\"\n"
   ]
  },
  {
   "cell_type": "code",
   "execution_count": null,
   "id": "e06bcf79",
   "metadata": {},
   "outputs": [],
   "source": [
    "                               #PLOTTING\n",
    "#Univariate -> tells us how data in each feature is distributed\n",
    "#Bivariate -> two variables or features are analyzed together, that how they are related to each other. Generally, we use to perform to find the relationship between the dependent and independent variable\n",
    "\n",
    "\n",
    "\n",
    "# sns.histplot(x=\"tBodyAcc-mean()-X\",data=df)\n",
    "# sns.boxplot(x=\"tBodyAcc-mean()-X\", y=\"tBodyAcc-mean()-Y\",data=df)\n",
    "# sns.scatterplot( x=\"tBodyAcc-mean()-X\", y='tBodyAcc-mean()-Y', data=df,hue='tBodyAcc-mean()-Z', size='tBodyAcc-std()-X')\n",
    "plt.show()"
   ]
  },
  {
   "cell_type": "code",
   "execution_count": null,
   "id": "e8ab11a4",
   "metadata": {},
   "outputs": [],
   "source": [
    "                                #Outliers\n",
    "from sklearn.datasets import load_boston\n",
    "\n",
    "# Skewness and Kurtosis\n",
    "# df.skew()         \n",
    "# df.kurt()         #How 'tailed' the curve is\n",
    "\n"
   ]
  },
  {
   "cell_type": "markdown",
   "id": "d656cabb",
   "metadata": {},
   "source": [
    "## Null/Outlier Treatment"
   ]
  },
  {
   "cell_type": "code",
   "execution_count": null,
   "id": "78f99e57",
   "metadata": {},
   "outputs": [],
   "source": []
  },
  {
   "cell_type": "code",
   "execution_count": null,
   "id": "310ffd1f",
   "metadata": {},
   "outputs": [],
   "source": []
  },
  {
   "cell_type": "markdown",
   "id": "6fbd7ed4",
   "metadata": {},
   "source": [
    "## Remove non-Important Features"
   ]
  },
  {
   "cell_type": "code",
   "execution_count": null,
   "id": "a42d24f4",
   "metadata": {},
   "outputs": [],
   "source": []
  },
  {
   "cell_type": "code",
   "execution_count": null,
   "id": "00b4d256",
   "metadata": {},
   "outputs": [],
   "source": []
  },
  {
   "cell_type": "markdown",
   "id": "5d6bb07b",
   "metadata": {},
   "source": [
    "## Split Predictor and Target Varaibles"
   ]
  },
  {
   "cell_type": "code",
   "execution_count": null,
   "id": "583f1548",
   "metadata": {},
   "outputs": [],
   "source": []
  },
  {
   "cell_type": "code",
   "execution_count": null,
   "id": "ffb9b880",
   "metadata": {},
   "outputs": [],
   "source": []
  },
  {
   "cell_type": "markdown",
   "id": "42429766",
   "metadata": {},
   "source": [
    "## Split Training and Testing Data Set"
   ]
  },
  {
   "cell_type": "code",
   "execution_count": null,
   "id": "35eabe38",
   "metadata": {},
   "outputs": [],
   "source": []
  },
  {
   "cell_type": "code",
   "execution_count": null,
   "id": "979a50cc",
   "metadata": {},
   "outputs": [],
   "source": []
  },
  {
   "cell_type": "markdown",
   "id": "95e2e290",
   "metadata": {},
   "source": [
    "## Standardize the Variables"
   ]
  },
  {
   "cell_type": "code",
   "execution_count": null,
   "id": "7d7297e5",
   "metadata": {},
   "outputs": [],
   "source": []
  },
  {
   "cell_type": "code",
   "execution_count": null,
   "id": "c3294cc5",
   "metadata": {},
   "outputs": [],
   "source": []
  },
  {
   "cell_type": "markdown",
   "id": "c6bd7e08",
   "metadata": {},
   "source": [
    "# Train Model using different variations of NB [Marks:2+1]\n",
    "**Breifly describe & Justify why one of the variant performed better compared to others**"
   ]
  },
  {
   "cell_type": "code",
   "execution_count": null,
   "id": "c54e4440",
   "metadata": {},
   "outputs": [],
   "source": []
  },
  {
   "cell_type": "code",
   "execution_count": null,
   "id": "55dc8340",
   "metadata": {},
   "outputs": [],
   "source": []
  },
  {
   "cell_type": "markdown",
   "id": "bb30ac66",
   "metadata": {},
   "source": [
    "# Compare time and accuracy of different NB algos [Marks:0.5]"
   ]
  },
  {
   "cell_type": "code",
   "execution_count": null,
   "id": "8b6b10af",
   "metadata": {},
   "outputs": [],
   "source": []
  },
  {
   "cell_type": "code",
   "execution_count": null,
   "id": "aba4e591",
   "metadata": {},
   "outputs": [],
   "source": []
  },
  {
   "cell_type": "markdown",
   "id": "e89ad9dc",
   "metadata": {},
   "source": [
    "# Train Model with Logistic Regression with different solver and penalty [Marks:2+1]\n",
    "**Justify why one of the solver or penalty performed better compared to others**"
   ]
  },
  {
   "cell_type": "code",
   "execution_count": null,
   "id": "a276d9d5",
   "metadata": {},
   "outputs": [],
   "source": []
  },
  {
   "cell_type": "code",
   "execution_count": null,
   "id": "f392e501",
   "metadata": {},
   "outputs": [],
   "source": []
  },
  {
   "cell_type": "markdown",
   "id": "3d3c9589",
   "metadata": {},
   "source": [
    "# Compare time and accuracy of different Logistic Regression algos [Marks:0.5]"
   ]
  },
  {
   "cell_type": "code",
   "execution_count": null,
   "id": "7a806305",
   "metadata": {},
   "outputs": [],
   "source": []
  },
  {
   "cell_type": "code",
   "execution_count": null,
   "id": "1160eab7",
   "metadata": {},
   "outputs": [],
   "source": []
  },
  {
   "cell_type": "markdown",
   "id": "8f36cb10",
   "metadata": {},
   "source": [
    "# Plot confusion Matrix for the final model selected [Marks:1]"
   ]
  },
  {
   "cell_type": "code",
   "execution_count": null,
   "id": "c372cc7b",
   "metadata": {},
   "outputs": [],
   "source": []
  },
  {
   "cell_type": "code",
   "execution_count": null,
   "id": "9184b59e",
   "metadata": {},
   "outputs": [],
   "source": []
  }
 ],
 "metadata": {
  "kernelspec": {
   "display_name": "Python 3.8.10 64-bit",
   "language": "python",
   "name": "python3"
  },
  "language_info": {
   "codemirror_mode": {
    "name": "ipython",
    "version": 3
   },
   "file_extension": ".py",
   "mimetype": "text/x-python",
   "name": "python",
   "nbconvert_exporter": "python",
   "pygments_lexer": "ipython3",
   "version": "3.8.10"
  },
  "vscode": {
   "interpreter": {
    "hash": "916dbcbb3f70747c44a77c7bcd40155683ae19c65e1c03b4aa3499c5328201f1"
   }
  }
 },
 "nbformat": 4,
 "nbformat_minor": 5
}
