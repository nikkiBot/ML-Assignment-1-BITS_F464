{
 "cells": [
  {
   "cell_type": "markdown",
   "id": "d7d7f1d8",
   "metadata": {},
   "source": [
    "# NB and Logistic Regression Project \n",
    "\n",
    "Welcome to NB and Logistic Regression Project! Go ahead and follow the directions below."
   ]
  },
  {
   "attachments": {},
   "cell_type": "markdown",
   "id": "9a44b873",
   "metadata": {},
   "source": [
    "Tasks:\n",
    "\n",
    "EDA and Basic Data Preprocessing and Preparation [Marks:2]\n",
    "\n",
    "Train Model using different variations of NB [Marks:2+1]\n",
    "\n",
    "Compare time and accuracy of different NB algorithms [Marks:0.5]\n",
    "\n",
    "Train Model with Logistic Regression with different solver and penalty [Marks:2+1]\n",
    "\n",
    "Compare time and accuracy of different Logistic Regression algorithms [Marks:0.5]\n",
    "\n",
    "Plot confusion Matrix for the final model selected [Marks:1]\n",
    "\n",
    "\n",
    "\n",
    "Above tasks are mentioned in the notebook, The notebook has empty\n",
    "code cells. Fill the empty code cells with appropriate python code.\n",
    "Convert the notebook to HTML format and upload on Canvas. Submit ONLY\n",
    "HTML format of the notebook."
   ]
  },
  {
   "cell_type": "markdown",
   "id": "7314d2dd",
   "metadata": {},
   "source": [
    "**Build a classification model which will recognise the activities through the mobile sensor like walking, walking_upstairs  ,walking_downstairs ,sitting  ,standing,lying.The topic Human Activity recognition is in research and has its own advantages like anomaly detection, for healthy diet maintenance fitness bands are used , measuring stress level ,for monitoring employees ,for heartbeat pulse rate etc. In this project we are going to focus on  the dataset which was carried out through experiments with a group of 30 volunteers wearing a smartphone.The experiments have been video-recorded to label the data manually.The  main motto is to use the dataset and work with the libraries like scikit learn and machine learning related libraries and algorithms while training.**"
   ]
  },
  {
   "cell_type": "markdown",
   "id": "ec6cd280",
   "metadata": {},
   "source": [
    "# <font color='red'>Download and submit only HTML file</font>"
   ]
  },
  {
   "cell_type": "markdown",
   "id": "fd98b33b",
   "metadata": {},
   "source": [
    "# Import Libraries\n",
    "**Import pandas,seaborn, and the usual libraries.**"
   ]
  },
  {
   "cell_type": "code",
   "execution_count": 99,
   "id": "38b8134c",
   "metadata": {},
   "outputs": [],
   "source": [
    "import pandas as pd\n",
    "import seaborn as sns"
   ]
  },
  {
   "cell_type": "code",
   "execution_count": 4,
   "id": "c548d823",
   "metadata": {},
   "outputs": [],
   "source": [
    "import numpy as np\n",
    "import matplotlib.pyplot as plt\n",
    "import sklearn\n",
    "import statsmodels as sm"
   ]
  },
  {
   "cell_type": "markdown",
   "id": "fa301959",
   "metadata": {},
   "source": [
    "# EDA and Basic Data Preprocessing and Preparation [Marks:2]\n",
    "**If trying auto EDA do it in a different notebook and only highlight important, interesting or unusual pattern that you noticed in the data**\n",
    "\n",
    "<font color='red'>Give justification for your choices and techniques used for every step</font>"
   ]
  },
  {
   "cell_type": "code",
   "execution_count": 58,
   "id": "4c6b377c",
   "metadata": {},
   "outputs": [
    {
     "data": {
      "text/html": [
       "<div>\n",
       "<style scoped>\n",
       "    .dataframe tbody tr th:only-of-type {\n",
       "        vertical-align: middle;\n",
       "    }\n",
       "\n",
       "    .dataframe tbody tr th {\n",
       "        vertical-align: top;\n",
       "    }\n",
       "\n",
       "    .dataframe thead th {\n",
       "        text-align: right;\n",
       "    }\n",
       "</style>\n",
       "<table border=\"1\" class=\"dataframe\">\n",
       "  <thead>\n",
       "    <tr style=\"text-align: right;\">\n",
       "      <th></th>\n",
       "      <th>tBodyAcc-mean()-X</th>\n",
       "      <th>tBodyAcc-mean()-Y</th>\n",
       "      <th>tBodyAcc-mean()-Z</th>\n",
       "      <th>tBodyAcc-std()-X</th>\n",
       "      <th>tBodyAcc-std()-Y</th>\n",
       "      <th>tBodyAcc-std()-Z</th>\n",
       "      <th>tBodyAcc-mad()-X</th>\n",
       "      <th>tBodyAcc-mad()-Y</th>\n",
       "      <th>tBodyAcc-mad()-Z</th>\n",
       "      <th>tBodyAcc-max()-X</th>\n",
       "      <th>...</th>\n",
       "      <th>fBodyBodyGyroJerkMag-kurtosis()</th>\n",
       "      <th>angle(tBodyAccMean,gravity)</th>\n",
       "      <th>angle(tBodyAccJerkMean),gravityMean)</th>\n",
       "      <th>angle(tBodyGyroMean,gravityMean)</th>\n",
       "      <th>angle(tBodyGyroJerkMean,gravityMean)</th>\n",
       "      <th>angle(X,gravityMean)</th>\n",
       "      <th>angle(Y,gravityMean)</th>\n",
       "      <th>angle(Z,gravityMean)</th>\n",
       "      <th>subject</th>\n",
       "      <th>Activity</th>\n",
       "    </tr>\n",
       "  </thead>\n",
       "  <tbody>\n",
       "    <tr>\n",
       "      <th>0</th>\n",
       "      <td>0.288585</td>\n",
       "      <td>-0.020294</td>\n",
       "      <td>-0.132905</td>\n",
       "      <td>-0.995279</td>\n",
       "      <td>-0.983111</td>\n",
       "      <td>-0.913526</td>\n",
       "      <td>-0.995112</td>\n",
       "      <td>-0.983185</td>\n",
       "      <td>-0.923527</td>\n",
       "      <td>-0.934724</td>\n",
       "      <td>...</td>\n",
       "      <td>-0.710304</td>\n",
       "      <td>-0.112754</td>\n",
       "      <td>0.030400</td>\n",
       "      <td>-0.464761</td>\n",
       "      <td>-0.018446</td>\n",
       "      <td>-0.841247</td>\n",
       "      <td>0.179941</td>\n",
       "      <td>-0.058627</td>\n",
       "      <td>1</td>\n",
       "      <td>STANDING</td>\n",
       "    </tr>\n",
       "    <tr>\n",
       "      <th>1</th>\n",
       "      <td>0.278419</td>\n",
       "      <td>-0.016411</td>\n",
       "      <td>-0.123520</td>\n",
       "      <td>-0.998245</td>\n",
       "      <td>-0.975300</td>\n",
       "      <td>-0.960322</td>\n",
       "      <td>-0.998807</td>\n",
       "      <td>-0.974914</td>\n",
       "      <td>-0.957686</td>\n",
       "      <td>-0.943068</td>\n",
       "      <td>...</td>\n",
       "      <td>-0.861499</td>\n",
       "      <td>0.053477</td>\n",
       "      <td>-0.007435</td>\n",
       "      <td>-0.732626</td>\n",
       "      <td>0.703511</td>\n",
       "      <td>-0.844788</td>\n",
       "      <td>0.180289</td>\n",
       "      <td>-0.054317</td>\n",
       "      <td>1</td>\n",
       "      <td>STANDING</td>\n",
       "    </tr>\n",
       "    <tr>\n",
       "      <th>2</th>\n",
       "      <td>0.279653</td>\n",
       "      <td>-0.019467</td>\n",
       "      <td>-0.113462</td>\n",
       "      <td>-0.995380</td>\n",
       "      <td>-0.967187</td>\n",
       "      <td>-0.978944</td>\n",
       "      <td>-0.996520</td>\n",
       "      <td>-0.963668</td>\n",
       "      <td>-0.977469</td>\n",
       "      <td>-0.938692</td>\n",
       "      <td>...</td>\n",
       "      <td>-0.760104</td>\n",
       "      <td>-0.118559</td>\n",
       "      <td>0.177899</td>\n",
       "      <td>0.100699</td>\n",
       "      <td>0.808529</td>\n",
       "      <td>-0.848933</td>\n",
       "      <td>0.180637</td>\n",
       "      <td>-0.049118</td>\n",
       "      <td>1</td>\n",
       "      <td>STANDING</td>\n",
       "    </tr>\n",
       "    <tr>\n",
       "      <th>3</th>\n",
       "      <td>0.279174</td>\n",
       "      <td>-0.026201</td>\n",
       "      <td>-0.123283</td>\n",
       "      <td>-0.996091</td>\n",
       "      <td>-0.983403</td>\n",
       "      <td>-0.990675</td>\n",
       "      <td>-0.997099</td>\n",
       "      <td>-0.982750</td>\n",
       "      <td>-0.989302</td>\n",
       "      <td>-0.938692</td>\n",
       "      <td>...</td>\n",
       "      <td>-0.482845</td>\n",
       "      <td>-0.036788</td>\n",
       "      <td>-0.012892</td>\n",
       "      <td>0.640011</td>\n",
       "      <td>-0.485366</td>\n",
       "      <td>-0.848649</td>\n",
       "      <td>0.181935</td>\n",
       "      <td>-0.047663</td>\n",
       "      <td>1</td>\n",
       "      <td>STANDING</td>\n",
       "    </tr>\n",
       "    <tr>\n",
       "      <th>4</th>\n",
       "      <td>0.276629</td>\n",
       "      <td>-0.016570</td>\n",
       "      <td>-0.115362</td>\n",
       "      <td>-0.998139</td>\n",
       "      <td>-0.980817</td>\n",
       "      <td>-0.990482</td>\n",
       "      <td>-0.998321</td>\n",
       "      <td>-0.979672</td>\n",
       "      <td>-0.990441</td>\n",
       "      <td>-0.942469</td>\n",
       "      <td>...</td>\n",
       "      <td>-0.699205</td>\n",
       "      <td>0.123320</td>\n",
       "      <td>0.122542</td>\n",
       "      <td>0.693578</td>\n",
       "      <td>-0.615971</td>\n",
       "      <td>-0.847865</td>\n",
       "      <td>0.185151</td>\n",
       "      <td>-0.043892</td>\n",
       "      <td>1</td>\n",
       "      <td>STANDING</td>\n",
       "    </tr>\n",
       "  </tbody>\n",
       "</table>\n",
       "<p>5 rows × 563 columns</p>\n",
       "</div>"
      ],
      "text/plain": [
       "   tBodyAcc-mean()-X  tBodyAcc-mean()-Y  tBodyAcc-mean()-Z  tBodyAcc-std()-X  \\\n",
       "0           0.288585          -0.020294          -0.132905         -0.995279   \n",
       "1           0.278419          -0.016411          -0.123520         -0.998245   \n",
       "2           0.279653          -0.019467          -0.113462         -0.995380   \n",
       "3           0.279174          -0.026201          -0.123283         -0.996091   \n",
       "4           0.276629          -0.016570          -0.115362         -0.998139   \n",
       "\n",
       "   tBodyAcc-std()-Y  tBodyAcc-std()-Z  tBodyAcc-mad()-X  tBodyAcc-mad()-Y  \\\n",
       "0         -0.983111         -0.913526         -0.995112         -0.983185   \n",
       "1         -0.975300         -0.960322         -0.998807         -0.974914   \n",
       "2         -0.967187         -0.978944         -0.996520         -0.963668   \n",
       "3         -0.983403         -0.990675         -0.997099         -0.982750   \n",
       "4         -0.980817         -0.990482         -0.998321         -0.979672   \n",
       "\n",
       "   tBodyAcc-mad()-Z  tBodyAcc-max()-X  ...  fBodyBodyGyroJerkMag-kurtosis()  \\\n",
       "0         -0.923527         -0.934724  ...                        -0.710304   \n",
       "1         -0.957686         -0.943068  ...                        -0.861499   \n",
       "2         -0.977469         -0.938692  ...                        -0.760104   \n",
       "3         -0.989302         -0.938692  ...                        -0.482845   \n",
       "4         -0.990441         -0.942469  ...                        -0.699205   \n",
       "\n",
       "   angle(tBodyAccMean,gravity)  angle(tBodyAccJerkMean),gravityMean)  \\\n",
       "0                    -0.112754                              0.030400   \n",
       "1                     0.053477                             -0.007435   \n",
       "2                    -0.118559                              0.177899   \n",
       "3                    -0.036788                             -0.012892   \n",
       "4                     0.123320                              0.122542   \n",
       "\n",
       "   angle(tBodyGyroMean,gravityMean)  angle(tBodyGyroJerkMean,gravityMean)  \\\n",
       "0                         -0.464761                             -0.018446   \n",
       "1                         -0.732626                              0.703511   \n",
       "2                          0.100699                              0.808529   \n",
       "3                          0.640011                             -0.485366   \n",
       "4                          0.693578                             -0.615971   \n",
       "\n",
       "   angle(X,gravityMean)  angle(Y,gravityMean)  angle(Z,gravityMean)  subject  \\\n",
       "0             -0.841247              0.179941             -0.058627        1   \n",
       "1             -0.844788              0.180289             -0.054317        1   \n",
       "2             -0.848933              0.180637             -0.049118        1   \n",
       "3             -0.848649              0.181935             -0.047663        1   \n",
       "4             -0.847865              0.185151             -0.043892        1   \n",
       "\n",
       "   Activity  \n",
       "0  STANDING  \n",
       "1  STANDING  \n",
       "2  STANDING  \n",
       "3  STANDING  \n",
       "4  STANDING  \n",
       "\n",
       "[5 rows x 563 columns]"
      ]
     },
     "execution_count": 58,
     "metadata": {},
     "output_type": "execute_result"
    }
   ],
   "source": [
    "df = pd.read_csv('NISHITH - human_activity.csv')\n",
    "df.head()           #First five rows"
   ]
  },
  {
   "cell_type": "code",
   "execution_count": null,
   "id": "a3c8ea60",
   "metadata": {},
   "outputs": [],
   "source": [
    "                            #Data Analysis\n",
    "print(\"*********************************************\")\n",
    "df.info()         #Gives info on each and every column and their data types stored\n",
    "print(\"*********************************************\")"
   ]
  },
  {
   "cell_type": "code",
   "execution_count": 9,
   "id": "9fb5c89c",
   "metadata": {},
   "outputs": [
    {
     "data": {
      "text/plain": [
       "(7352, 563)"
      ]
     },
     "execution_count": 9,
     "metadata": {},
     "output_type": "execute_result"
    }
   ],
   "source": [
    "df.shape          #number of rows and columns"
   ]
  },
  {
   "cell_type": "code",
   "execution_count": 10,
   "id": "f706abdf",
   "metadata": {},
   "outputs": [
    {
     "data": {
      "text/html": [
       "<div>\n",
       "<style scoped>\n",
       "    .dataframe tbody tr th:only-of-type {\n",
       "        vertical-align: middle;\n",
       "    }\n",
       "\n",
       "    .dataframe tbody tr th {\n",
       "        vertical-align: top;\n",
       "    }\n",
       "\n",
       "    .dataframe thead th {\n",
       "        text-align: right;\n",
       "    }\n",
       "</style>\n",
       "<table border=\"1\" class=\"dataframe\">\n",
       "  <thead>\n",
       "    <tr style=\"text-align: right;\">\n",
       "      <th></th>\n",
       "      <th>tBodyAcc-mean()-X</th>\n",
       "      <th>tBodyAcc-mean()-Y</th>\n",
       "      <th>tBodyAcc-mean()-Z</th>\n",
       "      <th>tBodyAcc-std()-X</th>\n",
       "      <th>tBodyAcc-std()-Y</th>\n",
       "      <th>tBodyAcc-std()-Z</th>\n",
       "      <th>tBodyAcc-mad()-X</th>\n",
       "      <th>tBodyAcc-mad()-Y</th>\n",
       "      <th>tBodyAcc-mad()-Z</th>\n",
       "      <th>tBodyAcc-max()-X</th>\n",
       "      <th>...</th>\n",
       "      <th>fBodyBodyGyroJerkMag-skewness()</th>\n",
       "      <th>fBodyBodyGyroJerkMag-kurtosis()</th>\n",
       "      <th>angle(tBodyAccMean,gravity)</th>\n",
       "      <th>angle(tBodyAccJerkMean),gravityMean)</th>\n",
       "      <th>angle(tBodyGyroMean,gravityMean)</th>\n",
       "      <th>angle(tBodyGyroJerkMean,gravityMean)</th>\n",
       "      <th>angle(X,gravityMean)</th>\n",
       "      <th>angle(Y,gravityMean)</th>\n",
       "      <th>angle(Z,gravityMean)</th>\n",
       "      <th>subject</th>\n",
       "    </tr>\n",
       "  </thead>\n",
       "  <tbody>\n",
       "    <tr>\n",
       "      <th>count</th>\n",
       "      <td>7352.000000</td>\n",
       "      <td>7352.000000</td>\n",
       "      <td>7352.000000</td>\n",
       "      <td>7352.000000</td>\n",
       "      <td>7352.000000</td>\n",
       "      <td>7352.000000</td>\n",
       "      <td>7352.000000</td>\n",
       "      <td>7352.000000</td>\n",
       "      <td>7352.000000</td>\n",
       "      <td>7352.000000</td>\n",
       "      <td>...</td>\n",
       "      <td>7352.000000</td>\n",
       "      <td>7352.000000</td>\n",
       "      <td>7352.000000</td>\n",
       "      <td>7352.000000</td>\n",
       "      <td>7352.000000</td>\n",
       "      <td>7352.000000</td>\n",
       "      <td>7352.000000</td>\n",
       "      <td>7352.000000</td>\n",
       "      <td>7352.000000</td>\n",
       "      <td>7352.000000</td>\n",
       "    </tr>\n",
       "    <tr>\n",
       "      <th>mean</th>\n",
       "      <td>0.274488</td>\n",
       "      <td>-0.017695</td>\n",
       "      <td>-0.109141</td>\n",
       "      <td>-0.605438</td>\n",
       "      <td>-0.510938</td>\n",
       "      <td>-0.604754</td>\n",
       "      <td>-0.630512</td>\n",
       "      <td>-0.526907</td>\n",
       "      <td>-0.606150</td>\n",
       "      <td>-0.468604</td>\n",
       "      <td>...</td>\n",
       "      <td>-0.307009</td>\n",
       "      <td>-0.625294</td>\n",
       "      <td>0.008684</td>\n",
       "      <td>0.002186</td>\n",
       "      <td>0.008726</td>\n",
       "      <td>-0.005981</td>\n",
       "      <td>-0.489547</td>\n",
       "      <td>0.058593</td>\n",
       "      <td>-0.056515</td>\n",
       "      <td>17.413085</td>\n",
       "    </tr>\n",
       "    <tr>\n",
       "      <th>std</th>\n",
       "      <td>0.070261</td>\n",
       "      <td>0.040811</td>\n",
       "      <td>0.056635</td>\n",
       "      <td>0.448734</td>\n",
       "      <td>0.502645</td>\n",
       "      <td>0.418687</td>\n",
       "      <td>0.424073</td>\n",
       "      <td>0.485942</td>\n",
       "      <td>0.414122</td>\n",
       "      <td>0.544547</td>\n",
       "      <td>...</td>\n",
       "      <td>0.321011</td>\n",
       "      <td>0.307584</td>\n",
       "      <td>0.336787</td>\n",
       "      <td>0.448306</td>\n",
       "      <td>0.608303</td>\n",
       "      <td>0.477975</td>\n",
       "      <td>0.511807</td>\n",
       "      <td>0.297480</td>\n",
       "      <td>0.279122</td>\n",
       "      <td>8.975143</td>\n",
       "    </tr>\n",
       "    <tr>\n",
       "      <th>min</th>\n",
       "      <td>-1.000000</td>\n",
       "      <td>-1.000000</td>\n",
       "      <td>-1.000000</td>\n",
       "      <td>-1.000000</td>\n",
       "      <td>-0.999873</td>\n",
       "      <td>-1.000000</td>\n",
       "      <td>-1.000000</td>\n",
       "      <td>-1.000000</td>\n",
       "      <td>-1.000000</td>\n",
       "      <td>-1.000000</td>\n",
       "      <td>...</td>\n",
       "      <td>-0.995357</td>\n",
       "      <td>-0.999765</td>\n",
       "      <td>-0.976580</td>\n",
       "      <td>-1.000000</td>\n",
       "      <td>-1.000000</td>\n",
       "      <td>-1.000000</td>\n",
       "      <td>-1.000000</td>\n",
       "      <td>-1.000000</td>\n",
       "      <td>-1.000000</td>\n",
       "      <td>1.000000</td>\n",
       "    </tr>\n",
       "    <tr>\n",
       "      <th>25%</th>\n",
       "      <td>0.262975</td>\n",
       "      <td>-0.024863</td>\n",
       "      <td>-0.120993</td>\n",
       "      <td>-0.992754</td>\n",
       "      <td>-0.978129</td>\n",
       "      <td>-0.980233</td>\n",
       "      <td>-0.993591</td>\n",
       "      <td>-0.978162</td>\n",
       "      <td>-0.980251</td>\n",
       "      <td>-0.936219</td>\n",
       "      <td>...</td>\n",
       "      <td>-0.542602</td>\n",
       "      <td>-0.845573</td>\n",
       "      <td>-0.121527</td>\n",
       "      <td>-0.289549</td>\n",
       "      <td>-0.482273</td>\n",
       "      <td>-0.376341</td>\n",
       "      <td>-0.812065</td>\n",
       "      <td>-0.017885</td>\n",
       "      <td>-0.143414</td>\n",
       "      <td>8.000000</td>\n",
       "    </tr>\n",
       "    <tr>\n",
       "      <th>50%</th>\n",
       "      <td>0.277193</td>\n",
       "      <td>-0.017219</td>\n",
       "      <td>-0.108676</td>\n",
       "      <td>-0.946196</td>\n",
       "      <td>-0.851897</td>\n",
       "      <td>-0.859365</td>\n",
       "      <td>-0.950709</td>\n",
       "      <td>-0.857328</td>\n",
       "      <td>-0.857143</td>\n",
       "      <td>-0.881637</td>\n",
       "      <td>...</td>\n",
       "      <td>-0.343685</td>\n",
       "      <td>-0.711692</td>\n",
       "      <td>0.009509</td>\n",
       "      <td>0.008943</td>\n",
       "      <td>0.008735</td>\n",
       "      <td>-0.000368</td>\n",
       "      <td>-0.709417</td>\n",
       "      <td>0.182071</td>\n",
       "      <td>0.003181</td>\n",
       "      <td>19.000000</td>\n",
       "    </tr>\n",
       "    <tr>\n",
       "      <th>75%</th>\n",
       "      <td>0.288461</td>\n",
       "      <td>-0.010783</td>\n",
       "      <td>-0.097794</td>\n",
       "      <td>-0.242813</td>\n",
       "      <td>-0.034231</td>\n",
       "      <td>-0.262415</td>\n",
       "      <td>-0.292680</td>\n",
       "      <td>-0.066701</td>\n",
       "      <td>-0.265671</td>\n",
       "      <td>-0.017129</td>\n",
       "      <td>...</td>\n",
       "      <td>-0.126979</td>\n",
       "      <td>-0.503878</td>\n",
       "      <td>0.150865</td>\n",
       "      <td>0.292861</td>\n",
       "      <td>0.506187</td>\n",
       "      <td>0.359368</td>\n",
       "      <td>-0.509079</td>\n",
       "      <td>0.248353</td>\n",
       "      <td>0.107659</td>\n",
       "      <td>26.000000</td>\n",
       "    </tr>\n",
       "    <tr>\n",
       "      <th>max</th>\n",
       "      <td>1.000000</td>\n",
       "      <td>1.000000</td>\n",
       "      <td>1.000000</td>\n",
       "      <td>1.000000</td>\n",
       "      <td>0.916238</td>\n",
       "      <td>1.000000</td>\n",
       "      <td>1.000000</td>\n",
       "      <td>0.967664</td>\n",
       "      <td>1.000000</td>\n",
       "      <td>1.000000</td>\n",
       "      <td>...</td>\n",
       "      <td>0.989538</td>\n",
       "      <td>0.956845</td>\n",
       "      <td>1.000000</td>\n",
       "      <td>1.000000</td>\n",
       "      <td>0.998702</td>\n",
       "      <td>0.996078</td>\n",
       "      <td>1.000000</td>\n",
       "      <td>0.478157</td>\n",
       "      <td>1.000000</td>\n",
       "      <td>30.000000</td>\n",
       "    </tr>\n",
       "  </tbody>\n",
       "</table>\n",
       "<p>8 rows × 562 columns</p>\n",
       "</div>"
      ],
      "text/plain": [
       "       tBodyAcc-mean()-X  tBodyAcc-mean()-Y  tBodyAcc-mean()-Z  \\\n",
       "count        7352.000000        7352.000000        7352.000000   \n",
       "mean            0.274488          -0.017695          -0.109141   \n",
       "std             0.070261           0.040811           0.056635   \n",
       "min            -1.000000          -1.000000          -1.000000   \n",
       "25%             0.262975          -0.024863          -0.120993   \n",
       "50%             0.277193          -0.017219          -0.108676   \n",
       "75%             0.288461          -0.010783          -0.097794   \n",
       "max             1.000000           1.000000           1.000000   \n",
       "\n",
       "       tBodyAcc-std()-X  tBodyAcc-std()-Y  tBodyAcc-std()-Z  tBodyAcc-mad()-X  \\\n",
       "count       7352.000000       7352.000000       7352.000000       7352.000000   \n",
       "mean          -0.605438         -0.510938         -0.604754         -0.630512   \n",
       "std            0.448734          0.502645          0.418687          0.424073   \n",
       "min           -1.000000         -0.999873         -1.000000         -1.000000   \n",
       "25%           -0.992754         -0.978129         -0.980233         -0.993591   \n",
       "50%           -0.946196         -0.851897         -0.859365         -0.950709   \n",
       "75%           -0.242813         -0.034231         -0.262415         -0.292680   \n",
       "max            1.000000          0.916238          1.000000          1.000000   \n",
       "\n",
       "       tBodyAcc-mad()-Y  tBodyAcc-mad()-Z  tBodyAcc-max()-X  ...  \\\n",
       "count       7352.000000       7352.000000       7352.000000  ...   \n",
       "mean          -0.526907         -0.606150         -0.468604  ...   \n",
       "std            0.485942          0.414122          0.544547  ...   \n",
       "min           -1.000000         -1.000000         -1.000000  ...   \n",
       "25%           -0.978162         -0.980251         -0.936219  ...   \n",
       "50%           -0.857328         -0.857143         -0.881637  ...   \n",
       "75%           -0.066701         -0.265671         -0.017129  ...   \n",
       "max            0.967664          1.000000          1.000000  ...   \n",
       "\n",
       "       fBodyBodyGyroJerkMag-skewness()  fBodyBodyGyroJerkMag-kurtosis()  \\\n",
       "count                      7352.000000                      7352.000000   \n",
       "mean                         -0.307009                        -0.625294   \n",
       "std                           0.321011                         0.307584   \n",
       "min                          -0.995357                        -0.999765   \n",
       "25%                          -0.542602                        -0.845573   \n",
       "50%                          -0.343685                        -0.711692   \n",
       "75%                          -0.126979                        -0.503878   \n",
       "max                           0.989538                         0.956845   \n",
       "\n",
       "       angle(tBodyAccMean,gravity)  angle(tBodyAccJerkMean),gravityMean)  \\\n",
       "count                  7352.000000                           7352.000000   \n",
       "mean                      0.008684                              0.002186   \n",
       "std                       0.336787                              0.448306   \n",
       "min                      -0.976580                             -1.000000   \n",
       "25%                      -0.121527                             -0.289549   \n",
       "50%                       0.009509                              0.008943   \n",
       "75%                       0.150865                              0.292861   \n",
       "max                       1.000000                              1.000000   \n",
       "\n",
       "       angle(tBodyGyroMean,gravityMean)  angle(tBodyGyroJerkMean,gravityMean)  \\\n",
       "count                       7352.000000                           7352.000000   \n",
       "mean                           0.008726                             -0.005981   \n",
       "std                            0.608303                              0.477975   \n",
       "min                           -1.000000                             -1.000000   \n",
       "25%                           -0.482273                             -0.376341   \n",
       "50%                            0.008735                             -0.000368   \n",
       "75%                            0.506187                              0.359368   \n",
       "max                            0.998702                              0.996078   \n",
       "\n",
       "       angle(X,gravityMean)  angle(Y,gravityMean)  angle(Z,gravityMean)  \\\n",
       "count           7352.000000           7352.000000           7352.000000   \n",
       "mean              -0.489547              0.058593             -0.056515   \n",
       "std                0.511807              0.297480              0.279122   \n",
       "min               -1.000000             -1.000000             -1.000000   \n",
       "25%               -0.812065             -0.017885             -0.143414   \n",
       "50%               -0.709417              0.182071              0.003181   \n",
       "75%               -0.509079              0.248353              0.107659   \n",
       "max                1.000000              0.478157              1.000000   \n",
       "\n",
       "           subject  \n",
       "count  7352.000000  \n",
       "mean     17.413085  \n",
       "std       8.975143  \n",
       "min       1.000000  \n",
       "25%       8.000000  \n",
       "50%      19.000000  \n",
       "75%      26.000000  \n",
       "max      30.000000  \n",
       "\n",
       "[8 rows x 562 columns]"
      ]
     },
     "execution_count": 10,
     "metadata": {},
     "output_type": "execute_result"
    }
   ],
   "source": [
    "df.describe()     #Gives count, mean, stdev, min value, max value, common percentiles"
   ]
  },
  {
   "cell_type": "code",
   "execution_count": null,
   "id": "24cfac03",
   "metadata": {},
   "outputs": [],
   "source": [
    "df.describe().shape"
   ]
  },
  {
   "cell_type": "code",
   "execution_count": 6,
   "id": "0aa62427",
   "metadata": {},
   "outputs": [
    {
     "data": {
      "application/vnd.jupyter.widget-view+json": {
       "model_id": "3d050058d2364fcc89176cac593c8243",
       "version_major": 2,
       "version_minor": 0
      },
      "text/plain": [
       "  0%|          | 0/727963 [00:00<?, ?it/s]"
      ]
     },
     "metadata": {},
     "output_type": "display_data"
    },
    {
     "name": "stderr",
     "output_type": "stream",
     "text": [
      "/home/nishith/.local/lib/python3.8/site-packages/dask/core.py:119: RuntimeWarning: invalid value encountered in divide\n",
      "  return func(*(_execute_task(a, cache) for a in args))\n",
      "E-1019 (DUPLICATE_FACTORS): FactorRange must specify a unique list of categorical factors for an axis: duplicate factors found: 'tGravityAcc-m...)-X', 'tGravityAcc-m...)-Y', 'tGravityAcc-m...)-Z', 'tGravityAcc-e...)-X', 'tGravityAcc-e...)-Y', 'tGravityAcc-e...)-Z', 'tBodyAccJerk-...)-X', 'tBodyAccJerk-...)-Y', 'tBodyAccJerk-...)-Z', 'tBodyGyroJerk...)-X', 'tBodyGyroJerk...)-Y', 'tBodyGyroJerk...)-Z', 'tBodyGyroJerk...a()', 'tBodyAccMag-e...y()', 'tGravityAccMa...n()', 'tGravityAccMa...d()', 'tGravityAccMa...y()', 'tBodyAccJerkM...n()', 'tBodyAccJerkM...d()', 'tBodyAccJerkM...y()', 'tBodyGyroMag-...y()', 'tBodyGyroJerk...n()', 'tBodyGyroJerk...d()', 'tBodyGyroJerk...y()', 'fBodyAcc-band...,16', 'fBodyAcc-band...,24', 'fBodyAcc-band...,32', 'fBodyAcc-band...,48', 'fBodyAcc-band...,64', 'fBodyAcc-band...8.1', 'fBodyAcc-band...6.1', 'fBodyAcc-band...4.1', 'fBodyAcc-band...2.1', 'fBodyAcc-band...8.2', 'fBodyAcc-band...6.2', 'fBodyAcc-band...4.2', 'fBodyAcc-band...2.2', 'fBodyAccJerk-...)-X', 'fBodyAccJerk-...)-Y', 'fBodyAccJerk-...)-Z', 'fBodyAccJerk-...,16', 'fBodyAccJerk-...,24', 'fBodyAccJerk-...,32', 'fBodyAccJerk-...,48', 'fBodyAccJerk-...,64', 'fBodyAccJerk-...8.1', 'fBodyAccJerk-...6.1', 'fBodyAccJerk-...4.1', 'fBodyAccJerk-...2.1', 'fBodyAccJerk-...8.2', 'fBodyAccJerk-...6.2', 'fBodyAccJerk-...4.2', 'fBodyAccJerk-...2.2', 'fBodyGyro-ban...,16', 'fBodyGyro-ban...,24', 'fBodyGyro-ban...,32', 'fBodyGyro-ban...,48', 'fBodyGyro-ban...,64', 'fBodyGyro-ban...8.1', 'fBodyGyro-ban...6.1', 'fBodyGyro-ban...4.1', 'fBodyGyro-ban...2.1', 'fBodyGyro-ban...8.2', 'fBodyGyro-ban...6.2', 'fBodyGyro-ban...4.2', 'fBodyGyro-ban...2.2', 'fBodyAccMag-e...y()', 'fBodyBodyAccJ...n()', 'fBodyBodyAccJ...d()', 'fBodyBodyAccJ...y()', 'fBodyBodyAccJ...s()', 'fBodyBodyGyro...n()', 'fBodyBodyGyro...d()', 'fBodyBodyGyro...x()', 'fBodyBodyGyro...a()', 'fBodyBodyGyro...y()', 'fBodyBodyGyro...r()', 'fBodyBodyGyro...nds', 'fBodyBodyGyro...q()', 'fBodyBodyGyro...s()', 'angle(tBodyGy...an)'\n"
     ]
    }
   ],
   "source": [
    "#Dataprep Part\n",
    "\n",
    "from dataprep.eda import plot\n",
    "from dataprep.eda import create_report\n",
    "# plot(df)\n",
    "report = create_report(df)"
   ]
  },
  {
   "cell_type": "code",
   "execution_count": 7,
   "id": "e8ab11a4",
   "metadata": {},
   "outputs": [
    {
     "name": "stdout",
     "output_type": "stream",
     "text": [
      "Report has been saved to report_01.html!\n"
     ]
    }
   ],
   "source": [
    "report.save('report_01.html')"
   ]
  },
  {
   "cell_type": "markdown",
   "id": "d656cabb",
   "metadata": {},
   "source": [
    "## Null/Outlier Treatment"
   ]
  },
  {
   "cell_type": "code",
   "execution_count": 7,
   "id": "78f99e57",
   "metadata": {},
   "outputs": [
    {
     "data": {
      "text/plain": [
       "tBodyAcc-mean()-X       0\n",
       "tBodyAcc-mean()-Y       0\n",
       "tBodyAcc-mean()-Z       0\n",
       "tBodyAcc-std()-X        0\n",
       "tBodyAcc-std()-Y        0\n",
       "                       ..\n",
       "angle(X,gravityMean)    0\n",
       "angle(Y,gravityMean)    0\n",
       "angle(Z,gravityMean)    0\n",
       "subject                 0\n",
       "Activity                0\n",
       "Length: 563, dtype: int64"
      ]
     },
     "execution_count": 7,
     "metadata": {},
     "output_type": "execute_result"
    }
   ],
   "source": [
    "df.isnull().sum()"
   ]
  },
  {
   "attachments": {},
   "cell_type": "markdown",
   "id": "2ae5dd1d",
   "metadata": {},
   "source": [
    "We see that there are no Null values, we proceed with Finding outliers"
   ]
  },
  {
   "cell_type": "code",
   "execution_count": null,
   "id": "c14ce4ed",
   "metadata": {},
   "outputs": [],
   "source": [
    "def boxPlot(df,feature):\n",
    "        df.boxplot(column = [feature])\n",
    "        plt.grid(False)\n",
    "        plt.show()\n",
    "\n",
    "# outliers = []\n",
    "# # @brief returns a list of indices of all outliers\n",
    "# # @param dataframe and the feature\n",
    "# def detect_outliers_iqr(df):\n",
    "#     df = sorted(df)\n",
    "#     q1 = np.percentile(df, 25)\n",
    "#     q3 = np.percentile(df, 75)\n",
    "#     # print(q1, q3)\n",
    "#     IQR = q3-q1\n",
    "#     lwr_bound = q1-(1.5*IQR)\n",
    "#     upr_bound = q3+(1.5*IQR)\n",
    "#     # print(lwr_bound, upr_bound)\n",
    "#     for i in df: \n",
    "#         if (i<lwr_bound or i>upr_bound):\n",
    "#             outliers.append(i)\n",
    "#     return outliers\n",
    "\n",
    "# @brief returns a list of indices of all outliers\n",
    "# @param dataframe and the feature\n",
    "def outliers(df,feature):\n",
    "    Q1 = df[feature].quantile(0.25)\n",
    "    Q3 = df[feature].quantile(0.75)\n",
    "    IQR = Q3 - Q1 \n",
    "    lowerBound = Q1 - 1.5 * IQR\n",
    "    upperBound = Q3 + 1.5 * IQR\n",
    "\n",
    "    lst = df.index[ (df[feature] < lowerBound ) | (df[feature] > upperBound) ]\n",
    "    return lst \n"
   ]
  },
  {
   "cell_type": "code",
   "execution_count": null,
   "id": "310ffd1f",
   "metadata": {},
   "outputs": [],
   "source": [
    "#Checking if the function works\n",
    "boxPlot(df,\"tBodyAcc-mean()-X\")"
   ]
  },
  {
   "cell_type": "code",
   "execution_count": 69,
   "id": "f818095e",
   "metadata": {},
   "outputs": [
    {
     "name": "stdout",
     "output_type": "stream",
     "text": [
      "['tBodyAcc-mean()-X', 'tBodyAcc-mean()-Y', 'tBodyAcc-mean()-Z', 'tBodyAcc-std()-X', 'tBodyAcc-std()-Y', 'tBodyAcc-std()-Z', 'tBodyAcc-mad()-X', 'tBodyAcc-mad()-Y', 'tBodyAcc-mad()-Z', 'tBodyAcc-max()-X', 'tBodyAcc-max()-Y', 'tBodyAcc-max()-Z', 'tBodyAcc-min()-X', 'tBodyAcc-min()-Y', 'tBodyAcc-min()-Z', 'tBodyAcc-sma()', 'tBodyAcc-energy()-X', 'tBodyAcc-energy()-Y', 'tBodyAcc-energy()-Z', 'tBodyAcc-iqr()-X', 'tBodyAcc-iqr()-Y', 'tBodyAcc-iqr()-Z', 'tBodyAcc-entropy()-X', 'tBodyAcc-entropy()-Y', 'tBodyAcc-entropy()-Z', 'tBodyAcc-arCoeff()-X,1', 'tBodyAcc-arCoeff()-X,2', 'tBodyAcc-arCoeff()-X,3', 'tBodyAcc-arCoeff()-X,4', 'tBodyAcc-arCoeff()-Y,1', 'tBodyAcc-arCoeff()-Y,2', 'tBodyAcc-arCoeff()-Y,3', 'tBodyAcc-arCoeff()-Y,4', 'tBodyAcc-arCoeff()-Z,1', 'tBodyAcc-arCoeff()-Z,2', 'tBodyAcc-arCoeff()-Z,3', 'tBodyAcc-arCoeff()-Z,4', 'tBodyAcc-correlation()-X,Y', 'tBodyAcc-correlation()-X,Z', 'tBodyAcc-correlation()-Y,Z', 'tGravityAcc-mean()-X', 'tGravityAcc-mean()-Y', 'tGravityAcc-mean()-Z', 'tGravityAcc-std()-X', 'tGravityAcc-std()-Y', 'tGravityAcc-std()-Z', 'tGravityAcc-mad()-X', 'tGravityAcc-mad()-Y', 'tGravityAcc-mad()-Z', 'tGravityAcc-max()-X', 'tGravityAcc-max()-Y', 'tGravityAcc-max()-Z', 'tGravityAcc-min()-X', 'tGravityAcc-min()-Y', 'tGravityAcc-min()-Z', 'tGravityAcc-sma()', 'tGravityAcc-energy()-X', 'tGravityAcc-energy()-Y', 'tGravityAcc-energy()-Z', 'tGravityAcc-iqr()-X', 'tGravityAcc-iqr()-Y', 'tGravityAcc-iqr()-Z', 'tGravityAcc-entropy()-X', 'tGravityAcc-entropy()-Y', 'tGravityAcc-entropy()-Z', 'tGravityAcc-arCoeff()-X,1', 'tGravityAcc-arCoeff()-X,2', 'tGravityAcc-arCoeff()-X,3', 'tGravityAcc-arCoeff()-X,4', 'tGravityAcc-arCoeff()-Y,1', 'tGravityAcc-arCoeff()-Y,2', 'tGravityAcc-arCoeff()-Y,3', 'tGravityAcc-arCoeff()-Y,4', 'tGravityAcc-arCoeff()-Z,1', 'tGravityAcc-arCoeff()-Z,2', 'tGravityAcc-arCoeff()-Z,3', 'tGravityAcc-arCoeff()-Z,4', 'tGravityAcc-correlation()-X,Y', 'tGravityAcc-correlation()-X,Z', 'tGravityAcc-correlation()-Y,Z', 'tBodyAccJerk-mean()-X', 'tBodyAccJerk-mean()-Y', 'tBodyAccJerk-mean()-Z', 'tBodyAccJerk-std()-X', 'tBodyAccJerk-std()-Y', 'tBodyAccJerk-std()-Z', 'tBodyAccJerk-mad()-X', 'tBodyAccJerk-mad()-Y', 'tBodyAccJerk-mad()-Z', 'tBodyAccJerk-max()-X', 'tBodyAccJerk-max()-Y', 'tBodyAccJerk-max()-Z', 'tBodyAccJerk-min()-X', 'tBodyAccJerk-min()-Y', 'tBodyAccJerk-min()-Z', 'tBodyAccJerk-sma()', 'tBodyAccJerk-energy()-X', 'tBodyAccJerk-energy()-Y', 'tBodyAccJerk-energy()-Z', 'tBodyAccJerk-iqr()-X', 'tBodyAccJerk-iqr()-Y', 'tBodyAccJerk-iqr()-Z', 'tBodyAccJerk-entropy()-X', 'tBodyAccJerk-entropy()-Y', 'tBodyAccJerk-entropy()-Z', 'tBodyAccJerk-arCoeff()-X,1', 'tBodyAccJerk-arCoeff()-X,2', 'tBodyAccJerk-arCoeff()-X,3', 'tBodyAccJerk-arCoeff()-X,4', 'tBodyAccJerk-arCoeff()-Y,1', 'tBodyAccJerk-arCoeff()-Y,2', 'tBodyAccJerk-arCoeff()-Y,3', 'tBodyAccJerk-arCoeff()-Y,4', 'tBodyAccJerk-arCoeff()-Z,1', 'tBodyAccJerk-arCoeff()-Z,2', 'tBodyAccJerk-arCoeff()-Z,3', 'tBodyAccJerk-arCoeff()-Z,4', 'tBodyAccJerk-correlation()-X,Y', 'tBodyAccJerk-correlation()-X,Z', 'tBodyAccJerk-correlation()-Y,Z', 'tBodyGyro-mean()-X', 'tBodyGyro-mean()-Y', 'tBodyGyro-mean()-Z', 'tBodyGyro-std()-X', 'tBodyGyro-std()-Y', 'tBodyGyro-std()-Z', 'tBodyGyro-mad()-X', 'tBodyGyro-mad()-Y', 'tBodyGyro-mad()-Z', 'tBodyGyro-max()-X', 'tBodyGyro-max()-Y', 'tBodyGyro-max()-Z', 'tBodyGyro-min()-X', 'tBodyGyro-min()-Y', 'tBodyGyro-min()-Z', 'tBodyGyro-sma()', 'tBodyGyro-energy()-X', 'tBodyGyro-energy()-Y', 'tBodyGyro-energy()-Z', 'tBodyGyro-iqr()-X', 'tBodyGyro-iqr()-Y', 'tBodyGyro-iqr()-Z', 'tBodyGyro-entropy()-X', 'tBodyGyro-entropy()-Y', 'tBodyGyro-entropy()-Z', 'tBodyGyro-arCoeff()-X,1', 'tBodyGyro-arCoeff()-X,2', 'tBodyGyro-arCoeff()-X,3', 'tBodyGyro-arCoeff()-X,4', 'tBodyGyro-arCoeff()-Y,1', 'tBodyGyro-arCoeff()-Y,2', 'tBodyGyro-arCoeff()-Y,3', 'tBodyGyro-arCoeff()-Y,4', 'tBodyGyro-arCoeff()-Z,1', 'tBodyGyro-arCoeff()-Z,2', 'tBodyGyro-arCoeff()-Z,3', 'tBodyGyro-arCoeff()-Z,4', 'tBodyGyro-correlation()-X,Y', 'tBodyGyro-correlation()-X,Z', 'tBodyGyro-correlation()-Y,Z', 'tBodyGyroJerk-mean()-X', 'tBodyGyroJerk-mean()-Y', 'tBodyGyroJerk-mean()-Z', 'tBodyGyroJerk-std()-X', 'tBodyGyroJerk-std()-Y', 'tBodyGyroJerk-std()-Z', 'tBodyGyroJerk-mad()-X', 'tBodyGyroJerk-mad()-Y', 'tBodyGyroJerk-mad()-Z', 'tBodyGyroJerk-max()-X', 'tBodyGyroJerk-max()-Y', 'tBodyGyroJerk-max()-Z', 'tBodyGyroJerk-min()-X', 'tBodyGyroJerk-min()-Y', 'tBodyGyroJerk-min()-Z', 'tBodyGyroJerk-sma()', 'tBodyGyroJerk-energy()-X', 'tBodyGyroJerk-energy()-Y', 'tBodyGyroJerk-energy()-Z', 'tBodyGyroJerk-iqr()-X', 'tBodyGyroJerk-iqr()-Y', 'tBodyGyroJerk-iqr()-Z', 'tBodyGyroJerk-entropy()-X', 'tBodyGyroJerk-entropy()-Y', 'tBodyGyroJerk-entropy()-Z', 'tBodyGyroJerk-arCoeff()-X,1', 'tBodyGyroJerk-arCoeff()-X,2', 'tBodyGyroJerk-arCoeff()-X,3', 'tBodyGyroJerk-arCoeff()-X,4', 'tBodyGyroJerk-arCoeff()-Y,1', 'tBodyGyroJerk-arCoeff()-Y,2', 'tBodyGyroJerk-arCoeff()-Y,3', 'tBodyGyroJerk-arCoeff()-Y,4', 'tBodyGyroJerk-arCoeff()-Z,1', 'tBodyGyroJerk-arCoeff()-Z,2', 'tBodyGyroJerk-arCoeff()-Z,3', 'tBodyGyroJerk-arCoeff()-Z,4', 'tBodyGyroJerk-correlation()-X,Y', 'tBodyGyroJerk-correlation()-X,Z', 'tBodyGyroJerk-correlation()-Y,Z', 'tBodyAccMag-mean()', 'tBodyAccMag-std()', 'tBodyAccMag-mad()', 'tBodyAccMag-max()', 'tBodyAccMag-min()', 'tBodyAccMag-sma()', 'tBodyAccMag-energy()', 'tBodyAccMag-iqr()', 'tBodyAccMag-entropy()', 'tBodyAccMag-arCoeff()1', 'tBodyAccMag-arCoeff()2', 'tBodyAccMag-arCoeff()3', 'tBodyAccMag-arCoeff()4', 'tGravityAccMag-mean()', 'tGravityAccMag-std()', 'tGravityAccMag-mad()', 'tGravityAccMag-max()', 'tGravityAccMag-min()', 'tGravityAccMag-sma()', 'tGravityAccMag-energy()', 'tGravityAccMag-iqr()', 'tGravityAccMag-entropy()', 'tGravityAccMag-arCoeff()1', 'tGravityAccMag-arCoeff()2', 'tGravityAccMag-arCoeff()3', 'tGravityAccMag-arCoeff()4', 'tBodyAccJerkMag-mean()', 'tBodyAccJerkMag-std()', 'tBodyAccJerkMag-mad()', 'tBodyAccJerkMag-max()', 'tBodyAccJerkMag-min()', 'tBodyAccJerkMag-sma()', 'tBodyAccJerkMag-energy()', 'tBodyAccJerkMag-iqr()', 'tBodyAccJerkMag-entropy()', 'tBodyAccJerkMag-arCoeff()1', 'tBodyAccJerkMag-arCoeff()2', 'tBodyAccJerkMag-arCoeff()3', 'tBodyAccJerkMag-arCoeff()4', 'tBodyGyroMag-mean()', 'tBodyGyroMag-std()', 'tBodyGyroMag-mad()', 'tBodyGyroMag-max()', 'tBodyGyroMag-min()', 'tBodyGyroMag-sma()', 'tBodyGyroMag-energy()', 'tBodyGyroMag-iqr()', 'tBodyGyroMag-entropy()', 'tBodyGyroMag-arCoeff()1', 'tBodyGyroMag-arCoeff()2', 'tBodyGyroMag-arCoeff()3', 'tBodyGyroMag-arCoeff()4', 'tBodyGyroJerkMag-mean()', 'tBodyGyroJerkMag-std()', 'tBodyGyroJerkMag-mad()', 'tBodyGyroJerkMag-max()', 'tBodyGyroJerkMag-min()', 'tBodyGyroJerkMag-sma()', 'tBodyGyroJerkMag-energy()', 'tBodyGyroJerkMag-iqr()', 'tBodyGyroJerkMag-entropy()', 'tBodyGyroJerkMag-arCoeff()1', 'tBodyGyroJerkMag-arCoeff()2', 'tBodyGyroJerkMag-arCoeff()3', 'tBodyGyroJerkMag-arCoeff()4', 'fBodyAcc-mean()-X', 'fBodyAcc-mean()-Y', 'fBodyAcc-mean()-Z', 'fBodyAcc-std()-X', 'fBodyAcc-std()-Y', 'fBodyAcc-std()-Z', 'fBodyAcc-mad()-X', 'fBodyAcc-mad()-Y', 'fBodyAcc-mad()-Z', 'fBodyAcc-max()-X', 'fBodyAcc-max()-Y', 'fBodyAcc-max()-Z', 'fBodyAcc-min()-X', 'fBodyAcc-min()-Y', 'fBodyAcc-min()-Z', 'fBodyAcc-sma()', 'fBodyAcc-energy()-X', 'fBodyAcc-energy()-Y', 'fBodyAcc-energy()-Z', 'fBodyAcc-iqr()-X', 'fBodyAcc-iqr()-Y', 'fBodyAcc-iqr()-Z', 'fBodyAcc-entropy()-X', 'fBodyAcc-entropy()-Y', 'fBodyAcc-entropy()-Z', 'fBodyAcc-maxInds-X', 'fBodyAcc-maxInds-Y', 'fBodyAcc-maxInds-Z', 'fBodyAcc-meanFreq()-X', 'fBodyAcc-meanFreq()-Y', 'fBodyAcc-meanFreq()-Z', 'fBodyAcc-skewness()-X', 'fBodyAcc-kurtosis()-X', 'fBodyAcc-skewness()-Y', 'fBodyAcc-kurtosis()-Y', 'fBodyAcc-skewness()-Z', 'fBodyAcc-kurtosis()-Z', 'fBodyAcc-bandsEnergy()-1,8', 'fBodyAcc-bandsEnergy()-9,16', 'fBodyAcc-bandsEnergy()-17,24', 'fBodyAcc-bandsEnergy()-25,32', 'fBodyAcc-bandsEnergy()-33,40', 'fBodyAcc-bandsEnergy()-41,48', 'fBodyAcc-bandsEnergy()-49,56', 'fBodyAcc-bandsEnergy()-57,64', 'fBodyAcc-bandsEnergy()-1,16', 'fBodyAcc-bandsEnergy()-17,32', 'fBodyAcc-bandsEnergy()-33,48', 'fBodyAcc-bandsEnergy()-49,64', 'fBodyAcc-bandsEnergy()-1,24', 'fBodyAcc-bandsEnergy()-25,48', 'fBodyAcc-bandsEnergy()-1,8.1', 'fBodyAcc-bandsEnergy()-9,16.1', 'fBodyAcc-bandsEnergy()-17,24.1', 'fBodyAcc-bandsEnergy()-25,32.1', 'fBodyAcc-bandsEnergy()-33,40.1', 'fBodyAcc-bandsEnergy()-41,48.1', 'fBodyAcc-bandsEnergy()-49,56.1', 'fBodyAcc-bandsEnergy()-57,64.1', 'fBodyAcc-bandsEnergy()-1,16.1', 'fBodyAcc-bandsEnergy()-17,32.1', 'fBodyAcc-bandsEnergy()-33,48.1', 'fBodyAcc-bandsEnergy()-49,64.1', 'fBodyAcc-bandsEnergy()-1,24.1', 'fBodyAcc-bandsEnergy()-25,48.1', 'fBodyAcc-bandsEnergy()-1,8.2', 'fBodyAcc-bandsEnergy()-9,16.2', 'fBodyAcc-bandsEnergy()-17,24.2', 'fBodyAcc-bandsEnergy()-25,32.2', 'fBodyAcc-bandsEnergy()-33,40.2', 'fBodyAcc-bandsEnergy()-41,48.2', 'fBodyAcc-bandsEnergy()-49,56.2', 'fBodyAcc-bandsEnergy()-57,64.2', 'fBodyAcc-bandsEnergy()-1,16.2', 'fBodyAcc-bandsEnergy()-17,32.2', 'fBodyAcc-bandsEnergy()-33,48.2', 'fBodyAcc-bandsEnergy()-49,64.2', 'fBodyAcc-bandsEnergy()-1,24.2', 'fBodyAcc-bandsEnergy()-25,48.2', 'fBodyAccJerk-mean()-X', 'fBodyAccJerk-mean()-Y', 'fBodyAccJerk-mean()-Z', 'fBodyAccJerk-std()-X', 'fBodyAccJerk-std()-Y', 'fBodyAccJerk-std()-Z', 'fBodyAccJerk-mad()-X', 'fBodyAccJerk-mad()-Y', 'fBodyAccJerk-mad()-Z', 'fBodyAccJerk-max()-X', 'fBodyAccJerk-max()-Y', 'fBodyAccJerk-max()-Z', 'fBodyAccJerk-min()-X', 'fBodyAccJerk-min()-Y', 'fBodyAccJerk-min()-Z', 'fBodyAccJerk-sma()', 'fBodyAccJerk-energy()-X', 'fBodyAccJerk-energy()-Y', 'fBodyAccJerk-energy()-Z', 'fBodyAccJerk-iqr()-X', 'fBodyAccJerk-iqr()-Y', 'fBodyAccJerk-iqr()-Z', 'fBodyAccJerk-entropy()-X', 'fBodyAccJerk-entropy()-Y', 'fBodyAccJerk-entropy()-Z', 'fBodyAccJerk-maxInds-X', 'fBodyAccJerk-maxInds-Y', 'fBodyAccJerk-maxInds-Z', 'fBodyAccJerk-meanFreq()-X', 'fBodyAccJerk-meanFreq()-Y', 'fBodyAccJerk-meanFreq()-Z', 'fBodyAccJerk-skewness()-X', 'fBodyAccJerk-kurtosis()-X', 'fBodyAccJerk-skewness()-Y', 'fBodyAccJerk-kurtosis()-Y', 'fBodyAccJerk-skewness()-Z', 'fBodyAccJerk-kurtosis()-Z', 'fBodyAccJerk-bandsEnergy()-1,8', 'fBodyAccJerk-bandsEnergy()-9,16', 'fBodyAccJerk-bandsEnergy()-17,24', 'fBodyAccJerk-bandsEnergy()-25,32', 'fBodyAccJerk-bandsEnergy()-33,40', 'fBodyAccJerk-bandsEnergy()-41,48', 'fBodyAccJerk-bandsEnergy()-49,56', 'fBodyAccJerk-bandsEnergy()-57,64', 'fBodyAccJerk-bandsEnergy()-1,16', 'fBodyAccJerk-bandsEnergy()-17,32', 'fBodyAccJerk-bandsEnergy()-33,48', 'fBodyAccJerk-bandsEnergy()-49,64', 'fBodyAccJerk-bandsEnergy()-1,24', 'fBodyAccJerk-bandsEnergy()-25,48', 'fBodyAccJerk-bandsEnergy()-1,8.1', 'fBodyAccJerk-bandsEnergy()-9,16.1', 'fBodyAccJerk-bandsEnergy()-17,24.1', 'fBodyAccJerk-bandsEnergy()-25,32.1', 'fBodyAccJerk-bandsEnergy()-33,40.1', 'fBodyAccJerk-bandsEnergy()-41,48.1', 'fBodyAccJerk-bandsEnergy()-49,56.1', 'fBodyAccJerk-bandsEnergy()-57,64.1', 'fBodyAccJerk-bandsEnergy()-1,16.1', 'fBodyAccJerk-bandsEnergy()-17,32.1', 'fBodyAccJerk-bandsEnergy()-33,48.1', 'fBodyAccJerk-bandsEnergy()-49,64.1', 'fBodyAccJerk-bandsEnergy()-1,24.1', 'fBodyAccJerk-bandsEnergy()-25,48.1', 'fBodyAccJerk-bandsEnergy()-1,8.2', 'fBodyAccJerk-bandsEnergy()-9,16.2', 'fBodyAccJerk-bandsEnergy()-17,24.2', 'fBodyAccJerk-bandsEnergy()-25,32.2', 'fBodyAccJerk-bandsEnergy()-33,40.2', 'fBodyAccJerk-bandsEnergy()-41,48.2', 'fBodyAccJerk-bandsEnergy()-49,56.2', 'fBodyAccJerk-bandsEnergy()-57,64.2', 'fBodyAccJerk-bandsEnergy()-1,16.2', 'fBodyAccJerk-bandsEnergy()-17,32.2', 'fBodyAccJerk-bandsEnergy()-33,48.2', 'fBodyAccJerk-bandsEnergy()-49,64.2', 'fBodyAccJerk-bandsEnergy()-1,24.2', 'fBodyAccJerk-bandsEnergy()-25,48.2', 'fBodyGyro-mean()-X', 'fBodyGyro-mean()-Y', 'fBodyGyro-mean()-Z', 'fBodyGyro-std()-X', 'fBodyGyro-std()-Y', 'fBodyGyro-std()-Z', 'fBodyGyro-mad()-X', 'fBodyGyro-mad()-Y', 'fBodyGyro-mad()-Z', 'fBodyGyro-max()-X', 'fBodyGyro-max()-Y', 'fBodyGyro-max()-Z', 'fBodyGyro-min()-X', 'fBodyGyro-min()-Y', 'fBodyGyro-min()-Z', 'fBodyGyro-sma()', 'fBodyGyro-energy()-X', 'fBodyGyro-energy()-Y', 'fBodyGyro-energy()-Z', 'fBodyGyro-iqr()-X', 'fBodyGyro-iqr()-Y', 'fBodyGyro-iqr()-Z', 'fBodyGyro-entropy()-X', 'fBodyGyro-entropy()-Y', 'fBodyGyro-entropy()-Z', 'fBodyGyro-maxInds-X', 'fBodyGyro-maxInds-Y', 'fBodyGyro-maxInds-Z', 'fBodyGyro-meanFreq()-X', 'fBodyGyro-meanFreq()-Y', 'fBodyGyro-meanFreq()-Z', 'fBodyGyro-skewness()-X', 'fBodyGyro-kurtosis()-X', 'fBodyGyro-skewness()-Y', 'fBodyGyro-kurtosis()-Y', 'fBodyGyro-skewness()-Z', 'fBodyGyro-kurtosis()-Z', 'fBodyGyro-bandsEnergy()-1,8', 'fBodyGyro-bandsEnergy()-9,16', 'fBodyGyro-bandsEnergy()-17,24', 'fBodyGyro-bandsEnergy()-25,32', 'fBodyGyro-bandsEnergy()-33,40', 'fBodyGyro-bandsEnergy()-41,48', 'fBodyGyro-bandsEnergy()-49,56', 'fBodyGyro-bandsEnergy()-57,64', 'fBodyGyro-bandsEnergy()-1,16', 'fBodyGyro-bandsEnergy()-17,32', 'fBodyGyro-bandsEnergy()-33,48', 'fBodyGyro-bandsEnergy()-49,64', 'fBodyGyro-bandsEnergy()-1,24', 'fBodyGyro-bandsEnergy()-25,48', 'fBodyGyro-bandsEnergy()-1,8.1', 'fBodyGyro-bandsEnergy()-9,16.1', 'fBodyGyro-bandsEnergy()-17,24.1', 'fBodyGyro-bandsEnergy()-25,32.1', 'fBodyGyro-bandsEnergy()-33,40.1', 'fBodyGyro-bandsEnergy()-41,48.1', 'fBodyGyro-bandsEnergy()-49,56.1', 'fBodyGyro-bandsEnergy()-57,64.1', 'fBodyGyro-bandsEnergy()-1,16.1', 'fBodyGyro-bandsEnergy()-17,32.1', 'fBodyGyro-bandsEnergy()-33,48.1', 'fBodyGyro-bandsEnergy()-49,64.1', 'fBodyGyro-bandsEnergy()-1,24.1', 'fBodyGyro-bandsEnergy()-25,48.1', 'fBodyGyro-bandsEnergy()-1,8.2', 'fBodyGyro-bandsEnergy()-9,16.2', 'fBodyGyro-bandsEnergy()-17,24.2', 'fBodyGyro-bandsEnergy()-25,32.2', 'fBodyGyro-bandsEnergy()-33,40.2', 'fBodyGyro-bandsEnergy()-41,48.2', 'fBodyGyro-bandsEnergy()-49,56.2', 'fBodyGyro-bandsEnergy()-57,64.2', 'fBodyGyro-bandsEnergy()-1,16.2', 'fBodyGyro-bandsEnergy()-17,32.2', 'fBodyGyro-bandsEnergy()-33,48.2', 'fBodyGyro-bandsEnergy()-49,64.2', 'fBodyGyro-bandsEnergy()-1,24.2', 'fBodyGyro-bandsEnergy()-25,48.2', 'fBodyAccMag-mean()', 'fBodyAccMag-std()', 'fBodyAccMag-mad()', 'fBodyAccMag-max()', 'fBodyAccMag-min()', 'fBodyAccMag-sma()', 'fBodyAccMag-energy()', 'fBodyAccMag-iqr()', 'fBodyAccMag-entropy()', 'fBodyAccMag-maxInds', 'fBodyAccMag-meanFreq()', 'fBodyAccMag-skewness()', 'fBodyAccMag-kurtosis()', 'fBodyBodyAccJerkMag-mean()', 'fBodyBodyAccJerkMag-std()', 'fBodyBodyAccJerkMag-mad()', 'fBodyBodyAccJerkMag-max()', 'fBodyBodyAccJerkMag-min()', 'fBodyBodyAccJerkMag-sma()', 'fBodyBodyAccJerkMag-energy()', 'fBodyBodyAccJerkMag-iqr()', 'fBodyBodyAccJerkMag-entropy()', 'fBodyBodyAccJerkMag-maxInds', 'fBodyBodyAccJerkMag-meanFreq()', 'fBodyBodyAccJerkMag-skewness()', 'fBodyBodyAccJerkMag-kurtosis()', 'fBodyBodyGyroMag-mean()', 'fBodyBodyGyroMag-std()', 'fBodyBodyGyroMag-mad()', 'fBodyBodyGyroMag-max()', 'fBodyBodyGyroMag-min()', 'fBodyBodyGyroMag-sma()', 'fBodyBodyGyroMag-energy()', 'fBodyBodyGyroMag-iqr()', 'fBodyBodyGyroMag-entropy()', 'fBodyBodyGyroMag-maxInds', 'fBodyBodyGyroMag-meanFreq()', 'fBodyBodyGyroMag-skewness()', 'fBodyBodyGyroMag-kurtosis()', 'fBodyBodyGyroJerkMag-mean()', 'fBodyBodyGyroJerkMag-std()', 'fBodyBodyGyroJerkMag-mad()', 'fBodyBodyGyroJerkMag-max()', 'fBodyBodyGyroJerkMag-min()', 'fBodyBodyGyroJerkMag-sma()', 'fBodyBodyGyroJerkMag-energy()', 'fBodyBodyGyroJerkMag-iqr()', 'fBodyBodyGyroJerkMag-entropy()', 'fBodyBodyGyroJerkMag-maxInds', 'fBodyBodyGyroJerkMag-meanFreq()', 'fBodyBodyGyroJerkMag-skewness()', 'fBodyBodyGyroJerkMag-kurtosis()', 'angle(tBodyAccMean,gravity)', 'angle(tBodyAccJerkMean),gravityMean)', 'angle(tBodyGyroMean,gravityMean)', 'angle(tBodyGyroJerkMean,gravityMean)', 'angle(X,gravityMean)', 'angle(Y,gravityMean)', 'angle(Z,gravityMean)']\n"
     ]
    }
   ],
   "source": [
    "#extracting all needed columns to pass into the outlier functions\n",
    "columns = []\n",
    "for i in df.columns:\n",
    "    columns.append(i)\n",
    "# print(columns)\n",
    "#removing last two elements form columns\n",
    "columns.pop()\n",
    "x_columns = columns #storing this for x_data below\n",
    "columns.pop()\n",
    "print(columns)"
   ]
  },
  {
   "cell_type": "code",
   "execution_count": 48,
   "id": "c3609851",
   "metadata": {},
   "outputs": [],
   "source": [
    "index_list = []\n",
    "# @brief Creating an index list for all columns\n",
    "for feature in columns:\n",
    "    index_list.extend(outliers(df,feature))\n"
   ]
  },
  {
   "cell_type": "code",
   "execution_count": 54,
   "id": "4b13359f",
   "metadata": {},
   "outputs": [
    {
     "name": "stdout",
     "output_type": "stream",
     "text": [
      "[177, 181, 366, 398, 1005, 1342, 1651, 1652, 1781, 1784, 1911, 2226, 2392, 2400, 2402, 2403, 2409, 2429, 2430, 2436, 2894, 2903, 3244, 3267, 3279, 3435, 3446, 3623, 3996, 4000, 4182, 4184, 4190, 4191, 4193, 4201, 4202, 4203, 4406, 4716, 4717, 5067, 5077, 5125, 5693, 6464, 6499, 181, 365, 526, 991, 992, 994, 1004, 1005, 1198, 1320, 1325, 1482, 1487, 1624, 1625, 1626, 1784, 1911, 2265, 2429, 2565, 3446, 3622, 3623, 3808, 3996, 4203, 4256, 4373, 4377, 4913, 5305, 5495, 5681, 5688, 5693, 6247, 6250, 6268, 6272, 6309, 6455, 6821, 360, 398, 1004, 1175, 1198, 1487, 1625, 1784, 2226, 2400, 2403, 2429, 3813, 4182, 4184, 4190, 4201, 4202, 4203, 4240, 4700, 4716, 4756, 5495, 5681, 6250, 6260, 6272, 6308, 6309, 6312, 6314, 6469, 351, 360, 526, 853, 864, 1004, 1175, 1198, 1337, 1338, 1340, 1358, 1481, 1482, 1486, 1487, 1624, 2096, 2268, 2269, 2392, 2400, 2402, 2403, 2409, 2429, 2430, 3267, 3817, 3968, 4182, 4183, 4184, 4185, 4191, 4201, 4202, 4203, 4240, 4373, 5481, 6247, 6260, 6279, 180, 351, 360, 526, 551, 709, 1004, 1011, 1198, 1358, 1481, 1482, 1486, 1487, 1624, 1625, 1626, 1781, 2096, 2226, 2400, 2402, 2403, 2409, 2429, 3621, 3622, 3817, 3968, 4182, 4183, 4184, 4201, 4202, 4240, 4241, 4373, 4382, 6247, 6279, 6460, 6464, 6989, 177, 360, 853, 864, 1004, 1198, 1337, 1340, 1341, 1358, 1481, 1482, 1486, 1487, 1624, 1784, 2253, 2392, 2400, 2402, 2403, 2409, 2429, 3067, 3608, 3622, 3817, 3968, 4182, 4183, 4190, 4191, 4201, 4202, 4203, 4240, 4244, 4373, 4700, 4894, 4936, 5675, 6247, 6260, 6272, 6279, 6308, 6309, 6311, 6312, 6460, 6464, 6989, 351, 360, 526, 853, 864, 1004, 1175, 1198, 1337, 1338, 1340, 1341, 1358, 1481, 1482, 1487, 1624, 1784, 2096, 2268, 2269, 2392, 2400, 2402, 2403, 2409, 2429, 2430, 3267, 3817, 3968, 4182, 4183, 4184, 4185, 4191, 4201, 4202, 4203, 4240, 4373, 4405, 6247, 6260, 6279, 180, 351, 360, 526, 551, 709, 1004, 1011, 1198, 1358, 1481, 1482, 1485, 1487, 1624, 1625, 1626, 2096, 2226, 2392, 2400, 2402, 2403, 2409, 2429, 2430, 2565, 3621, 3622, 3817, 3968, 4182, 4183, 4184, 4201, 4202, 4240, 4241, 4373, 4382, 5297, 6247, 6279, 6989, 177, 360, 853, 1004, 1015, 1198, 1337, 1340, 1341, 1358, 1481, 1482, 1487, 1624, 1784, 2253, 2392, 2400, 2402, 2403, 2409, 2429, 3067, 3608, 3817, 3968, 4182, 4183, 4190, 4191, 4201, 4202, 4203, 4240, 4244, 4373, 4700, 4894, 4936, 6247, 6260, 6272, 6279, 6308, 6309, 6311, 6312, 6460, 6464, 6989, 351, 360, 526, 991, 1004, 1198, 1338, 1340, 1358, 1481, 1482, 1485, 1486, 1487, 1624, 1625, 2096, 2392, 2400, 2402, 2403, 2409, 2429, 2430, 2436, 3608, 3968, 4182, 4183, 4184, 4185, 4201, 4202, 4240, 4246, 4373, 5481, 6260, 6279, 6455, 6464, 6469, 6476, 6477, 6479, 351, 360, 528, 709, 1004, 1011, 1342, 1358, 1481, 1486, 1487, 1624, 1625, 1781, 2096, 2226, 2400, 2402, 2403, 2409, 2429, 2436, 3608, 3609, 3621, 3622, 3817, 3857, 3968, 4182, 4183, 4184, 4185, 4201, 4202, 4240, 4373, 4377, 6247, 6254, 6260, 6279, 6299, 6311, 6312, 6460, 360, 853, 991, 1340, 1341, 1358, 1481, 1482, 1486, 1487, 1624, 2226, 2253, 2392, 2400, 2402, 2403, 2409, 2429, 2430, 2436, 3608, 3609, 3817, 3968, 4182, 4183, 4184, 4185, 4201, 4240, 4244, 4373, 4700, 6247, 6260, 6279, 6308, 6309, 6311, 6312, 6460, 6469, 6479, 6485, 6486, 351, 360, 526, 709, 853, 864, 1004, 1198, 1337, 1338, 1340, 1481, 1482, 1485, 1486, 1487, 1624, 1784, 2096, 2268, 2269, 2392, 2400, 2402, 2403, 2409, 2429, 3267, 3807, 3808, 3817, 3968, 4182, 4183, 4202, 4203, 4240, 4246, 4373, 4700, 5481, 6247, 6254, 6260, 6279, 6308, 6309, 6480, 351, 360, 398, 526, 864, 1004, 1011, 1198, 1358, 1481, 1482, 1624, 1625, 1626, 2096, 2400, 2402, 2403, 2409, 2429, 3817, 3968, 4182, 4183, 4184, 4201, 4202, 4240, 4241, 4373, 4381, 4382, 6247, 6254, 6279, 6308, 6460, 6464, 6465, 6989, 177, 360, 709, 853, 864, 1004, 1198, 1358, 1481, 1482, 1624, 1625, 1784, 2096, 2392, 2402, 2409, 3608, 3622, 3623, 3808, 3817, 4182, 4183, 4202, 4203, 4244, 4373, 4893, 4894, 4895, 4936, 6247, 6272, 6279, 6308, 6309, 6460, 6464, 6465, 351, 360, 526, 853, 1004, 1198, 1358, 1481, 1482, 1487, 1624, 1625, 1626, 1784, 2392, 2400, 2402, 2403, 2409, 2429, 3608, 3817, 3968, 4182, 4183, 4184, 4191, 4201, 4202, 4203, 4240, 4244, 4373, 6247, 6260, 6279, 6308, 6309, 6989, 351, 360, 526, 853, 864, 1004, 1175, 1198, 1337, 1338, 1340, 1341, 1358, 1481, 1482, 1485, 1486, 1487, 1624, 1784, 2096, 2227, 2268, 2269, 2392, 2400, 2402, 2403, 2409, 2429, 2430, 2436, 3267, 3817, 3968, 4182, 4183, 4184, 4185, 4190, 4191, 4201, 4202, 4203, 4240, 4373, 4406, 5481, 6247, 6260, 6279, 6308, 6464, 180, 181, 351, 360, 526, 528, 551, 709, 864, 991, 1004, 1005, 1011, 1198, 1342, 1358, 1481, 1482, 1485, 1486, 1487, 1624, 1625, 1626, 1781, 1784, 2096, 2226, 2392, 2400, 2402, 2403, 2409, 2429, 2430, 2565, 3608, 3621, 3622, 3623, 3808, 3817, 3968, 4182, 4183, 4184, 4201, 4202, 4203, 4240, 4241, 4373, 4377, 4381, 4382, 5297, 6247, 6250, 6254, 6260, 6272, 6279, 6309, 6311, 6455, 6460, 6464, 6465, 6989, 177, 351, 360, 398, 853, 864, 1004, 1015, 1175, 1198, 1337, 1340, 1341, 1358, 1481, 1482, 1486, 1487, 1624, 1625, 1784, 2253, 2392, 2400, 2402, 2403, 2409, 2429, 3067, 3608, 3609, 3622, 3623, 3817, 3968, 4182, 4183, 4184, 4190, 4191, 4201, 4202, 4203, 4240, 4244, 4246, 4373, 4700, 4753, 4894, 4895, 4936, 5675, 6247, 6260, 6272, 6279, 6308, 6309, 6311, 6312, 6314, 6460, 6464, 6799, 6989, 351, 360, 526, 853, 1004, 1175, 1198, 1337, 1338, 1340, 1341, 1358, 1481, 1482, 1487, 1784, 2096, 2392, 2400, 2402, 2403, 2409, 2429, 2430, 3267, 3807, 3817, 3968, 4182, 4183, 4184, 4185, 4190, 4191, 4201, 4202, 4203, 4240, 4244, 4373, 4405, 6247, 6260, 6272, 6279, 180, 351, 360, 526, 528, 551, 1011, 1198, 1358, 1481, 1482, 1485, 1487, 1625, 1626, 2226, 2227, 2392, 2400, 2402, 2403, 2409, 2429, 2430, 2727, 3622, 3817, 3968, 4182, 4183, 4202, 4203, 4240, 4373, 4382, 5297, 6247, 6272, 6279, 6311, 6455, 6510, 6989, 177, 360, 853, 991, 1004, 1005, 1015, 1198, 1337, 1340, 1341, 1358, 1481, 1482, 1487, 1784, 2253, 2392, 2400, 2402, 2403, 2409, 2429, 3067, 3608, 3622, 3623, 3817, 3968, 4183, 4190, 4191, 4201, 4202, 4240, 4244, 4373, 4700, 4701, 4894, 6247, 6260, 6272, 6279, 6308, 6309, 6311, 6460, 6989, 351, 360, 526, 1340, 1481, 1482, 1487, 2096, 2400, 2402, 2403, 2409, 2429, 2430, 3817, 3968, 3996, 4183, 4184, 4190, 4191, 4201, 4373, 6279, 1487, 2403, 2429, 3622, 3817, 6279, 1358, 1487, 2400, 2403, 2429, 3968, 4184, 4201, 4373, 5495, 6247, 6260, 1487, 1625, 2096, 2392, 2400, 4182, 1486, 1487, 2096, 3452, 4240, 6057, 180, 365, 1486, 4240, 4406, 371, 3989, 4240, 551, 2400, 2403, 3817, 551, 1189, 1342, 4182, 4183, 551, 1189, 4183, 531, 991, 4183, 4373, 4894, 4895, 4936, 531, 991, 1340, 2436, 3070, 3473, 4037, 4183, 4373, 4895, 6299, 6455, 1005, 1485, 3070, 4373, 6299, 6455, 3070, 1190, 3052, 3069, 3071, 3072, 35, 37, 207, 1651, 1652, 1793, 1794, 1796, 1931, 2087, 2096, 2400, 2575, 2576, 2579, 4405, 4406, 4414, 4415, 4416, 5106, 5113, 5713, 5714, 5715, 5716, 5721, 5915, 6099, 6101, 6104, 6109, 6110, 6290, 7004, 35, 37, 207, 557, 560, 1651, 1652, 1666, 1931, 2087, 2096, 2575, 2576, 2579, 2741, 2742, 4228, 4231, 4236, 4405, 4406, 4414, 4415, 4416, 5106, 5113, 5713, 5714, 5715, 5716, 5721, 5915, 6101, 7004, 5915, 7004, 35, 177, 181, 360, 991, 1004, 1005, 1652, 1784, 2226, 2392, 2400, 2402, 2403, 2429, 2430, 2894, 3267, 3446, 3457, 3989, 3996, 4183, 4184, 4185, 4191, 4193, 4201, 4203, 4406, 4717, 4913, 5067, 5693, 6279, 6469, 6499, 181, 351, 992, 1004, 1005, 1198, 1482, 1485, 1624, 1626, 1784, 2226, 2400, 2429, 2430, 3446, 3623, 3817, 3996, 4373, 4913, 5688, 5693, 6250, 6279, 6455, 6821, 6989, 177, 360, 853, 1004, 1198, 1358, 1624, 1784, 2400, 2402, 2429, 3608, 4183, 4184, 4191, 4201, 4203, 4240, 4700, 5675, 6247, 6308, 6309, 6314, 6460, 6799, 35, 177, 181, 360, 991, 1004, 1005, 1652, 1784, 2226, 2392, 2400, 2402, 2403, 2429, 2430, 2894, 3267, 3446, 3457, 3989, 3996, 4183, 4184, 4185, 4191, 4193, 4201, 4203, 4406, 4717, 4913, 5067, 5693, 6279, 6469, 6499, 181, 351, 551, 992, 1004, 1005, 1198, 1482, 1485, 1624, 1626, 1784, 2226, 2265, 2400, 2429, 2430, 3446, 3623, 3817, 3996, 4373, 4382, 4913, 5688, 5693, 6250, 6279, 6455, 6821, 6989, 177, 360, 853, 1004, 1015, 1198, 1358, 1624, 1784, 2400, 2402, 2429, 3608, 4183, 4184, 4191, 4201, 4203, 4240, 4700, 6247, 6272, 6308, 6309, 6312, 6314, 6460, 6799, 35, 37, 207, 1651, 1652, 1793, 1794, 1796, 1931, 2087, 2096, 2575, 2576, 2579, 4405, 4406, 4414, 4415, 4416, 5106, 5113, 5713, 5714, 5715, 5716, 5721, 5915, 6099, 6101, 6104, 6109, 6110, 6290, 7004, 35, 37, 207, 557, 560, 1651, 1652, 1666, 1931, 2087, 2096, 2575, 2576, 2579, 2741, 2742, 4228, 4231, 4236, 4405, 4406, 4414, 4415, 4416, 5106, 5113, 5713, 5714, 5715, 5716, 5721, 5915, 6099, 6101, 6104, 6109, 6110, 7004, 35, 37, 207, 1651, 1652, 1793, 1794, 1796, 2087, 2096, 2400, 2575, 2576, 2579, 4405, 4406, 4414, 4415, 4416, 5106, 5113, 5713, 5714, 5715, 5716, 5721, 5915, 6099, 6101, 6104, 6109, 6110, 6290, 7004, 35, 37, 207, 557, 560, 1651, 1652, 1666, 1931, 2087, 2096, 2575, 2576, 2579, 2741, 2742, 4228, 4231, 4236, 4405, 4406, 4414, 4415, 4416, 5106, 5113, 5713, 5714, 5715, 5716, 5721, 5915, 6099, 6101, 6104, 6109, 6110, 7004, 35, 37, 2400, 5915, 7004, 35, 37, 207, 1651, 1652, 1793, 1794, 1796, 2087, 2096, 2575, 2576, 2579, 4405, 4406, 4414, 4415, 4416, 5106, 5113, 5713, 5714, 5715, 5716, 5721, 5915, 6099, 6101, 6104, 6109, 6110, 7004, 35, 37, 1651, 1652, 2087, 2096, 2575, 2576, 2579, 4405, 4406, 4414, 4415, 4416, 5106, 5113, 5716, 5915, 35, 37, 1651, 1652, 1793, 1794, 1796, 2395, 2400, 2402, 2403, 2409, 2411, 2429, 2430, 2436, 3267, 3275, 3278, 3279, 3307, 4405, 4406, 4414, 4415, 4416, 4913, 5106, 5113, 5915, 6101, 6290, 6299, 6661, 6667, 7004, 35, 177, 181, 360, 1004, 1005, 1652, 1784, 1911, 2226, 2392, 2400, 2402, 2403, 2429, 2430, 2894, 3267, 3446, 3457, 3996, 4183, 4184, 4185, 4191, 4193, 4201, 4203, 4406, 4717, 4895, 4913, 5067, 5125, 5693, 6469, 6499, 181, 351, 365, 371, 529, 551, 709, 992, 994, 1004, 1005, 1198, 1482, 1485, 1624, 1626, 1784, 1911, 2265, 2400, 2429, 2430, 3446, 3623, 3817, 3996, 4256, 4373, 4382, 4700, 4913, 5306, 5688, 5693, 6250, 6254, 6279, 6312, 6455, 6821, 6989, 177, 360, 365, 853, 1004, 1015, 1198, 1358, 1784, 2400, 2402, 2429, 3608, 3813, 4183, 4184, 4191, 4193, 4201, 4203, 4240, 4700, 4895, 6247, 6272, 6309, 6312, 6314, 6460, 6465, 6799, 37, 177, 181, 360, 1666, 1784, 2234, 2392, 2400, 2402, 2403, 2429, 2430, 2436, 2894, 3267, 3307, 3435, 3443, 3446, 3457, 3996, 4009, 4182, 4184, 4185, 4191, 4193, 4201, 4203, 4406, 4716, 4717, 4913, 5067, 5069, 5077, 5125, 6109, 6499, 35, 230, 397, 398, 557, 560, 737, 853, 864, 1189, 1190, 1358, 1363, 1651, 1652, 1666, 1793, 1806, 1807, 1931, 1944, 2087, 2096, 2102, 2591, 2741, 2742, 2756, 2757, 3052, 3057, 3059, 3067, 3069, 3070, 3081, 3465, 3473, 3845, 4405, 4406, 4416, 4423, 4432, 4703, 4704, 4749, 4753, 4936, 5106, 5125, 5319, 5322, 5331, 5337, 5338, 5713, 5915, 5928, 5936, 6099, 6101, 6104, 6109, 6110, 6120, 6121, 6122, 6290, 6299, 6630, 6661, 6667, 6678, 6680, 6857, 6858, 6864, 7004, 7217, 7221, 360, 853, 1004, 1015, 1624, 3608, 3813, 4373, 5675, 6250, 35, 177, 365, 709, 2429, 2894, 3267, 4056, 4231, 4373, 4405, 5481, 7004, 35, 177, 1011, 2894, 3267, 4056, 4231, 4405, 7004, 35, 177, 1011, 2894, 3267, 4231, 4405, 7004, 35, 177, 1011, 2894, 3267, 4231, 4894, 7004, 1354, 3490, 3490, 2898, 2898, 2898, 2898, 351, 360, 526, 853, 864, 991, 1004, 1338, 1341, 1481, 2227, 2400, 2402, 2403, 2429, 3267, 3275, 3609, 3808, 3996, 4183, 4185, 4191, 4193, 4201, 5067, 5481, 6279, 6455, 6465, 6989, 7221, 6, 181, 351, 853, 1004, 1198, 1324, 1481, 1624, 1626, 1666, 1781, 2096, 2400, 2402, 2409, 2429, 2436, 2565, 2718, 3465, 3621, 3802, 3807, 3817, 4183, 4185, 4189, 4202, 4255, 4373, 5080, 5299, 5481, 5679, 6247, 6250, 6254, 6279, 6308, 6311, 6989, 360, 853, 1004, 1481, 1485, 1487, 1624, 2253, 2392, 2409, 2430, 3052, 3067, 3465, 3608, 4190, 4201, 4203, 4240, 4241, 4893, 4895, 5675, 6247, 6272, 6279, 6299, 6308, 6460, 6464, 6470, 6480, 351, 360, 526, 709, 853, 864, 991, 1004, 1011, 1175, 1198, 1337, 1338, 1340, 1341, 1358, 1481, 1482, 1485, 1487, 1624, 1625, 2096, 2392, 2400, 2402, 2403, 2409, 3808, 3817, 3968, 4182, 4183, 4184, 4191, 4201, 4202, 4203, 4240, 4373, 5481, 6247, 6260, 6279, 6308, 6455, 6464, 351, 360, 709, 853, 864, 1004, 1011, 1198, 1358, 1481, 1482, 1487, 1624, 1625, 1781, 2096, 2392, 2400, 2402, 2403, 2409, 3622, 3817, 3968, 4182, 4183, 4184, 4201, 4202, 4240, 4241, 4244, 4373, 4377, 6247, 6260, 6279, 6299, 6309, 6311, 6460, 6464, 6479, 351, 360, 709, 853, 864, 1004, 1175, 1198, 1337, 1338, 1340, 1341, 1358, 1481, 1482, 1485, 1486, 1487, 1624, 1625, 2096, 2392, 2400, 2402, 2403, 2409, 2429, 3968, 4182, 4183, 4201, 4202, 4240, 4241, 4244, 4373, 4700, 6247, 6260, 6279, 6308, 6309, 6311, 6460, 6479, 351, 360, 526, 853, 864, 1004, 1011, 1175, 1198, 1337, 1338, 1340, 1341, 1342, 1358, 1481, 1482, 1487, 1624, 1625, 2096, 2392, 2400, 2402, 2403, 2409, 2429, 2430, 3808, 3817, 3968, 4182, 4183, 4184, 4191, 4201, 4202, 4203, 4240, 4373, 4700, 4894, 4895, 5481, 6247, 6260, 6279, 6308, 6309, 6464, 6480, 351, 360, 709, 853, 864, 1004, 1011, 1198, 1341, 1358, 1481, 1482, 1487, 1624, 1625, 1781, 2096, 2392, 2400, 2402, 2403, 2409, 3622, 3808, 3817, 3968, 4182, 4183, 4184, 4190, 4201, 4202, 4240, 4241, 4244, 4373, 6247, 6260, 6279, 6299, 6309, 6311, 6460, 6464, 6465, 6479, 360, 709, 853, 864, 1004, 1175, 1198, 1337, 1338, 1340, 1341, 1358, 1481, 1482, 1487, 1624, 1625, 2096, 2392, 2400, 2402, 2403, 2409, 2429, 3968, 4182, 4202, 4240, 4241, 4244, 4373, 4700, 6247, 6260, 6279, 6308, 6309, 6311, 6460, 6479, 351, 360, 526, 709, 991, 1004, 1011, 1198, 1337, 1338, 1340, 1358, 1481, 1482, 1485, 1487, 1624, 1625, 1784, 2096, 2268, 2269, 2392, 2400, 2402, 2403, 2409, 2436, 3807, 3808, 3817, 3968, 4182, 4183, 4184, 4201, 4202, 4203, 4240, 4373, 4894, 4895, 5481, 6247, 6260, 6279, 6308, 6455, 6464, 6476, 6477, 6480, 351, 360, 398, 709, 853, 864, 1004, 1011, 1358, 1481, 1482, 1485, 1487, 1624, 1625, 1781, 2096, 2400, 2402, 2403, 2409, 3622, 3623, 3817, 3857, 3968, 4182, 4183, 4184, 4201, 4202, 4240, 4241, 4244, 4373, 4377, 6247, 6260, 6279, 6299, 6308, 6460, 6464, 6465, 6480, 709, 864, 1011, 1175, 1198, 1325, 1337, 1338, 1340, 1358, 1481, 1482, 1485, 1486, 1487, 1624, 1625, 2096, 2400, 2402, 2403, 2409, 3608, 3968, 4183, 4184, 4185, 4189, 4190, 4240, 4241, 4373, 4724, 4749, 4894, 4895, 5681, 6247, 6260, 6269, 6279, 6460, 6479, 351, 360, 526, 709, 864, 991, 1004, 1337, 1338, 1358, 1481, 1482, 1485, 1487, 1624, 1625, 1784, 2096, 2400, 2403, 2409, 3608, 3817, 3857, 3968, 4182, 4183, 4184, 4185, 4201, 4202, 4203, 4240, 4246, 4373, 5481, 6247, 6260, 6279, 6455, 351, 360, 709, 853, 864, 1004, 1011, 1358, 1481, 1482, 1485, 1486, 1487, 1784, 2083, 2096, 2226, 2400, 2403, 2409, 2727, 2728, 3608, 3817, 3968, 4182, 4183, 4184, 4185, 4201, 4202, 4240, 4241, 4373, 6247, 6260, 6279, 6299, 6460, 6464, 6465, 6479, 6486, 351, 709, 864, 991, 1004, 1011, 1175, 1320, 1337, 1338, 1340, 1341, 1358, 1481, 1482, 1485, 1487, 1624, 1625, 2096, 2392, 2400, 2402, 2403, 2409, 3622, 3623, 3968, 4182, 4240, 4241, 4244, 4373, 4700, 4936, 6260, 6279, 6311, 6464, 6479, 6510, 351, 360, 526, 709, 853, 864, 1004, 1011, 1175, 1198, 1337, 1338, 1340, 1341, 1358, 1481, 1482, 1487, 1624, 1625, 2096, 2392, 2400, 2402, 2403, 2409, 2429, 2430, 3817, 3968, 4182, 4183, 4184, 4190, 4201, 4202, 4203, 4240, 4241, 4244, 4373, 4700, 6247, 6260, 6279, 6308, 6309, 6311, 6460, 6464, 6479, 6480, 351, 360, 526, 709, 853, 864, 991, 1004, 1011, 1015, 1044, 1175, 1198, 1337, 1338, 1340, 1341, 1342, 1358, 1481, 1482, 1485, 1486, 1487, 1624, 1625, 1784, 2096, 2268, 2269, 2392, 2400, 2402, 2403, 2409, 2429, 3608, 3807, 3808, 3817, 3968, 4182, 4183, 4184, 4185, 4190, 4191, 4201, 4202, 4203, 4240, 4246, 4373, 4700, 4894, 4895, 5481, 6247, 6260, 6272, 6279, 6308, 6309, 6455, 6460, 6464, 6477, 6480, 180, 351, 360, 709, 853, 864, 1004, 1011, 1198, 1341, 1342, 1358, 1481, 1482, 1485, 1487, 1624, 1625, 1781, 1784, 2083, 2096, 2226, 2392, 2400, 2402, 2403, 2409, 2429, 2727, 3608, 3622, 3623, 3807, 3808, 3817, 3968, 4182, 4183, 4184, 4185, 4189, 4190, 4191, 4201, 4202, 4240, 4241, 4244, 4373, 4377, 6247, 6254, 6260, 6279, 6299, 6308, 6309, 6311, 6460, 6464, 6465, 6479, 6480, 6486, 351, 360, 709, 853, 864, 1004, 1011, 1175, 1198, 1337, 1338, 1340, 1341, 1358, 1481, 1482, 1485, 1486, 1487, 1624, 1625, 2096, 2392, 2400, 2402, 2403, 2409, 2429, 3608, 3968, 4182, 4183, 4184, 4190, 4201, 4202, 4203, 4240, 4241, 4244, 4373, 4700, 4703, 4894, 4936, 6247, 6260, 6272, 6279, 6308, 6309, 6311, 6460, 6479, 6480, 6510, 351, 360, 526, 853, 864, 1004, 1011, 1015, 1175, 1198, 1337, 1338, 1340, 1341, 1342, 1358, 1481, 1482, 1487, 1624, 2096, 2392, 2400, 2402, 2403, 2409, 2429, 2430, 3817, 3968, 4182, 4183, 4184, 4201, 4202, 4240, 4373, 4700, 6247, 6260, 6272, 6279, 6308, 6485, 180, 351, 360, 709, 853, 864, 1004, 1011, 1198, 1341, 1358, 1481, 1482, 1487, 1624, 1625, 2096, 2392, 2400, 2402, 2403, 2409, 2429, 3622, 3623, 3817, 3968, 4182, 4183, 4184, 4191, 4201, 4202, 4240, 4241, 4244, 4373, 6247, 6260, 6279, 6299, 6308, 6309, 6311, 6460, 6464, 6465, 6480, 360, 853, 1175, 1198, 1325, 1337, 1338, 1340, 1341, 1358, 1481, 1487, 1624, 1625, 2392, 2400, 2402, 2403, 2409, 2429, 2430, 3968, 4202, 4203, 4240, 4244, 4373, 4700, 4716, 6247, 6260, 6279, 6308, 6309, 6311, 351, 360, 526, 864, 1004, 1011, 1175, 1198, 1337, 1338, 1340, 1341, 1358, 1481, 1482, 1487, 1624, 2096, 2400, 2402, 2403, 2409, 3817, 3968, 4182, 4183, 4184, 4201, 4202, 4203, 4240, 4373, 6247, 6260, 6279, 6308, 351, 360, 709, 853, 864, 1004, 1011, 1198, 1358, 1481, 1482, 1487, 1624, 2096, 2392, 2400, 2402, 2403, 2409, 3622, 3817, 3968, 4182, 4183, 4184, 4201, 4240, 4241, 4373, 6247, 6260, 6279, 6460, 6464, 864, 1198, 1338, 1340, 1358, 1481, 1487, 1624, 1625, 2400, 2402, 2403, 2409, 3968, 4373, 6279, 7025, 1198, 1487, 1625, 2096, 2268, 2269, 2400, 2403, 4182, 4191, 4240, 4253, 5701, 1493, 2402, 6057, 371, 1320, 2400, 3989, 1485, 1486, 3071, 3643, 2400, 2403, 3817, 6272, 6799, 6989, 3621, 4382, 5936, 551, 1485, 3070, 4373, 4895, 531, 2436, 3070, 4037, 4185, 6507, 1485, 3070, 6667, 177, 2889, 6309, 1485, 1768, 2403, 4373, 7221, 1340, 1486, 1487, 2409, 3127, 4373, 4894, 4895, 180, 560, 1652, 2403, 3069, 3968, 4189, 4936, 6479, 17, 177, 178, 351, 365, 366, 526, 528, 853, 864, 991, 992, 1004, 1189, 1324, 1325, 1337, 1341, 1358, 1481, 1486, 1487, 1625, 1778, 1781, 1806, 1906, 2079, 2266, 2267, 2430, 2723, 2727, 2927, 3067, 3267, 3446, 3457, 3460, 3481, 3632, 3808, 3817, 3845, 4037, 4038, 4201, 4202, 4203, 4240, 4373, 4382, 4716, 4751, 4913, 5067, 5069, 5291, 5306, 5675, 5693, 5868, 5869, 6247, 6250, 6260, 6266, 6267, 6268, 6308, 6455, 6460, 6465, 6470, 6480, 6483, 6485, 6504, 6505, 6507, 6799, 6989, 7004, 7016, 177, 180, 349, 351, 365, 366, 526, 853, 991, 1004, 1198, 1358, 1491, 1624, 1625, 1626, 1781, 1784, 1906, 2102, 2429, 2927, 3067, 3118, 3267, 3446, 3457, 3481, 3845, 3989, 4038, 4190, 4202, 4240, 4257, 4405, 4716, 4717, 4756, 5067, 5675, 6266, 6308, 6309, 6465, 6505, 6799, 6971, 6998, 35, 178, 180, 230, 349, 365, 526, 557, 853, 864, 1004, 1358, 1481, 1482, 1625, 1626, 1652, 1659, 1944, 2087, 2102, 2226, 2266, 2267, 2400, 2565, 2927, 3446, 3465, 3608, 3817, 3968, 4201, 4202, 4203, 4240, 4255, 4405, 4423, 4716, 4749, 5106, 5297, 5495, 5675, 5693, 5730, 5868, 6469, 6504, 6505, 6989, 6998, 7004, 7217, 351, 360, 526, 528, 551, 864, 1338, 1342, 1481, 1482, 1485, 1486, 1487, 1624, 1625, 1784, 2400, 2402, 2409, 3608, 3609, 3807, 3808, 3817, 3968, 4182, 4183, 4201, 4202, 4203, 4373, 4377, 4379, 6247, 6254, 6260, 6272, 6279, 6455, 6460, 6464, 6465, 6469, 6479, 6480, 6799, 351, 360, 526, 709, 853, 991, 1004, 1198, 1337, 1338, 1358, 1481, 1482, 1486, 1487, 1624, 1625, 1626, 2253, 2400, 2402, 2403, 2409, 2429, 3067, 3817, 3968, 4182, 4183, 4184, 4191, 4201, 4202, 4203, 4240, 4244, 4373, 4700, 4894, 4895, 4936, 6247, 6260, 6279, 6308, 6309, 6311, 6312, 6455, 6464, 6480, 6505, 180, 351, 360, 365, 526, 528, 709, 853, 1004, 1011, 1358, 1481, 1482, 1486, 1487, 1624, 1625, 1626, 1784, 2096, 2400, 2402, 2403, 2409, 3817, 3968, 4182, 4183, 4184, 4191, 4201, 4202, 4203, 4240, 4241, 4373, 4405, 6247, 6260, 6279, 6480, 351, 360, 526, 528, 551, 864, 1338, 1342, 1481, 1482, 1487, 1624, 1784, 2400, 2402, 2409, 3608, 3808, 3817, 3968, 4182, 4183, 4201, 4202, 4203, 4373, 4377, 4379, 6247, 6254, 6260, 6269, 6272, 6279, 6455, 6460, 6464, 6465, 6469, 6479, 6480, 6486, 6799, 351, 360, 526, 853, 991, 1004, 1198, 1337, 1338, 1340, 1358, 1481, 1482, 1486, 1487, 1624, 1625, 2253, 2392, 2400, 2402, 2403, 2409, 3067, 3817, 3968, 4182, 4183, 4184, 4191, 4201, 4202, 4203, 4240, 4244, 4373, 4700, 4753, 4894, 4895, 4936, 6247, 6260, 6279, 6308, 6309, 6311, 6312, 6455, 6464, 6480, 180, 351, 360, 365, 526, 528, 709, 853, 991, 1004, 1011, 1358, 1481, 1482, 1486, 1487, 1624, 1625, 1626, 1784, 2096, 2392, 2400, 2402, 2403, 2409, 3817, 3968, 4182, 4183, 4184, 4190, 4191, 4201, 4202, 4203, 4240, 4241, 4373, 4405, 6247, 6260, 6279, 6460, 6480, 351, 360, 526, 551, 853, 1011, 1341, 1342, 1481, 1482, 1485, 1487, 1624, 1784, 2400, 2402, 2403, 2409, 3608, 3807, 3808, 3817, 3968, 4182, 4183, 4201, 4202, 4240, 4373, 4379, 6260, 6266, 6279, 6455, 6460, 6464, 6465, 6469, 6479, 6486, 177, 360, 709, 864, 991, 1004, 1005, 1015, 1198, 1340, 1341, 1358, 1481, 1482, 1485, 1486, 1487, 1624, 1625, 1781, 2253, 2400, 2403, 2409, 2429, 3817, 3968, 4182, 4183, 4184, 4240, 4244, 4246, 4257, 4373, 4700, 6247, 6260, 6266, 6279, 6308, 6309, 6311, 6312, 6470, 6480, 180, 351, 360, 526, 709, 864, 991, 1011, 1198, 1481, 1482, 1486, 1487, 1624, 1625, 1626, 2400, 2402, 2403, 2409, 3808, 3968, 4182, 4183, 4184, 4191, 4201, 4202, 4203, 4373, 4405, 4936, 6247, 6260, 6279, 351, 360, 526, 528, 551, 864, 1004, 1337, 1338, 1342, 1358, 1481, 1482, 1485, 1486, 1487, 1624, 1625, 1781, 1784, 1924, 2400, 2402, 2409, 3608, 3609, 3807, 3808, 3817, 3968, 4201, 4202, 4203, 4373, 4377, 4381, 4382, 6247, 6254, 6279, 6455, 6464, 6465, 6470, 6479, 6480, 6486, 6799, 6818, 351, 360, 526, 709, 864, 1011, 1015, 1175, 1198, 1325, 1337, 1338, 1358, 1481, 1482, 1485, 1486, 1487, 1624, 1625, 1626, 1784, 2096, 2400, 2402, 2403, 2409, 3067, 3968, 4182, 4183, 4184, 4191, 4202, 4203, 4373, 4894, 4895, 4936, 6247, 6254, 6279, 6308, 6309, 6455, 6464, 6465, 6476, 6477, 351, 360, 365, 526, 528, 709, 853, 864, 1004, 1011, 1189, 1358, 1481, 1485, 1486, 1487, 1624, 1626, 1924, 2083, 2096, 2392, 2400, 2402, 2403, 2409, 2429, 3622, 3623, 3817, 3857, 3968, 4182, 4183, 4184, 4185, 4194, 4201, 4202, 4203, 4240, 4241, 4373, 5297, 5481, 5693, 6247, 6260, 6279, 6470, 6504, 6505, 351, 360, 526, 991, 1004, 1358, 1481, 1482, 1487, 1624, 1625, 2400, 2402, 2403, 2409, 3817, 3968, 4182, 4183, 4184, 4201, 4202, 4203, 4240, 4373, 6247, 6260, 6279, 6308, 6455, 6460, 6464, 6480, 351, 360, 526, 528, 551, 864, 991, 1004, 1011, 1337, 1338, 1341, 1342, 1358, 1481, 1482, 1485, 1486, 1487, 1624, 1625, 1781, 1784, 2392, 2400, 2402, 2403, 2409, 3067, 3608, 3609, 3621, 3622, 3807, 3808, 3817, 3968, 4182, 4183, 4184, 4201, 4202, 4203, 4240, 4373, 4377, 4379, 4700, 6247, 6254, 6260, 6266, 6267, 6269, 6272, 6279, 6455, 6460, 6464, 6465, 6469, 6470, 6479, 6480, 6486, 6799, 6818, 177, 349, 351, 360, 526, 709, 853, 864, 991, 1004, 1011, 1015, 1198, 1325, 1337, 1338, 1340, 1341, 1358, 1481, 1482, 1486, 1487, 1624, 1625, 1626, 1781, 1784, 2253, 2392, 2400, 2402, 2403, 2409, 2429, 3067, 3267, 3817, 3968, 3989, 4182, 4183, 4184, 4185, 4189, 4190, 4191, 4201, 4202, 4203, 4240, 4241, 4244, 4246, 4373, 4700, 4716, 4753, 4894, 4895, 4936, 5067, 6247, 6260, 6266, 6272, 6279, 6308, 6309, 6311, 6312, 6455, 6464, 6470, 6480, 6505, 178, 180, 351, 360, 365, 526, 528, 709, 853, 864, 991, 1004, 1011, 1198, 1358, 1481, 1482, 1485, 1486, 1487, 1624, 1625, 1626, 1784, 2096, 2226, 2392, 2400, 2402, 2403, 2409, 3465, 3608, 3808, 3817, 3968, 4182, 4183, 4184, 4190, 4191, 4201, 4202, 4203, 4240, 4241, 4373, 4405, 5693, 6247, 6260, 6279, 6460, 6464, 6480, 6504, 6505, 7004, 351, 360, 526, 551, 864, 1004, 1338, 1342, 1358, 1481, 1482, 1487, 1624, 1784, 2400, 2402, 2409, 3067, 3608, 3622, 3808, 3817, 3968, 4182, 4183, 4201, 4202, 4203, 4373, 4379, 4700, 6247, 6254, 6266, 6268, 6269, 6272, 6279, 6455, 6460, 6464, 6469, 6479, 6480, 6486, 6989, 351, 360, 526, 853, 991, 1004, 1198, 1337, 1338, 1340, 1341, 1358, 1481, 1487, 1624, 1625, 2392, 2400, 2403, 3968, 4182, 4183, 4184, 4185, 4189, 4190, 4191, 4201, 4202, 4241, 4244, 4373, 4700, 4753, 4894, 4895, 6247, 6260, 6279, 6308, 6309, 6311, 6455, 6464, 180, 351, 360, 365, 526, 528, 853, 864, 1004, 1011, 1175, 1177, 1358, 1481, 1487, 1624, 1625, 1626, 1784, 2096, 2226, 2253, 2392, 2400, 2402, 2409, 3808, 3817, 3968, 4182, 4183, 4184, 4190, 4191, 4201, 4202, 4203, 4240, 4241, 4246, 4373, 4405, 5693, 6247, 6260, 6269, 6279, 6311, 6460, 6464, 6480, 4240, 6266, 6460, 177, 1358, 1624, 1762, 1906, 2894, 3267, 3446, 4190, 4240, 6308, 6309, 6998, 1625, 4202, 4405, 360, 351, 360, 864, 1481, 1482, 1924, 2565, 4381, 6260, 351, 864, 1166, 1796, 2565, 6260, 4191, 1004, 3465, 4191, 5481, 398, 1004, 1189, 1338, 1931, 3465, 4194, 6989, 398, 6839, 360, 1482, 6279, 360, 709, 864, 1482, 2096, 2430, 4038, 5481, 6279, 6470, 709, 864, 2430, 3251, 4038, 5481, 6279, 709, 6068, 6069, 2096, 2727, 3067, 3069, 3070, 3071, 3072, 3081, 3095, 178, 181, 351, 360, 365, 366, 371, 526, 528, 549, 864, 1175, 1189, 1198, 1325, 1340, 1341, 1342, 1358, 1482, 1485, 1486, 1487, 1626, 1778, 1781, 1924, 2392, 2403, 2409, 2728, 3608, 3609, 3621, 3622, 3623, 3807, 3813, 3817, 3968, 4182, 4183, 4184, 4185, 4201, 4203, 4240, 4377, 4701, 5067, 5679, 5693, 6250, 6254, 6267, 6269, 6272, 6309, 6455, 6465, 6469, 6470, 6472, 6479, 6480, 6486, 6799, 6818, 177, 349, 351, 360, 370, 528, 853, 991, 1198, 1341, 1358, 1485, 1624, 1625, 1781, 2253, 2392, 2400, 2402, 2429, 3623, 3817, 3968, 4190, 4193, 4194, 4201, 4203, 4240, 4244, 4257, 4405, 4716, 4756, 5495, 6247, 6254, 6260, 6269, 6272, 6308, 6309, 6312, 6455, 6460, 6465, 6470, 6479, 6485, 6998, 177, 181, 351, 360, 365, 366, 370, 526, 528, 551, 864, 991, 1004, 1358, 1487, 1924, 2083, 2087, 2226, 2253, 2400, 2402, 2429, 3267, 3481, 3968, 4183, 4184, 4189, 4196, 4201, 4202, 4203, 4210, 4240, 4405, 4406, 5106, 5481, 5693, 6254, 6269, 6309, 6312, 6460, 6470, 6472, 6799, 6998, 7004, 351, 360, 526, 551, 709, 864, 1004, 1011, 1175, 1198, 1338, 1342, 1481, 1482, 1485, 1487, 1624, 1625, 1784, 2400, 2402, 2409, 3608, 3609, 3808, 3817, 3968, 4182, 4201, 4202, 4373, 4377, 4700, 6247, 6254, 6260, 6279, 6455, 6460, 6464, 6465, 6479, 6480, 6486, 6799, 351, 360, 526, 709, 853, 864, 1004, 1011, 1015, 1167, 1175, 1198, 1337, 1338, 1340, 1341, 1358, 1481, 1482, 1485, 1486, 1487, 1624, 1625, 2096, 2392, 2400, 2402, 2403, 2409, 3817, 3968, 4182, 4183, 4184, 4201, 4202, 4203, 4240, 4246, 4373, 4700, 4894, 4895, 4936, 6247, 6260, 6279, 6464, 6476, 6477, 180, 351, 360, 526, 709, 853, 864, 991, 1004, 1011, 1015, 1198, 1358, 1481, 1482, 1485, 1487, 1624, 1625, 1626, 2096, 2392, 2400, 2402, 2403, 2409, 3622, 3623, 3817, 3968, 4182, 4183, 4184, 4190, 4191, 4201, 4202, 4203, 4240, 4241, 4244, 4373, 5481, 6247, 6260, 6272, 6279, 6308, 6311, 6460, 6464, 6480, 6504, 6505, 351, 360, 526, 853, 864, 1004, 1011, 1175, 1198, 1338, 1342, 1481, 1482, 1487, 1624, 1625, 2400, 2402, 2409, 3608, 3622, 3808, 3817, 3968, 4182, 4183, 4201, 4202, 4373, 4377, 4379, 6247, 6254, 6260, 6272, 6279, 6455, 6460, 6464, 6465, 6479, 6480, 351, 360, 526, 709, 853, 864, 1004, 1011, 1015, 1166, 1167, 1175, 1198, 1337, 1338, 1340, 1341, 1358, 1481, 1482, 1485, 1486, 1487, 1624, 1625, 2096, 2392, 2400, 2402, 2403, 2409, 3968, 4182, 4183, 4184, 4201, 4202, 4203, 4240, 4373, 4700, 4894, 4895, 6247, 6260, 6279, 6464, 180, 351, 360, 526, 709, 853, 864, 991, 1004, 1011, 1015, 1198, 1358, 1481, 1482, 1487, 1624, 1625, 2096, 2392, 2400, 2402, 2403, 2409, 3622, 3817, 3968, 4182, 4183, 4184, 4190, 4191, 4201, 4202, 4203, 4240, 4241, 4244, 4373, 6247, 6260, 6272, 6279, 6308, 6311, 6460, 6464, 6479, 6480, 6504, 6505, 351, 360, 551, 709, 864, 1011, 1166, 1167, 1175, 1198, 1338, 1481, 1482, 1485, 1486, 1487, 1624, 1784, 2400, 2402, 2409, 3608, 3609, 3817, 3968, 4201, 4202, 4373, 4377, 4700, 5481, 5489, 6247, 6254, 6260, 6279, 6460, 6464, 6465, 6469, 6479, 6480, 6486, 351, 360, 526, 709, 864, 1004, 1011, 1015, 1198, 1337, 1338, 1358, 1481, 1482, 1485, 1486, 1487, 1624, 1625, 2096, 2400, 2403, 2409, 3817, 3968, 4201, 4202, 4246, 4373, 4700, 4893, 4894, 4895, 4936, 6247, 6260, 6279, 6464, 6476, 6477, 180, 351, 360, 528, 709, 853, 864, 1004, 1011, 1481, 1482, 1485, 1486, 1487, 1624, 1625, 1626, 2083, 2096, 2392, 2400, 2402, 2403, 2409, 2429, 3465, 3857, 3968, 4182, 4183, 4184, 4185, 4201, 4202, 4203, 4240, 4373, 5297, 5481, 6247, 6260, 6279, 6311, 6312, 6480, 6504, 6505, 351, 360, 526, 864, 1004, 1005, 1011, 1198, 1342, 1481, 1482, 1486, 1487, 1624, 1781, 1784, 2392, 2400, 2402, 2409, 3608, 3817, 3968, 4201, 4202, 4373, 4377, 6247, 6254, 6260, 6279, 6455, 6460, 6464, 6465, 6479, 6486, 6799, 351, 360, 709, 864, 991, 1004, 1015, 1175, 1198, 1337, 1338, 1340, 1341, 1358, 1481, 1482, 1485, 1486, 1487, 1624, 1625, 1784, 2096, 2392, 2400, 2402, 2403, 2409, 3817, 3968, 4182, 4183, 4184, 4193, 4202, 4203, 4240, 4246, 4373, 4700, 4894, 4895, 4936, 6247, 6279, 180, 351, 360, 709, 853, 864, 991, 1004, 1005, 1011, 1015, 1337, 1338, 1481, 1482, 1486, 1487, 1624, 1625, 1784, 2096, 2400, 2402, 2403, 2409, 3622, 3623, 3817, 3857, 3968, 4182, 4183, 4184, 4185, 4191, 4201, 4202, 4203, 4240, 4241, 4244, 4373, 5481, 6260, 6272, 6279, 6308, 6464, 6465, 6476, 6477, 6479, 6480, 6504, 6505, 6510, 351, 360, 526, 709, 853, 864, 1004, 1011, 1167, 1175, 1198, 1338, 1341, 1358, 1481, 1482, 1487, 1624, 1625, 2096, 2392, 2400, 2402, 2403, 2409, 3817, 3968, 4182, 4183, 4184, 4201, 4202, 4203, 4240, 4373, 4700, 6247, 6260, 6272, 6279, 6460, 6464, 6479, 6480, 351, 360, 526, 551, 709, 853, 864, 1004, 1011, 1166, 1167, 1175, 1198, 1338, 1341, 1342, 1481, 1482, 1485, 1486, 1487, 1624, 1625, 1781, 1784, 2096, 2392, 2400, 2402, 2409, 3608, 3609, 3621, 3622, 3623, 3807, 3808, 3817, 3968, 4182, 4183, 4184, 4190, 4201, 4202, 4203, 4240, 4241, 4373, 4377, 4379, 4381, 4382, 4700, 5297, 6247, 6254, 6260, 6272, 6279, 6455, 6460, 6464, 6465, 6469, 6470, 6479, 6480, 6486, 6799, 180, 351, 360, 526, 709, 853, 864, 991, 1004, 1005, 1011, 1015, 1166, 1167, 1175, 1177, 1198, 1337, 1338, 1340, 1341, 1358, 1481, 1482, 1485, 1486, 1487, 1624, 1625, 2096, 2392, 2400, 2402, 2403, 2409, 2429, 3817, 3968, 4182, 4183, 4184, 4189, 4190, 4191, 4201, 4202, 4203, 4240, 4241, 4244, 4246, 4373, 4700, 4716, 4756, 4893, 4894, 4895, 4913, 4936, 5481, 6247, 6260, 6272, 6279, 6308, 6460, 6464, 6476, 6477, 6480, 180, 351, 360, 526, 709, 853, 864, 991, 1004, 1005, 1011, 1015, 1198, 1338, 1358, 1481, 1482, 1485, 1486, 1487, 1624, 1625, 1626, 1784, 2083, 2096, 2392, 2400, 2402, 2403, 2409, 3622, 3623, 3808, 3817, 3857, 3968, 4182, 4183, 4184, 4185, 4189, 4190, 4191, 4201, 4202, 4203, 4240, 4241, 4244, 4373, 5297, 5481, 6247, 6260, 6269, 6272, 6279, 6299, 6308, 6311, 6460, 6464, 6465, 6476, 6479, 6480, 6504, 6505, 6510, 6799, 351, 360, 526, 560, 853, 864, 1004, 1011, 1167, 1175, 1198, 1341, 1342, 1481, 1482, 1487, 1624, 1625, 2400, 2409, 3608, 3622, 3807, 3808, 3817, 3968, 4182, 4183, 4184, 4202, 4240, 4373, 4379, 4700, 6247, 6260, 6272, 6279, 6455, 6460, 6464, 6479, 6480, 180, 351, 360, 526, 853, 864, 1004, 1011, 1015, 1166, 1167, 1175, 1198, 1338, 1340, 1341, 1358, 1481, 1482, 1487, 1624, 1625, 2096, 2392, 2400, 2402, 2403, 2409, 3817, 3968, 4182, 4183, 4184, 4190, 4201, 4202, 4203, 4240, 4241, 4244, 4373, 4700, 4716, 4893, 4894, 4895, 4913, 6260, 6279, 6308, 6464, 6480, 351, 360, 526, 709, 853, 864, 1004, 1005, 1011, 1015, 1198, 1358, 1481, 1482, 1487, 1624, 1625, 2096, 2392, 2400, 2402, 2403, 2409, 3808, 3817, 3968, 4182, 4183, 4184, 4189, 4190, 4191, 4201, 4202, 4203, 4240, 4241, 4373, 6247, 6260, 6268, 6269, 6272, 6279, 6308, 6309, 6311, 6460, 6464, 6479, 6480, 3968, 4373, 6279, 1481, 2400, 2403, 3968, 6279, 351, 360, 853, 864, 1004, 1011, 1198, 1358, 1481, 1482, 2096, 2392, 2400, 2402, 2403, 2409, 3968, 4183, 4184, 4201, 4202, 4240, 4373, 6247, 6260, 6272, 6279, 360, 360, 1481, 2565, 4228, 4377, 1004, 3807, 5481, 5681, 398, 1004, 3807, 4194, 6279, 709, 864, 2096, 5481, 6279, 6839, 7020, 349, 709, 2096, 2728, 4191, 6068, 6069, 366, 853, 991, 1004, 1005, 6308, 7026, 3609, 4377, 709, 2096, 2718, 3067, 3071, 3072, 3081, 351, 360, 526, 853, 1004, 1198, 1358, 1481, 1482, 1487, 1624, 1625, 1626, 1784, 2392, 2400, 2402, 2403, 2409, 2429, 3608, 3622, 3817, 3968, 4182, 4183, 4184, 4191, 4201, 4202, 4203, 4240, 4244, 4373, 6247, 6260, 6279, 6308, 6309, 6460, 6989, 351, 360, 526, 709, 853, 1004, 1011, 1198, 1358, 1481, 1482, 1486, 1487, 1624, 1626, 1784, 2096, 2392, 2400, 2402, 2403, 2409, 2429, 2436, 3608, 3817, 3968, 4182, 4183, 4184, 4201, 4202, 4240, 4373, 4936, 6247, 6279, 6308, 6309, 6311, 6312, 6460, 6464, 6465, 6989, 351, 360, 526, 709, 853, 1004, 1011, 1198, 1358, 1481, 1482, 1486, 1487, 1624, 1625, 1626, 1784, 2096, 2392, 2400, 2402, 2403, 2409, 2429, 2436, 3608, 3817, 3968, 4182, 4183, 4184, 4201, 4202, 4240, 4244, 4373, 4936, 6247, 6272, 6279, 6308, 6309, 6311, 6312, 6460, 6989, 351, 360, 709, 853, 864, 1004, 1011, 1198, 1358, 1481, 1482, 1486, 1487, 1624, 1781, 2096, 2392, 2400, 2402, 2403, 2409, 3817, 3968, 4182, 4183, 4184, 4185, 4201, 4202, 4240, 4244, 4373, 4936, 6247, 6260, 6279, 6308, 6309, 6311, 6312, 6464, 6465, 351, 360, 551, 991, 1004, 1340, 1481, 1624, 1625, 2253, 2265, 2400, 2402, 2403, 3622, 3808, 3817, 3968, 4182, 4183, 4184, 4189, 4190, 4191, 4203, 4240, 4244, 4373, 4700, 4894, 5495, 6247, 6250, 6464, 6989, 351, 360, 526, 853, 1004, 1198, 1358, 1481, 1482, 1487, 1624, 1625, 1626, 1784, 2392, 2400, 2402, 2403, 2409, 2429, 3608, 3622, 3817, 3968, 4182, 4183, 4184, 4191, 4201, 4202, 4203, 4240, 4244, 4373, 6247, 6260, 6279, 6308, 6309, 6460, 6989, 177, 351, 360, 526, 853, 864, 1004, 1005, 1011, 1198, 1340, 1341, 1358, 1481, 1482, 1486, 1487, 1624, 1625, 1626, 1784, 2096, 2226, 2392, 2400, 2402, 2403, 2409, 2429, 2430, 3608, 3622, 3808, 3817, 3968, 4182, 4183, 4184, 4190, 4191, 4201, 4202, 4203, 4240, 4244, 4373, 4700, 4936, 6247, 6260, 6272, 6279, 6308, 6309, 6311, 6312, 6460, 6464, 6989, 351, 360, 526, 853, 1004, 1198, 1358, 1481, 1482, 1487, 1625, 1626, 1784, 2096, 2392, 2400, 2403, 2409, 2429, 3608, 3808, 3817, 3968, 4182, 4183, 4201, 4202, 4203, 4240, 4373, 6247, 6272, 6279, 6308, 6309, 6460, 6821, 6989, 351, 360, 1358, 1481, 1487, 2400, 2403, 2409, 3817, 3968, 4201, 4240, 4373, 6247, 6279, 6308, 6309, 1004, 3817, 1004, 2403, 1004, 4373, 5489, 5550, 6486, 351, 360, 526, 853, 1004, 1198, 1358, 1481, 1482, 1487, 1624, 1625, 1626, 1784, 2392, 2400, 2402, 2403, 2409, 2429, 3608, 3622, 3817, 3968, 4182, 4183, 4184, 4191, 4201, 4202, 4203, 4240, 4244, 4373, 6247, 6260, 6279, 6308, 6309, 6460, 6989, 351, 360, 526, 709, 853, 1004, 1011, 1198, 1358, 1481, 1482, 1486, 1487, 1624, 1626, 1784, 2096, 2392, 2400, 2402, 2403, 2409, 2429, 2436, 3608, 3817, 3968, 4182, 4183, 4184, 4201, 4202, 4240, 4373, 4936, 6247, 6279, 6308, 6309, 6311, 6312, 6460, 6464, 6465, 6989, 351, 360, 526, 709, 853, 1004, 1011, 1198, 1358, 1481, 1482, 1486, 1487, 1624, 1625, 1626, 1784, 2096, 2392, 2400, 2402, 2403, 2409, 2429, 2436, 3608, 3817, 3968, 4182, 4183, 4184, 4201, 4202, 4240, 4244, 4373, 4936, 6247, 6272, 6279, 6308, 6309, 6311, 6312, 6460, 6989, 351, 360, 709, 853, 864, 1004, 1011, 1198, 1358, 1481, 1482, 1486, 1487, 1624, 1781, 2096, 2392, 2400, 2402, 2403, 2409, 3817, 3968, 4182, 4183, 4184, 4185, 4201, 4202, 4240, 4244, 4373, 4936, 6247, 6260, 6279, 6308, 6309, 6311, 6312, 6464, 6465, 351, 360, 551, 991, 1004, 1340, 1481, 1624, 1625, 2253, 2265, 2400, 2402, 2403, 3622, 3808, 3817, 3968, 4182, 4183, 4184, 4189, 4190, 4191, 4203, 4240, 4244, 4373, 4700, 4894, 5495, 6247, 6250, 6464, 6989, 351, 360, 526, 853, 1004, 1198, 1358, 1481, 1482, 1487, 1624, 1625, 1626, 1784, 2392, 2400, 2402, 2403, 2409, 2429, 3608, 3622, 3817, 3968, 4182, 4183, 4184, 4191, 4201, 4202, 4203, 4240, 4244, 4373, 6247, 6260, 6279, 6308, 6309, 6460, 6989, 177, 351, 360, 526, 853, 864, 1004, 1005, 1011, 1198, 1340, 1341, 1358, 1481, 1482, 1486, 1487, 1624, 1625, 1626, 1784, 2096, 2226, 2392, 2400, 2402, 2403, 2409, 2429, 2430, 3608, 3622, 3808, 3817, 3968, 4182, 4183, 4184, 4190, 4191, 4201, 4202, 4203, 4240, 4244, 4373, 4700, 4936, 6247, 6260, 6272, 6279, 6308, 6309, 6311, 6312, 6460, 6464, 6989, 351, 360, 526, 853, 1004, 1198, 1358, 1481, 1482, 1487, 1625, 1626, 1784, 2096, 2392, 2400, 2403, 2409, 2429, 3608, 3808, 3817, 3968, 4182, 4183, 4201, 4202, 4203, 4240, 4373, 6247, 6272, 6279, 6308, 6309, 6460, 6821, 6989, 351, 360, 1358, 1481, 1487, 2400, 2403, 2409, 3817, 3968, 4201, 4240, 4373, 6247, 6279, 6308, 6309, 1004, 3817, 1004, 2403, 1004, 4373, 5489, 5550, 6486, 351, 360, 526, 709, 853, 864, 1004, 1011, 1175, 1198, 1337, 1338, 1340, 1341, 1358, 1481, 1482, 1487, 1624, 1625, 2096, 2392, 2400, 2402, 2403, 2409, 2429, 3817, 3968, 4182, 4183, 4184, 4201, 4202, 4203, 4240, 4241, 4244, 4373, 6247, 6260, 6279, 6308, 6309, 6311, 6460, 6464, 351, 360, 526, 709, 853, 864, 1004, 1011, 1175, 1198, 1337, 1338, 1340, 1358, 1481, 1482, 1485, 1486, 1487, 1624, 1625, 1781, 1784, 2096, 2392, 2400, 2402, 2403, 2409, 3608, 3622, 3623, 3817, 3968, 4182, 4183, 4184, 4185, 4190, 4201, 4202, 4240, 4241, 4244, 4373, 4700, 5481, 6247, 6260, 6279, 6311, 6460, 6464, 6479, 351, 360, 526, 709, 853, 864, 1004, 1011, 1198, 1337, 1338, 1340, 1341, 1358, 1481, 1482, 1485, 1487, 1624, 1625, 1784, 2096, 2392, 2400, 2402, 2403, 2409, 3817, 3968, 4182, 4183, 4184, 4190, 4201, 4202, 4240, 4241, 4244, 4373, 4700, 5481, 6247, 6260, 6279, 6311, 6460, 6464, 6479, 351, 360, 526, 709, 864, 1004, 1011, 1198, 1337, 1338, 1340, 1358, 1481, 1482, 1485, 1486, 1487, 1624, 1625, 2096, 2392, 2400, 2402, 2403, 2409, 2727, 2728, 3608, 3622, 3623, 3817, 3968, 4182, 4183, 4184, 4201, 4202, 4240, 4241, 4244, 4373, 4377, 4936, 5481, 6247, 6260, 6279, 6460, 6479, 6486, 351, 1004, 1011, 1340, 1341, 1358, 1481, 1482, 1624, 2392, 2400, 2402, 2403, 3807, 3808, 3817, 3968, 4182, 4183, 4201, 4202, 5868, 5869, 6260, 6272, 6279, 351, 360, 526, 709, 853, 864, 1004, 1011, 1175, 1198, 1337, 1338, 1340, 1341, 1358, 1481, 1482, 1487, 1624, 1625, 2096, 2392, 2400, 2402, 2403, 2409, 2429, 3817, 3968, 4182, 4183, 4184, 4201, 4202, 4203, 4240, 4241, 4244, 4373, 6247, 6260, 6279, 6308, 6309, 6311, 6460, 6464, 351, 360, 526, 709, 853, 864, 1004, 1011, 1175, 1198, 1337, 1338, 1340, 1341, 1342, 1358, 1481, 1482, 1485, 1486, 1487, 1624, 1625, 1784, 2096, 2392, 2400, 2402, 2403, 2409, 2429, 2430, 3608, 3622, 3808, 3817, 3968, 4182, 4183, 4184, 4190, 4201, 4202, 4203, 4240, 4241, 4244, 4373, 4700, 5481, 6247, 6260, 6279, 6299, 6308, 6309, 6311, 6460, 6464, 6479, 6480, 351, 360, 526, 709, 853, 864, 1004, 1011, 1198, 1340, 1341, 1342, 1358, 1481, 1482, 1487, 1624, 1625, 2096, 2392, 2400, 2402, 2403, 2409, 3817, 3968, 4182, 4183, 4184, 4190, 4201, 4202, 4203, 4240, 4244, 4373, 4700, 6247, 6260, 6272, 6279, 6309, 6311, 6460, 6464, 6479, 6480, 351, 360, 526, 709, 864, 1004, 1011, 1198, 1340, 1358, 1481, 1482, 1487, 1624, 1625, 2096, 2400, 2402, 2403, 2409, 3817, 3968, 4182, 4183, 4184, 4201, 4202, 4240, 4373, 4700, 6247, 6260, 6279, 6460, 360, 1482, 4936, 360, 1482, 1487, 2268, 2269, 4183, 4184, 4189, 4701, 4895, 4936, 5291, 5297, 5498, 2083, 2096, 3807, 4373, 531, 4373, 351, 360, 526, 991, 1004, 1358, 1481, 1482, 1487, 1624, 1625, 2400, 2402, 2409, 3817, 3968, 4182, 4183, 4184, 4201, 4202, 4203, 4240, 4373, 6247, 6260, 6266, 6279, 6308, 6455, 6460, 6464, 6480, 351, 360, 526, 528, 709, 991, 1004, 1011, 1342, 1358, 1481, 1482, 1485, 1486, 1487, 1624, 1625, 1626, 1781, 1784, 2400, 2402, 2403, 2409, 3608, 3609, 3808, 3817, 3968, 4182, 4183, 4184, 4201, 4202, 4203, 4240, 4373, 4377, 6247, 6254, 6260, 6279, 6455, 6460, 6464, 6465, 6479, 6480, 6799, 351, 360, 526, 528, 709, 991, 1004, 1011, 1342, 1358, 1481, 1482, 1485, 1486, 1487, 1624, 1625, 1781, 1784, 2400, 2402, 2403, 2409, 3608, 3609, 3808, 3817, 3968, 4182, 4183, 4201, 4202, 4203, 4240, 4373, 4377, 6247, 6254, 6260, 6279, 6455, 6460, 6464, 6479, 6480, 6799, 351, 360, 526, 528, 709, 991, 1004, 1341, 1342, 1358, 1481, 1482, 1485, 1486, 1487, 1624, 2400, 2409, 3817, 3968, 4183, 4184, 4240, 4373, 4377, 4936, 6247, 6254, 6260, 6279, 6455, 6460, 6464, 6465, 6479, 6799, 177, 178, 349, 351, 360, 365, 853, 991, 994, 1166, 1338, 1481, 1626, 1944, 2265, 2266, 2392, 2430, 3267, 3481, 3845, 3968, 4201, 4202, 4373, 4913, 5067, 6247, 6260, 6279, 6308, 6460, 6469, 6470, 6480, 6483, 6486, 6504, 6505, 6989, 351, 360, 526, 991, 1004, 1358, 1481, 1482, 1487, 1624, 1625, 2400, 2402, 2409, 3817, 3968, 4182, 4183, 4184, 4201, 4202, 4203, 4240, 4373, 6247, 6260, 6266, 6279, 6308, 6455, 6460, 6464, 6480, 351, 360, 365, 526, 528, 551, 709, 853, 864, 991, 1004, 1011, 1198, 1337, 1338, 1341, 1342, 1358, 1481, 1482, 1485, 1486, 1487, 1624, 1625, 1626, 1781, 1784, 2392, 2400, 2402, 2403, 2409, 3067, 3608, 3609, 3808, 3817, 3968, 4182, 4183, 4184, 4191, 4201, 4202, 4203, 4240, 4373, 4377, 4700, 6247, 6254, 6260, 6266, 6272, 6279, 6308, 6309, 6455, 6460, 6464, 6465, 6469, 6470, 6479, 6480, 6505, 6799, 351, 360, 365, 526, 528, 864, 1004, 1011, 1198, 1338, 1358, 1481, 1482, 1487, 1624, 1625, 1781, 1784, 2400, 2402, 2403, 2409, 3608, 3609, 3808, 3817, 3968, 4182, 4183, 4201, 4202, 4203, 4240, 4373, 4377, 6247, 6260, 6279, 6455, 6460, 6464, 6479, 6480, 35, 1624, 1624, 1485, 6247, 351, 360, 526, 709, 853, 864, 1004, 1011, 1167, 1175, 1198, 1338, 1341, 1358, 1481, 1482, 1487, 1624, 1625, 2096, 2392, 2400, 2402, 2403, 2409, 3817, 3968, 4182, 4183, 4184, 4201, 4202, 4203, 4240, 4373, 4700, 6247, 6260, 6279, 6460, 6464, 6479, 6480, 351, 360, 709, 864, 1004, 1011, 1175, 1198, 1337, 1338, 1358, 1481, 1482, 1485, 1486, 1487, 1624, 1625, 1784, 2096, 2392, 2400, 2402, 2403, 2409, 3817, 3968, 4183, 4184, 4201, 4202, 4373, 4700, 4894, 4895, 5481, 6247, 6260, 6279, 6460, 6464, 6465, 6479, 351, 360, 709, 864, 1004, 1011, 1175, 1198, 1337, 1338, 1358, 1481, 1482, 1485, 1486, 1487, 1624, 1625, 1784, 2096, 2392, 2400, 2402, 2403, 2409, 3817, 3968, 4182, 4183, 4184, 4201, 4202, 4240, 4373, 4377, 4700, 4894, 4895, 5481, 6247, 6260, 6279, 6460, 6464, 6465, 6479, 351, 360, 709, 864, 1004, 1011, 1015, 1175, 1198, 1337, 1338, 1340, 1341, 1342, 1481, 1482, 1485, 1486, 1487, 1624, 1625, 2096, 2392, 2400, 2403, 2409, 3817, 3968, 4183, 4184, 4201, 4202, 4203, 4240, 4246, 4373, 4893, 4894, 4936, 6247, 6260, 6279, 6460, 6464, 6465, 6476, 6477, 6479, 360, 526, 853, 1044, 1166, 1167, 1175, 1341, 1481, 1482, 1487, 1624, 1625, 2392, 2400, 2402, 2403, 3808, 3968, 3986, 3989, 4183, 4184, 4189, 4246, 4373, 4717, 5868, 5869, 6247, 6268, 6269, 6279, 6308, 6309, 6464, 6479, 6480, 6486, 6799, 351, 360, 526, 709, 853, 864, 1004, 1011, 1167, 1175, 1198, 1338, 1341, 1358, 1481, 1482, 1487, 1624, 1625, 2096, 2392, 2400, 2402, 2403, 2409, 3817, 3968, 4182, 4183, 4184, 4201, 4202, 4203, 4240, 4373, 4700, 6247, 6260, 6279, 6460, 6464, 6479, 6480, 180, 351, 360, 526, 709, 853, 864, 1004, 1011, 1015, 1166, 1167, 1175, 1198, 1337, 1338, 1340, 1341, 1342, 1358, 1481, 1482, 1485, 1486, 1487, 1624, 1625, 1784, 2096, 2392, 2400, 2402, 2403, 2409, 3608, 3808, 3817, 3968, 4182, 4183, 4184, 4190, 4191, 4201, 4202, 4203, 4240, 4241, 4373, 4377, 4700, 4894, 4895, 5481, 6247, 6260, 6272, 6279, 6455, 6460, 6464, 6465, 6476, 6477, 6479, 6480, 351, 360, 709, 864, 1004, 1011, 1175, 1198, 1338, 1358, 1481, 1482, 1487, 1624, 1625, 1784, 2096, 2392, 2400, 2402, 2403, 2409, 3817, 3968, 4182, 4183, 4184, 4201, 4202, 4240, 4373, 4377, 4700, 4895, 6247, 6260, 6272, 6279, 6455, 6460, 6464, 6479, 360, 1481, 1624, 2400, 2409, 3968, 4373, 6279, 1781, 2400, 6279, 2096, 2400, 2403, 6247, 6279, 2074, 5693, 6799, 1624, 1931, 4432, 4749, 351, 360, 526, 853, 864, 1004, 1175, 1198, 1337, 1338, 1340, 1341, 1358, 1481, 1482, 1485, 1487, 1624, 1625, 2096, 2392, 2400, 2402, 2403, 2409, 2429, 2430, 3817, 3968, 4182, 4183, 4184, 4185, 4191, 4201, 4202, 4203, 4240, 4373, 5481, 6247, 6260, 6279, 6308, 351, 360, 526, 709, 864, 1004, 1011, 1198, 1358, 1481, 1482, 1487, 1624, 1625, 1626, 1781, 2096, 2226, 2392, 2400, 2402, 2403, 2409, 2429, 3622, 3817, 3968, 4182, 4183, 4184, 4201, 4202, 4240, 4241, 4373, 6247, 6254, 6260, 6279, 6460, 6464, 6989, 351, 360, 853, 864, 1004, 1198, 1337, 1338, 1340, 1341, 1358, 1481, 1482, 1486, 1487, 1624, 1625, 2096, 2392, 2400, 2402, 2403, 2409, 2429, 3608, 3817, 3968, 4182, 4183, 4184, 4190, 4191, 4201, 4202, 4203, 4240, 4244, 4373, 4700, 4894, 4895, 4936, 5675, 6247, 6260, 6272, 6279, 6308, 6309, 6311, 6460, 6464, 351, 360, 526, 853, 1004, 1175, 1198, 1337, 1338, 1340, 1358, 1481, 1482, 1486, 1487, 1624, 2096, 2268, 2269, 2392, 2400, 2402, 2403, 2409, 2429, 2430, 2436, 3267, 3817, 3968, 4182, 4183, 4184, 4185, 4191, 4201, 4202, 4203, 4240, 4373, 4405, 6247, 6260, 6279, 180, 351, 360, 526, 551, 709, 1004, 1011, 1198, 1358, 1481, 1482, 1485, 1486, 1487, 1625, 1626, 2096, 2226, 2400, 2402, 2403, 2409, 2429, 3621, 3622, 3817, 3968, 4182, 4183, 4184, 4201, 4202, 4240, 4241, 4373, 4382, 6247, 6279, 6464, 6989, 177, 360, 853, 1004, 1005, 1015, 1198, 1337, 1340, 1341, 1358, 1481, 1482, 1486, 1487, 1624, 1784, 2253, 2392, 2400, 2402, 2403, 2409, 2429, 3067, 3608, 3817, 3968, 4182, 4183, 4190, 4191, 4201, 4202, 4240, 4244, 4373, 4700, 4753, 4894, 4936, 6247, 6260, 6272, 6279, 6308, 6309, 6311, 6312, 6460, 6464, 6799, 6989, 351, 360, 526, 853, 864, 1004, 1175, 1198, 1337, 1338, 1340, 1358, 1481, 1482, 1486, 1487, 1624, 2096, 2227, 2268, 2269, 2392, 2400, 2402, 2403, 2409, 2429, 2430, 2436, 3817, 3968, 4182, 4183, 4184, 4185, 4191, 4201, 4202, 4203, 4240, 4373, 5481, 6247, 6260, 6279, 6308, 351, 360, 526, 551, 709, 1004, 1011, 1198, 1358, 1481, 1482, 1486, 1487, 1624, 1625, 1626, 1781, 2096, 2226, 2392, 2400, 2402, 2403, 2409, 2429, 2430, 3621, 3622, 3817, 3968, 4182, 4183, 4184, 4201, 4202, 4240, 4241, 4373, 4382, 5297, 6247, 6260, 6279, 6460, 6464, 6989, 177, 351, 360, 853, 864, 1004, 1011, 1198, 1337, 1338, 1340, 1341, 1358, 1481, 1482, 1486, 1487, 1624, 1784, 2253, 2392, 2400, 2402, 2403, 2409, 2429, 3067, 3608, 3609, 3622, 3817, 3968, 4182, 4183, 4184, 4185, 4190, 4191, 4201, 4202, 4203, 4240, 4244, 4373, 4700, 4894, 4895, 4936, 6247, 6260, 6272, 6279, 6308, 6309, 6311, 6460, 6464, 351, 360, 526, 853, 1004, 1337, 1338, 1340, 1481, 1482, 1486, 1487, 1784, 2096, 2268, 2269, 2392, 2400, 2402, 2403, 2409, 2429, 3267, 3817, 3968, 4182, 4183, 4184, 4185, 4191, 4201, 4202, 4373, 4405, 4913, 6247, 6260, 6279, 180, 351, 360, 526, 528, 551, 709, 1004, 1198, 1481, 1485, 1487, 1625, 1626, 2400, 2402, 2403, 2409, 2429, 2727, 3817, 3968, 4241, 4373, 6247, 6279, 6989, 177, 360, 853, 991, 1004, 1005, 1015, 1198, 1337, 1340, 1341, 1358, 1487, 1784, 2253, 2392, 2400, 2402, 3067, 3608, 3622, 3623, 3817, 3968, 4183, 4191, 4201, 4240, 4244, 4373, 4700, 4753, 4894, 4936, 6247, 6260, 6279, 6308, 6309, 6311, 6312, 6460, 6989, 360, 853, 991, 1004, 1167, 1337, 1338, 1341, 1481, 1482, 1487, 2267, 2400, 2402, 2429, 3609, 3808, 3817, 3996, 4185, 4193, 4201, 4936, 6254, 6464, 6465, 7004, 351, 853, 864, 991, 1004, 1624, 1626, 1781, 2079, 2096, 2409, 2436, 2718, 3465, 3807, 3817, 3968, 4196, 4203, 4210, 4241, 4255, 4373, 5306, 5481, 6247, 6254, 6279, 6308, 6479, 6989, 7020, 360, 1177, 1324, 1340, 1481, 1624, 1807, 2087, 2096, 2392, 2409, 3279, 3460, 3465, 4183, 4190, 4191, 4201, 4241, 4252, 4373, 6247, 6279, 6308, 6311, 6460, 6661, 351, 360, 526, 709, 853, 864, 1004, 1011, 1198, 1340, 1358, 1481, 1482, 1485, 1486, 1487, 1624, 1625, 2096, 2392, 2400, 2402, 2403, 2409, 2429, 3608, 3622, 3817, 3968, 4182, 4183, 4184, 4190, 4201, 4202, 4203, 4240, 4244, 4373, 6247, 6260, 6279, 6308, 6309, 6460, 6464, 6989, 351, 360, 526, 853, 864, 1004, 1011, 1175, 1198, 1337, 1338, 1340, 1341, 1358, 1481, 1482, 1485, 1486, 1487, 1624, 1784, 2096, 2227, 2268, 2269, 2392, 2400, 2402, 2403, 2409, 2429, 2430, 2436, 3267, 3608, 3808, 3817, 3968, 4182, 4183, 4184, 4185, 4190, 4191, 4201, 4202, 4203, 4240, 4244, 4373, 4405, 5481, 6247, 6260, 6272, 6279, 6308, 6464, 6480, 180, 351, 360, 526, 528, 551, 709, 864, 1004, 1011, 1198, 1341, 1342, 1358, 1481, 1482, 1485, 1486, 1487, 1624, 1625, 1626, 1781, 2096, 2226, 2227, 2392, 2400, 2402, 2403, 2409, 2429, 2430, 2565, 2727, 3608, 3621, 3622, 3808, 3817, 3968, 4182, 4183, 4184, 4191, 4201, 4202, 4240, 4241, 4373, 4377, 4381, 4382, 5297, 6247, 6254, 6260, 6279, 6308, 6311, 6460, 6464, 6465, 6469, 6989, 177, 351, 360, 853, 864, 991, 1004, 1005, 1015, 1198, 1337, 1338, 1340, 1341, 1358, 1481, 1482, 1486, 1487, 1624, 1784, 2253, 2392, 2400, 2402, 2403, 2409, 2429, 2436, 3067, 3608, 3609, 3622, 3623, 3808, 3817, 3968, 4182, 4183, 4184, 4185, 4190, 4191, 4201, 4202, 4203, 4240, 4244, 4373, 4700, 4701, 4753, 4894, 4895, 4936, 5675, 6247, 6260, 6272, 6279, 6308, 6309, 6311, 6312, 6460, 6464, 6505, 6799, 6989, 351, 360, 370, 526, 709, 853, 864, 991, 1004, 1011, 1198, 1337, 1338, 1341, 1358, 1481, 1482, 1487, 1624, 2096, 2400, 2402, 2403, 2409, 3808, 3817, 3968, 4182, 4183, 4184, 4185, 4201, 4202, 4203, 4240, 4373, 4895, 5481, 6247, 6260, 6279, 6308, 6477, 180, 351, 360, 709, 853, 864, 1004, 1011, 1198, 1342, 1358, 1481, 1482, 1485, 1487, 1624, 1625, 1781, 2096, 2392, 2400, 2402, 2403, 2409, 2727, 2728, 3608, 3622, 3623, 3807, 3808, 3817, 3968, 4182, 4183, 4184, 4189, 4201, 4202, 4240, 4241, 4244, 4373, 6247, 6260, 6279, 6308, 6309, 6455, 6460, 6480, 6486, 351, 360, 709, 853, 864, 1175, 1198, 1337, 1338, 1340, 1358, 1481, 1482, 1487, 1624, 1625, 2096, 2392, 2400, 2402, 2403, 2409, 3622, 3968, 4202, 4203, 4240, 4244, 4373, 4700, 4895, 6247, 6260, 6272, 6460, 6479, 351, 360, 526, 853, 864, 1004, 1005, 1011, 1175, 1198, 1337, 1338, 1340, 1341, 1342, 1358, 1481, 1482, 1485, 1486, 1487, 1624, 1625, 1784, 2096, 2227, 2268, 2269, 2392, 2400, 2402, 2403, 2409, 2411, 2429, 2430, 2436, 3267, 3608, 3807, 3817, 3968, 4182, 4183, 4184, 4185, 4189, 4190, 4191, 4194, 4201, 4202, 4203, 4218, 4240, 4373, 4700, 4894, 5481, 6247, 6260, 6272, 6279, 6308, 6309, 6455, 6464, 6476, 6479, 6480, 351, 360, 1481, 1482, 2400, 2409, 3817, 3968, 4182, 4183, 4240, 4373, 6247, 6279, 351, 360, 853, 864, 1004, 1198, 1337, 1338, 1340, 1358, 1481, 1482, 1487, 1624, 1625, 2096, 2392, 2400, 2402, 2403, 2409, 2429, 3608, 3968, 4182, 4183, 4201, 4202, 4203, 4240, 4244, 4373, 4700, 4894, 4895, 4936, 6247, 6260, 6272, 6279, 6308, 6309, 6311, 6460, 6464, 37, 397, 549, 557, 994, 1004, 1011, 1044, 1167, 1358, 1639, 1659, 1793, 2083, 2392, 2403, 2409, 2436, 2554, 2897, 2927, 2928, 2935, 3095, 3102, 3104, 3110, 3118, 3121, 3122, 3247, 3293, 3609, 3807, 3985, 3986, 4000, 4021, 4022, 4025, 4037, 4056, 4184, 4190, 4191, 4193, 4194, 4210, 4228, 4236, 4373, 4377, 4414, 4415, 4704, 5113, 5125, 5319, 5322, 5489, 5714, 5715, 5716, 5730, 6071, 6101, 6110, 6254, 6260, 6309, 6311, 6460, 6464, 6465, 6475, 6479, 6485, 6500, 6646, 6661, 6839, 12, 21, 188, 230, 351, 398, 526, 528, 529, 551, 557, 714, 1004, 1342, 1481, 1482, 1485, 1487, 1625, 1652, 1659, 1906, 1916, 1919, 1924, 1931, 1944, 1946, 2075, 2083, 2087, 2102, 2227, 2234, 2265, 2266, 2268, 2269, 2411, 2436, 2551, 2741, 2757, 2880, 2889, 2935, 3057, 3070, 3071, 3095, 3104, 3248, 3249, 3250, 3275, 3307, 3609, 3807, 3808, 3983, 3985, 3996, 4015, 4022, 4038, 4184, 4241, 4377, 4550, 4703, 4704, 5106, 5297, 5319, 5322, 5337, 5688, 5698, 5699, 5705, 5721, 5730, 5928, 6071, 6120, 6250, 6299, 6455, 6470, 6472, 6476, 6504, 6505, 6646, 6661, 6801, 6818, 6819, 6837, 6839, 6971, 6, 1652, 2268, 2430, 4182, 3817, 4185, 4936, 6309, 6661, 6989, 35, 180, 1651, 1652, 1666, 1794, 1796, 1911, 2894, 3110, 3267, 3457, 3845, 3980, 4405, 4406, 4416, 5715, 5716, 6099, 6109, 6498, 6667, 6864, 35, 37, 180, 1651, 1652, 1666, 1784, 1794, 1796, 1911, 2728, 2894, 3069, 3110, 3267, 3279, 3453, 3457, 3845, 3980, 4253, 4405, 4406, 4416, 4913, 5715, 5716, 6099, 6109, 6498, 6667, 6857, 6864, 7020, 7021, 2899, 180, 351, 360, 526, 551, 853, 1004, 1005, 1175, 1189, 1337, 1338, 1341, 1358, 1481, 1482, 1486, 1487, 1624, 1625, 1652, 1784, 2096, 2227, 2253, 2268, 2269, 2392, 2400, 2402, 2403, 2409, 2429, 2430, 2436, 3267, 3817, 3968, 4182, 4183, 4184, 4185, 4189, 4190, 4191, 4193, 4201, 4202, 4203, 4373, 4405, 4913, 5067, 6247, 6260, 6279, 6290, 6308, 6480, 6989, 351, 360, 398, 526, 853, 864, 991, 1004, 1044, 1175, 1198, 1320, 1337, 1338, 1340, 1341, 1342, 1358, 1481, 1482, 1485, 1487, 1491, 1493, 1624, 2096, 2227, 2253, 2268, 2269, 2271, 2392, 2400, 2402, 2403, 2409, 2429, 2430, 3118, 3608, 3807, 3808, 3817, 3968, 4037, 4038, 4182, 4183, 4184, 4185, 4190, 4191, 4201, 4202, 4203, 4240, 4244, 4246, 4253, 4373, 4700, 5481, 6247, 6260, 6272, 6279, 6308, 6309, 6311, 6460, 6464, 6476, 351, 360, 526, 709, 853, 864, 991, 1004, 1011, 1015, 1044, 1175, 1198, 1337, 1338, 1340, 1341, 1358, 1481, 1482, 1485, 1487, 1624, 1625, 1784, 2096, 2269, 2392, 2400, 2402, 2403, 2409, 2429, 3807, 3808, 3817, 3968, 3996, 4182, 4183, 4184, 4185, 4191, 4201, 4202, 4203, 4240, 4246, 4373, 4894, 4895, 4913, 5481, 6247, 6260, 6279, 6308, 6309, 6455, 6460, 6464, 6476, 6477, 6480, 349, 351, 360, 366, 370, 526, 709, 853, 864, 991, 1004, 1005, 1011, 1044, 1189, 1198, 1325, 1337, 1338, 1340, 1341, 1342, 1358, 1481, 1482, 1485, 1486, 1487, 1624, 1625, 1784, 2096, 2400, 2402, 2403, 2409, 3807, 3808, 3817, 3968, 4056, 4182, 4183, 4190, 4191, 4201, 4202, 4240, 4244, 4373, 4716, 4717, 4893, 4913, 5067, 5481, 5693, 6247, 6260, 6279, 6299, 6308, 6309, 6455, 6464, 351, 360, 526, 709, 864, 1004, 1005, 1011, 1167, 1198, 1320, 1325, 1337, 1338, 1340, 1341, 1342, 1481, 1482, 1485, 1624, 1625, 2096, 2400, 2403, 2409, 2727, 3608, 3808, 3817, 4182, 4183, 4191, 4201, 4202, 4203, 4240, 4373, 5481, 6247, 6254, 6260, 6272, 6279, 6308, 6465, 6480, 6654, 351, 360, 526, 864, 991, 1004, 1011, 1175, 1337, 1338, 1340, 1341, 1342, 1358, 1481, 1482, 1485, 1487, 1624, 1625, 2392, 2400, 2402, 2403, 2409, 2429, 3608, 3807, 3808, 3817, 3968, 4182, 4183, 4184, 4201, 4202, 4203, 4240, 4373, 5067, 5481, 6247, 6260, 6279, 6299, 6460, 6465, 6476, 6477, 351, 360, 370, 526, 864, 991, 1004, 1198, 1338, 1340, 1341, 1342, 1358, 1481, 1482, 1485, 1624, 1625, 2096, 2227, 2400, 2402, 2403, 2409, 2429, 3267, 3808, 3817, 3968, 3989, 4056, 4182, 4183, 4184, 4185, 4201, 4203, 4373, 5481, 6057, 6247, 6254, 6260, 6272, 6279, 6299, 6308, 6309, 6464, 6465, 6, 181, 351, 360, 526, 532, 853, 864, 991, 1004, 1167, 1337, 1338, 1340, 1341, 1481, 1482, 1487, 1779, 1917, 1924, 2096, 2227, 2241, 2267, 2392, 2400, 2402, 2403, 2429, 2436, 3267, 3275, 3609, 3621, 3808, 3817, 3981, 3989, 3999, 4025, 4183, 4185, 4191, 4193, 4201, 4936, 5067, 5481, 6247, 6254, 6272, 6279, 6309, 6455, 6464, 6465, 6476, 6498, 6500, 6857, 6989, 7004, 7221, 351, 360, 526, 853, 864, 1004, 1175, 1198, 1337, 1338, 1340, 1341, 1358, 1481, 1482, 1486, 1487, 1624, 1784, 2096, 2227, 2253, 2268, 2269, 2392, 2400, 2402, 2403, 2409, 2429, 2430, 2436, 3267, 3608, 3817, 3968, 4182, 4183, 4184, 4185, 4190, 4191, 4201, 4202, 4203, 4240, 4244, 4373, 4405, 5481, 6247, 6260, 6272, 6279, 6308, 351, 360, 370, 526, 709, 853, 864, 991, 1004, 1011, 1015, 1044, 1175, 1198, 1337, 1338, 1340, 1341, 1358, 1481, 1482, 1485, 1486, 1487, 1624, 1625, 1784, 2096, 2392, 2400, 2402, 2403, 2409, 2429, 3807, 3808, 3817, 3968, 4056, 4182, 4183, 4184, 4185, 4190, 4191, 4201, 4202, 4203, 4240, 4246, 4373, 4894, 4895, 4913, 5481, 6247, 6260, 6279, 6299, 6308, 6309, 6455, 6460, 6464, 6476, 6477, 6480, 351, 360, 526, 709, 864, 1004, 1005, 1011, 1325, 1337, 1338, 1340, 1341, 1342, 1358, 1481, 1482, 1485, 1487, 1624, 1625, 2096, 2392, 2400, 2402, 2403, 2409, 2429, 3608, 3807, 3808, 3817, 3968, 4182, 4183, 4191, 4201, 4202, 4203, 4240, 4373, 5481, 6247, 6254, 6260, 6272, 6279, 6299, 6308, 6460, 6465, 6480, 351, 360, 370, 526, 864, 991, 1004, 1167, 1198, 1337, 1338, 1340, 1341, 1342, 1358, 1481, 1482, 1485, 1487, 1624, 1625, 2096, 2227, 2400, 2402, 2403, 2409, 2429, 3267, 3609, 3808, 3817, 3968, 3989, 3999, 4056, 4182, 4183, 4185, 4191, 4201, 4373, 4936, 5481, 6247, 6254, 6260, 6272, 6279, 6299, 6309, 6464, 6465, 6989, 351, 360, 526, 853, 864, 1004, 1175, 1198, 1337, 1338, 1340, 1341, 1358, 1481, 1482, 1485, 1486, 1487, 1624, 1784, 2096, 2227, 2268, 2269, 2392, 2400, 2402, 2403, 2409, 2429, 2430, 2436, 3267, 3608, 3817, 3968, 4182, 4183, 4184, 4185, 4190, 4191, 4201, 4202, 4203, 4240, 4244, 4373, 4405, 5481, 6247, 6260, 6272, 6279, 6308, 6464, 6480, 349, 351, 360, 370, 526, 709, 853, 864, 991, 1004, 1005, 1011, 1015, 1044, 1189, 1198, 1325, 1337, 1338, 1340, 1341, 1342, 1358, 1481, 1482, 1485, 1486, 1487, 1624, 1625, 1784, 2096, 2400, 2402, 2403, 2409, 3807, 3808, 3817, 3968, 4056, 4182, 4183, 4184, 4190, 4191, 4201, 4202, 4203, 4240, 4373, 4716, 4717, 5067, 5481, 5693, 6247, 6260, 6279, 6299, 6308, 6309, 6455, 6460, 6464, 180, 351, 360, 526, 528, 551, 709, 1004, 1011, 1198, 1341, 1342, 1481, 1482, 1485, 1486, 1487, 1624, 1625, 1626, 1781, 2096, 2226, 2227, 2392, 2400, 2402, 2403, 2409, 2429, 2430, 2565, 2727, 3608, 3621, 3622, 3808, 3817, 3968, 4182, 4183, 4184, 4191, 4201, 4202, 4240, 4241, 4373, 4381, 4382, 5297, 6247, 6254, 6279, 6460, 6464, 6465, 6469, 6989, 180, 351, 360, 526, 709, 853, 864, 1004, 1011, 1198, 1341, 1342, 1358, 1481, 1482, 1485, 1487, 1625, 1626, 1781, 2083, 2096, 2226, 2392, 2400, 2402, 2403, 2409, 2429, 2430, 2565, 2727, 3622, 3623, 3807, 3808, 3817, 3857, 3968, 4182, 4183, 4184, 4185, 4189, 4190, 4201, 4202, 4240, 4244, 4373, 4377, 4382, 5067, 5297, 5936, 6247, 6254, 6260, 6272, 6279, 6299, 6308, 6309, 6311, 6312, 6455, 6460, 6464, 6465, 6479, 6480, 6485, 6486, 351, 360, 709, 853, 864, 1004, 1011, 1015, 1167, 1198, 1342, 1358, 1481, 1482, 1485, 1624, 1625, 1781, 1784, 2096, 2226, 2392, 2400, 2402, 2403, 2409, 2727, 2728, 3608, 3622, 3623, 3807, 3808, 3817, 3968, 4182, 4183, 4184, 4189, 4201, 4202, 4240, 4241, 4244, 4373, 5481, 6247, 6260, 6279, 6299, 6309, 6480, 6504, 351, 360, 398, 709, 853, 864, 1004, 1011, 1044, 1166, 1167, 1198, 1340, 1341, 1342, 1358, 1481, 1482, 1485, 1486, 1487, 1624, 1625, 1626, 1781, 1784, 2083, 2096, 2392, 2400, 2402, 2409, 2436, 2565, 2718, 3465, 3608, 3621, 3622, 3807, 3808, 3817, 3968, 4182, 4183, 4184, 4185, 4202, 4203, 4240, 4241, 4244, 4373, 5481, 5869, 6247, 6254, 6260, 6279, 6299, 6308, 6309, 6311, 6455, 6460, 6464, 6465, 6486, 6989, 180, 351, 360, 853, 864, 1004, 1198, 1358, 1481, 1482, 1487, 1624, 1625, 1626, 2096, 2226, 2400, 2402, 2409, 2429, 2436, 2565, 3621, 3807, 3808, 3817, 3968, 4183, 4184, 4185, 4189, 4190, 4202, 4240, 4241, 4244, 4373, 4377, 4379, 6247, 6254, 6260, 6279, 6460, 6465, 6480, 6667, 6989, 351, 360, 709, 853, 864, 1004, 1011, 1167, 1198, 1358, 1481, 1487, 1624, 1625, 1626, 1781, 1784, 2096, 2392, 2400, 2402, 2409, 2429, 2436, 3808, 3817, 3968, 4182, 4183, 4184, 4190, 4191, 4201, 4202, 4240, 4241, 4244, 4373, 4377, 6247, 6250, 6254, 6260, 6279, 6299, 6311, 6460, 6989, 351, 360, 526, 709, 853, 864, 991, 1004, 1011, 1358, 1481, 1482, 1485, 1624, 1625, 1626, 1781, 2096, 2402, 2403, 2409, 2429, 2436, 2718, 3465, 3621, 3808, 3817, 3968, 3989, 4183, 4185, 4202, 4240, 4241, 4244, 4255, 4373, 4716, 5299, 5481, 6247, 6250, 6254, 6260, 6279, 6308, 6311, 6460, 6469, 6485, 6486, 6989, 6, 181, 349, 351, 360, 853, 864, 991, 1004, 1167, 1198, 1324, 1481, 1485, 1491, 1624, 1626, 1666, 1781, 2079, 2096, 2227, 2400, 2402, 2409, 2429, 2436, 2565, 2718, 3267, 3465, 3621, 3802, 3807, 3817, 3989, 4183, 4185, 4189, 4194, 4196, 4202, 4241, 4244, 4253, 4255, 4373, 4716, 5080, 5297, 5299, 5306, 5481, 5679, 6247, 6250, 6254, 6279, 6299, 6308, 6311, 6480, 6818, 6989, 180, 351, 360, 526, 528, 551, 709, 864, 1004, 1011, 1198, 1341, 1342, 1358, 1481, 1482, 1485, 1486, 1487, 1624, 1625, 1626, 1781, 2096, 2226, 2227, 2392, 2400, 2402, 2403, 2409, 2429, 2430, 2565, 2727, 3608, 3621, 3622, 3808, 3817, 3968, 4182, 4183, 4184, 4191, 4201, 4202, 4240, 4241, 4373, 4377, 4381, 4382, 5297, 6247, 6254, 6260, 6272, 6279, 6308, 6311, 6460, 6464, 6465, 6469, 6989, 351, 360, 709, 853, 864, 1004, 1011, 1015, 1167, 1198, 1340, 1341, 1342, 1358, 1481, 1482, 1485, 1624, 1625, 1626, 1781, 1784, 2096, 2226, 2392, 2400, 2402, 2403, 2409, 2727, 2728, 3608, 3622, 3623, 3807, 3808, 3817, 3968, 4182, 4183, 4184, 4189, 4201, 4202, 4240, 4241, 4244, 4373, 5481, 6247, 6260, 6279, 6299, 6308, 6309, 6311, 6455, 6480, 6486, 6989, 180, 351, 360, 709, 853, 864, 1004, 1011, 1167, 1198, 1358, 1481, 1482, 1487, 1624, 1625, 1626, 1781, 2096, 2226, 2400, 2402, 2409, 2429, 2436, 3807, 3808, 3817, 3968, 4183, 4184, 4185, 4190, 4191, 4202, 4240, 4241, 4244, 4373, 4377, 4379, 6247, 6254, 6260, 6279, 6299, 6311, 6460, 6465, 6989, 351, 360, 709, 853, 864, 991, 1004, 1167, 1198, 1324, 1481, 1485, 1624, 1626, 1781, 2096, 2227, 2400, 2402, 2409, 2429, 2436, 2565, 2718, 3465, 3621, 3807, 3817, 3968, 3989, 4183, 4185, 4202, 4241, 4244, 4255, 4373, 4716, 5299, 5481, 6247, 6250, 6254, 6260, 6279, 6308, 6311, 6460, 6469, 6480, 6818, 6989, 180, 351, 360, 526, 528, 551, 709, 864, 1004, 1011, 1198, 1341, 1342, 1358, 1481, 1482, 1485, 1486, 1487, 1624, 1625, 1626, 1781, 2096, 2226, 2227, 2392, 2400, 2402, 2403, 2409, 2429, 2430, 2565, 2727, 3608, 3621, 3622, 3808, 3817, 3968, 4182, 4183, 4184, 4191, 4201, 4202, 4240, 4241, 4373, 4377, 4381, 4382, 5297, 6247, 6254, 6260, 6279, 6308, 6311, 6460, 6464, 6465, 6469, 6989, 351, 360, 709, 853, 864, 1004, 1011, 1044, 1167, 1198, 1341, 1358, 1481, 1482, 1485, 1486, 1487, 1624, 1625, 1626, 1781, 1784, 2096, 2392, 2400, 2402, 2409, 2436, 2565, 3465, 3621, 3622, 3807, 3808, 3817, 3968, 4182, 4183, 4184, 4185, 4202, 4203, 4240, 4241, 4244, 4373, 4377, 5481, 6247, 6254, 6260, 6279, 6299, 6308, 6309, 6311, 6455, 6460, 6464, 6465, 6486, 6989, 177, 360, 853, 991, 1004, 1005, 1015, 1198, 1324, 1337, 1340, 1341, 1358, 1481, 1482, 1486, 1487, 1624, 1784, 2253, 2392, 2400, 2402, 2403, 2409, 2429, 2436, 3067, 3608, 3609, 3622, 3623, 3808, 3817, 3968, 4182, 4183, 4185, 4190, 4191, 4201, 4202, 4203, 4240, 4244, 4373, 4700, 4701, 4753, 4894, 4895, 4936, 5675, 6247, 6260, 6272, 6279, 6308, 6309, 6311, 6312, 6460, 6464, 6465, 6505, 6799, 6989, 351, 360, 526, 864, 1175, 1198, 1325, 1337, 1338, 1340, 1341, 1358, 1481, 1482, 1485, 1487, 1624, 1625, 2096, 2392, 2400, 2402, 2403, 2409, 2429, 2430, 3968, 4182, 4183, 4184, 4189, 4190, 4202, 4203, 4240, 4241, 4244, 4246, 4373, 4700, 4894, 4895, 4936, 5675, 6247, 6260, 6272, 6279, 6308, 6309, 6311, 6460, 6479, 6480, 360, 560, 709, 853, 864, 1004, 1011, 1175, 1198, 1337, 1338, 1340, 1341, 1358, 1481, 1482, 1485, 1486, 1487, 1624, 1625, 2096, 2392, 2400, 2402, 2403, 2409, 3465, 3608, 3622, 3623, 3817, 3968, 4183, 4190, 4201, 4202, 4203, 4240, 4241, 4244, 4373, 4700, 4756, 4894, 4895, 6247, 6260, 6272, 6279, 6309, 6311, 6470, 6479, 6480, 6510, 360, 709, 853, 864, 1167, 1198, 1337, 1338, 1340, 1341, 1358, 1481, 1482, 1486, 1487, 1624, 1625, 1626, 2096, 2392, 2400, 2403, 2409, 3968, 4201, 4240, 4241, 4373, 4703, 4704, 4749, 4753, 6247, 6460, 6479, 6480, 351, 360, 365, 560, 709, 737, 853, 864, 1198, 1324, 1337, 1338, 1340, 1341, 1358, 1481, 1485, 1487, 1624, 1625, 2096, 2392, 2400, 2402, 2403, 2409, 3608, 3817, 3968, 4201, 4240, 4241, 4373, 4700, 4703, 4704, 5319, 6247, 6260, 6272, 6279, 6308, 6311, 6460, 6464, 6510, 360, 709, 853, 864, 1004, 1198, 1324, 1342, 1358, 1481, 1485, 1487, 1624, 1625, 1626, 2253, 2392, 2400, 2402, 2403, 2409, 2429, 2430, 3465, 3608, 3968, 4189, 4190, 4201, 4240, 4244, 4373, 4700, 4703, 5675, 6247, 6260, 6279, 6308, 6309, 6460, 6464, 6480, 360, 365, 397, 853, 1004, 1198, 1324, 1337, 1340, 1341, 1358, 1481, 1485, 1487, 1624, 2392, 2400, 2403, 2409, 2430, 3052, 3608, 3621, 3968, 4190, 4201, 4202, 4203, 4240, 4241, 4373, 4893, 4895, 5675, 6247, 6272, 6279, 6308, 6309, 6460, 6465, 177, 360, 365, 397, 853, 1004, 1167, 1324, 1337, 1340, 1481, 1485, 1487, 1624, 1626, 1781, 2096, 2253, 2392, 2409, 2430, 2565, 2579, 2723, 3052, 3067, 3069, 3465, 3481, 3608, 3612, 3621, 3802, 3807, 4022, 4190, 4191, 4196, 4201, 4203, 4210, 4240, 4241, 4373, 4756, 4893, 4895, 5550, 5675, 5715, 6247, 6272, 6279, 6299, 6308, 6309, 6460, 6464, 6470, 6480, 6505, 177, 351, 360, 853, 864, 991, 1004, 1005, 1015, 1198, 1337, 1338, 1340, 1341, 1358, 1481, 1482, 1486, 1487, 1624, 1784, 2253, 2392, 2400, 2402, 2403, 2409, 2429, 2436, 3067, 3608, 3609, 3622, 3623, 3808, 3817, 3968, 4182, 4183, 4184, 4185, 4190, 4191, 4201, 4202, 4203, 4240, 4244, 4373, 4700, 4701, 4753, 4894, 4895, 4936, 5675, 6247, 6260, 6272, 6279, 6308, 6309, 6311, 6312, 6460, 6464, 6505, 6799, 6989, 360, 709, 853, 864, 1004, 1011, 1175, 1198, 1337, 1338, 1340, 1341, 1358, 1481, 1482, 1485, 1486, 1487, 1624, 1625, 2096, 2392, 2400, 2402, 2403, 2409, 3465, 3608, 3817, 3968, 4182, 4183, 4190, 4201, 4202, 4203, 4240, 4241, 4244, 4373, 4700, 4749, 4895, 6247, 6272, 6279, 6309, 6311, 6460, 6470, 6479, 6480, 6510, 351, 360, 709, 853, 864, 1198, 1324, 1337, 1338, 1340, 1341, 1342, 1358, 1481, 1485, 1487, 1624, 1625, 1626, 2096, 2253, 2392, 2400, 2402, 2403, 2409, 2429, 2430, 3608, 3968, 4201, 4240, 4241, 4373, 4700, 4703, 5675, 6247, 6260, 6272, 6279, 6308, 6311, 6460, 6464, 360, 365, 397, 853, 1004, 1198, 1324, 1337, 1340, 1358, 1481, 1485, 1487, 1624, 2096, 2253, 2392, 2400, 2403, 2409, 2430, 3052, 3465, 3608, 3621, 3968, 4190, 4201, 4203, 4240, 4241, 4373, 4893, 4895, 5675, 6247, 6272, 6279, 6299, 6308, 6309, 6460, 6464, 6470, 177, 351, 360, 853, 864, 991, 1004, 1005, 1015, 1198, 1337, 1338, 1340, 1341, 1358, 1481, 1482, 1486, 1487, 1624, 1784, 2253, 2392, 2400, 2402, 2403, 2409, 2429, 2436, 3067, 3608, 3609, 3622, 3623, 3808, 3817, 3968, 4182, 4183, 4184, 4185, 4190, 4191, 4201, 4202, 4203, 4240, 4244, 4373, 4700, 4701, 4753, 4894, 4895, 4936, 5675, 6247, 6260, 6272, 6279, 6308, 6309, 6311, 6312, 6460, 6464, 6505, 6799, 6989, 360, 709, 853, 864, 1198, 1337, 1338, 1340, 1341, 1358, 1481, 1482, 1485, 1487, 1624, 1625, 1626, 2096, 2392, 2400, 2402, 2403, 2409, 3608, 3968, 4201, 4240, 4241, 4373, 4700, 4703, 4704, 6247, 6279, 6460, 6464, 6479, 6480, 351, 360, 526, 709, 864, 991, 1004, 1011, 1175, 1198, 1337, 1338, 1340, 1341, 1358, 1481, 1482, 1485, 1487, 1624, 1625, 2096, 2392, 2400, 2402, 2403, 2409, 2429, 3808, 3817, 3968, 4182, 4183, 4184, 4191, 4201, 4202, 4203, 4240, 4373, 5481, 6247, 6260, 6279, 6308, 6309, 6464, 351, 360, 709, 853, 864, 1004, 1011, 1198, 1358, 1481, 1482, 1487, 1624, 1625, 1781, 2096, 2392, 2400, 2402, 2403, 2409, 3622, 3808, 3817, 3968, 4182, 4183, 4184, 4185, 4201, 4202, 4240, 4241, 4244, 4373, 4377, 6247, 6260, 6279, 6299, 6460, 6464, 6465, 351, 360, 709, 853, 864, 1004, 1175, 1198, 1337, 1338, 1340, 1341, 1358, 1481, 1482, 1485, 1486, 1487, 1624, 1625, 2096, 2392, 2400, 2402, 2403, 2409, 2429, 3608, 3968, 4182, 4183, 4184, 4201, 4202, 4240, 4241, 4244, 4373, 4700, 6247, 6260, 6272, 6279, 6308, 6309, 6311, 6460, 6479, 351, 360, 526, 709, 853, 864, 1004, 1011, 1175, 1198, 1337, 1338, 1340, 1341, 1358, 1481, 1482, 1485, 1487, 1624, 1625, 2096, 2268, 2269, 2392, 2400, 2402, 2403, 2409, 3817, 3968, 4182, 4183, 4184, 4191, 4201, 4202, 4203, 4240, 4373, 4894, 4895, 5481, 6247, 6260, 6279, 6308, 6455, 351, 360, 709, 853, 864, 1004, 1011, 1198, 1358, 1481, 1482, 1487, 1624, 1625, 1781, 2096, 2392, 2400, 2402, 2403, 2409, 3622, 3623, 3817, 3968, 4182, 4183, 4184, 4189, 4190, 4201, 4202, 4240, 4241, 4244, 4373, 4377, 6247, 6260, 6279, 6299, 6309, 6311, 6460, 6464, 6479, 351, 360, 709, 853, 864, 1004, 1175, 1198, 1337, 1338, 1340, 1341, 1358, 1481, 1482, 1485, 1487, 1624, 1625, 2096, 2392, 2400, 2402, 2403, 2409, 2429, 3968, 4182, 4183, 4202, 4240, 4241, 4244, 4373, 4700, 6247, 6260, 6279, 6311, 6460, 6479, 6510, 351, 360, 526, 709, 853, 864, 1004, 1011, 1175, 1198, 1337, 1338, 1340, 1341, 1358, 1481, 1482, 1485, 1487, 1624, 1625, 2096, 2268, 2269, 2392, 2400, 2402, 2403, 2409, 3808, 3817, 3968, 4182, 4183, 4184, 4191, 4201, 4202, 4203, 4240, 4373, 4894, 5481, 6247, 6260, 6279, 6308, 6460, 6464, 351, 360, 709, 853, 864, 1004, 1011, 1198, 1358, 1481, 1482, 1485, 1487, 1624, 1625, 1781, 1784, 2096, 2392, 2400, 2402, 2403, 2409, 3622, 3623, 3817, 3968, 4182, 4183, 4184, 4189, 4190, 4201, 4202, 4240, 4241, 4244, 4373, 4377, 6247, 6260, 6279, 6299, 6309, 6311, 6460, 6464, 6479, 351, 360, 709, 864, 1004, 1175, 1198, 1337, 1338, 1340, 1341, 1358, 1481, 1482, 1485, 1486, 1487, 1624, 1625, 2096, 2392, 2400, 2402, 2403, 2409, 2429, 3968, 4182, 4183, 4202, 4240, 4241, 4244, 4373, 4700, 6247, 6260, 6279, 6460, 6479, 351, 360, 526, 864, 1004, 1011, 1175, 1198, 1337, 1340, 1358, 1481, 1482, 1486, 1487, 1624, 2096, 2268, 2269, 2392, 2400, 2402, 2403, 2409, 2429, 3807, 3817, 3968, 4182, 4183, 4184, 4191, 4201, 4202, 4203, 4240, 4373, 4894, 5481, 6247, 6260, 6279, 6308, 351, 360, 709, 853, 864, 1004, 1011, 1358, 1481, 1482, 1487, 1624, 1625, 1781, 2083, 2096, 2226, 2392, 2400, 2402, 2403, 2409, 3621, 3817, 3968, 4182, 4183, 4184, 4190, 4191, 4201, 4202, 4240, 4241, 4244, 4373, 6247, 6260, 6279, 6299, 6311, 6460, 6464, 6479, 526, 709, 853, 864, 1004, 1175, 1198, 1338, 1340, 1341, 1358, 1481, 1482, 1485, 1487, 1624, 1625, 2096, 2392, 2400, 2402, 2403, 2409, 3968, 4182, 4183, 4184, 4241, 4373, 4703, 4894, 6260, 6279, 6309, 6311, 6460, 6479, 365, 864, 1011, 1324, 1337, 1481, 1485, 1486, 1487, 1624, 1625, 2096, 2267, 2403, 2429, 2430, 4182, 4184, 4190, 4202, 4240, 4373, 6247, 6254, 6260, 6269, 6272, 6279, 6455, 6464, 6479, 349, 351, 360, 1044, 1481, 1485, 1486, 2400, 2430, 4703, 4716, 5693, 6279, 6465, 6839, 737, 1004, 1337, 1358, 1944, 2392, 3609, 3623, 4241, 4381, 6104, 6247, 6260, 6279, 6505, 7016, 351, 360, 526, 709, 853, 864, 1004, 1011, 1198, 1337, 1338, 1340, 1341, 1358, 1481, 1482, 1485, 1486, 1487, 1624, 1625, 2096, 2392, 2400, 2402, 2403, 2409, 2429, 3608, 3808, 3817, 3968, 4182, 4183, 4184, 4201, 4202, 4203, 4240, 4241, 4244, 4373, 4700, 6247, 6260, 6279, 6308, 6309, 6460, 6464, 6479, 6480, 351, 360, 526, 709, 853, 864, 991, 1004, 1011, 1015, 1044, 1175, 1198, 1337, 1338, 1340, 1341, 1342, 1358, 1481, 1482, 1485, 1487, 1624, 1625, 1784, 2096, 2268, 2269, 2392, 2400, 2402, 2403, 2409, 2429, 3608, 3807, 3808, 3817, 3968, 4182, 4183, 4184, 4185, 4190, 4191, 4201, 4202, 4203, 4240, 4246, 4373, 4700, 4894, 4895, 5481, 6247, 6260, 6272, 6279, 6308, 6309, 6455, 6460, 6464, 6477, 6480, 180, 351, 360, 709, 853, 864, 1004, 1011, 1198, 1341, 1342, 1358, 1481, 1482, 1485, 1487, 1624, 1625, 1781, 1784, 2083, 2096, 2226, 2392, 2400, 2402, 2403, 2409, 2429, 2727, 3608, 3622, 3623, 3807, 3808, 3817, 3968, 4182, 4183, 4184, 4185, 4189, 4190, 4191, 4201, 4202, 4240, 4241, 4244, 4373, 4377, 6247, 6254, 6260, 6279, 6299, 6308, 6309, 6311, 6460, 6464, 6465, 6479, 6480, 6486, 351, 360, 709, 853, 864, 1004, 1011, 1175, 1198, 1337, 1338, 1340, 1341, 1358, 1481, 1482, 1485, 1486, 1487, 1624, 1625, 2096, 2392, 2400, 2402, 2403, 2409, 2429, 3608, 3968, 4182, 4183, 4184, 4190, 4201, 4202, 4203, 4240, 4241, 4244, 4373, 4700, 4703, 4894, 4936, 6247, 6260, 6272, 6279, 6308, 6309, 6311, 6460, 6479, 6480, 6510, 351, 360, 526, 709, 853, 864, 1004, 1175, 1198, 1337, 1338, 1340, 1341, 1342, 1358, 1481, 1482, 1485, 1487, 1624, 1625, 2096, 2400, 2402, 2403, 2409, 3608, 3808, 3817, 3968, 4182, 4183, 4184, 4201, 4202, 4203, 4240, 4246, 4373, 5481, 6247, 6260, 6279, 6308, 6309, 6460, 6464, 180, 351, 360, 709, 853, 864, 1004, 1011, 1198, 1341, 1342, 1481, 1482, 1485, 1487, 1624, 1625, 1784, 2096, 2392, 2400, 2403, 2409, 3623, 3817, 3968, 4182, 4183, 4184, 4190, 4201, 4202, 4240, 4241, 4244, 4373, 4377, 6247, 6260, 6279, 6299, 6311, 6460, 6464, 6465, 6479, 351, 360, 709, 853, 864, 1175, 1198, 1325, 1337, 1338, 1340, 1341, 1358, 1481, 1482, 1487, 1624, 1625, 2096, 2400, 2402, 2403, 2409, 2429, 3968, 4183, 4202, 4240, 4244, 4373, 4700, 6247, 6260, 6279, 6460, 6479, 351, 360, 526, 709, 864, 991, 1004, 1011, 1175, 1198, 1337, 1340, 1341, 1342, 1358, 1481, 1482, 1485, 1486, 1487, 1624, 1784, 2096, 2268, 2269, 2392, 2400, 2402, 2403, 2409, 2429, 2430, 3807, 3817, 3968, 4182, 4183, 4184, 4185, 4190, 4191, 4201, 4202, 4203, 4240, 4244, 4373, 4893, 4894, 4895, 5481, 6247, 6260, 6279, 6308, 6455, 6464, 6480, 180, 351, 360, 526, 560, 709, 737, 853, 864, 994, 1004, 1011, 1015, 1167, 1198, 1341, 1342, 1358, 1481, 1482, 1485, 1487, 1624, 1625, 1626, 1781, 1784, 2083, 2096, 2226, 2227, 2392, 2400, 2402, 2403, 2409, 2429, 2430, 2436, 2551, 2727, 2728, 3608, 3621, 3622, 3623, 3807, 3808, 3817, 3968, 4182, 4183, 4184, 4185, 4189, 4190, 4191, 4201, 4202, 4240, 4241, 4244, 4373, 4377, 4381, 4382, 4700, 5067, 5291, 5297, 5481, 6247, 6254, 6260, 6272, 6279, 6299, 6308, 6309, 6311, 6455, 6460, 6464, 6465, 6469, 6479, 6480, 6485, 6486, 6500, 351, 360, 370, 526, 560, 709, 737, 853, 864, 991, 1004, 1011, 1015, 1044, 1166, 1167, 1175, 1189, 1198, 1320, 1325, 1337, 1338, 1340, 1341, 1342, 1358, 1481, 1482, 1485, 1486, 1487, 1624, 1625, 1626, 1635, 1916, 2075, 2096, 2227, 2268, 2269, 2392, 2400, 2402, 2403, 2409, 2429, 2430, 2927, 2935, 2936, 3081, 3451, 3465, 3608, 3622, 3623, 3813, 3968, 3985, 4015, 4021, 4025, 4037, 4182, 4183, 4184, 4189, 4190, 4193, 4201, 4202, 4203, 4240, 4241, 4244, 4246, 4255, 4373, 4700, 4701, 4703, 4704, 4716, 4724, 4749, 4751, 4753, 4756, 4894, 4895, 4913, 4936, 5319, 5688, 5704, 6057, 6247, 6254, 6260, 6266, 6269, 6272, 6279, 6290, 6308, 6309, 6311, 6460, 6464, 6465, 6469, 6470, 6477, 6479, 6480, 6504, 6505, 6510, 6680, 1328, 526, 1198, 1625, 1924, 2227, 2268, 2269, 2392, 2400, 2402, 2403, 2889, 4182, 4183, 4184, 6254, 7221, 2400, 2403, 3817, 6254, 6279, 1482, 1487, 2403, 4182, 4185, 4244, 4373, 4894, 4895, 4936, 6648, 6661, 714, 992, 1175, 1806, 2268, 2269, 2429, 3070, 4893, 6266, 6455, 7016, 371, 714, 992, 1175, 1340, 1486, 1806, 2269, 2400, 2429, 2430, 2591, 3070, 3989, 4038, 4189, 4253, 4893, 6266, 6483, 6651, 7016, 737, 1358, 1781, 2551, 5337, 6247, 6311, 737, 864, 1358, 1781, 1917, 2436, 2551, 2894, 2899, 3489, 4700, 5337, 5693, 5699, 5713, 6247, 6311, 6479, 6485, 6989, 7020, 7025, 1340, 2403, 3802, 5688, 1340, 1358, 1635, 1919, 2403, 2890, 3275, 3451, 3452, 3632, 3643, 3802, 4021, 4025, 4037, 4703, 4724, 4894, 5688, 6311, 6472, 6655, 351, 360, 526, 991, 1004, 1005, 1175, 1189, 1338, 1340, 1358, 1481, 1482, 1485, 1486, 1487, 1624, 1777, 2083, 2096, 2227, 2265, 2268, 2269, 2392, 2400, 2402, 2403, 2409, 2411, 2429, 2430, 2436, 3608, 3808, 3817, 3968, 4182, 4183, 4184, 4185, 4189, 4190, 4191, 4201, 4202, 4203, 4240, 4241, 4373, 4700, 6247, 6260, 6272, 6279, 6464, 6470, 6479, 6480, 6486, 6989, 7221, 351, 360, 398, 526, 853, 864, 991, 1004, 1044, 1175, 1198, 1320, 1337, 1338, 1340, 1341, 1342, 1358, 1481, 1482, 1485, 1487, 1491, 1493, 1624, 2096, 2227, 2253, 2268, 2269, 2392, 2400, 2402, 2403, 2409, 2429, 2430, 3118, 3608, 3807, 3808, 3817, 3968, 4037, 4038, 4182, 4183, 4184, 4185, 4190, 4191, 4201, 4202, 4240, 4244, 4246, 4373, 4700, 5481, 6247, 6260, 6272, 6279, 6308, 6309, 6311, 6460, 6464, 6476, 351, 360, 526, 709, 853, 864, 1004, 1011, 1015, 1044, 1175, 1198, 1337, 1338, 1340, 1341, 1358, 1481, 1482, 1485, 1487, 1624, 1625, 1784, 2096, 2269, 2392, 2400, 2403, 2409, 3807, 3808, 3817, 3968, 3996, 4182, 4183, 4184, 4185, 4190, 4191, 4201, 4202, 4203, 4240, 4246, 4373, 4894, 4895, 4913, 5481, 6247, 6260, 6279, 6299, 6308, 6309, 6455, 6460, 6464, 6476, 6477, 6480, 349, 351, 360, 370, 526, 709, 853, 864, 991, 1004, 1005, 1011, 1044, 1189, 1198, 1325, 1337, 1338, 1340, 1341, 1342, 1358, 1481, 1482, 1485, 1486, 1487, 1624, 1625, 1784, 2096, 2400, 2403, 2409, 3807, 3808, 3817, 3968, 4056, 4182, 4183, 4184, 4190, 4191, 4201, 4202, 4240, 4244, 4373, 4716, 4717, 4893, 5067, 5481, 5693, 6247, 6260, 6279, 6299, 6308, 6309, 6455, 6460, 6464, 351, 360, 526, 709, 864, 1004, 1005, 1011, 1167, 1198, 1325, 1337, 1338, 1340, 1341, 1342, 1358, 1481, 1482, 1485, 1624, 1625, 2096, 2400, 2403, 2409, 2727, 3608, 3817, 4182, 4183, 4191, 4201, 4202, 4203, 4240, 4373, 5481, 6247, 6254, 6260, 6272, 6279, 6308, 6480, 6654, 351, 360, 526, 864, 1004, 1005, 1011, 1175, 1337, 1338, 1340, 1341, 1342, 1358, 1481, 1482, 1485, 1487, 1624, 1625, 2392, 2400, 2402, 2403, 2409, 2429, 2430, 3608, 3807, 3808, 3817, 3968, 4056, 4182, 4183, 4184, 4201, 4202, 4203, 4240, 4373, 5481, 6247, 6260, 6279, 6299, 6460, 6476, 6477, 6480, 351, 360, 370, 526, 864, 991, 1004, 1005, 1011, 1198, 1338, 1341, 1342, 1358, 1481, 1482, 1485, 1493, 1624, 1625, 2096, 2402, 2403, 2409, 2429, 3817, 3968, 4056, 4182, 4183, 4184, 4201, 4203, 4373, 6057, 6247, 6254, 6260, 6272, 6279, 6299, 6308, 6309, 6312, 181, 370, 714, 853, 864, 1011, 1015, 1167, 1190, 1337, 1485, 1486, 1487, 1493, 1624, 1625, 1924, 1944, 1947, 2063, 2096, 2403, 2429, 2430, 3446, 3621, 3968, 3999, 4182, 4184, 4190, 4231, 4240, 4373, 4701, 4716, 4936, 6247, 6254, 6269, 6272, 6279, 6299, 6308, 6309, 6465, 6479, 6504, 6799, 351, 360, 526, 853, 864, 991, 1004, 1005, 1175, 1198, 1320, 1337, 1338, 1340, 1341, 1342, 1358, 1481, 1482, 1485, 1487, 1491, 1624, 2096, 2227, 2268, 2269, 2392, 2400, 2402, 2403, 2409, 2429, 2430, 3608, 3807, 3808, 3817, 3968, 4037, 4038, 4182, 4183, 4184, 4185, 4190, 4191, 4201, 4202, 4203, 4240, 4244, 4246, 4373, 4700, 5481, 6247, 6260, 6272, 6279, 6308, 6309, 6460, 6464, 351, 360, 370, 526, 709, 853, 864, 991, 1004, 1011, 1015, 1044, 1175, 1198, 1337, 1338, 1340, 1341, 1342, 1358, 1481, 1482, 1485, 1486, 1487, 1624, 1625, 1784, 2096, 2392, 2400, 2402, 2403, 2409, 3807, 3808, 3817, 3968, 4056, 4182, 4183, 4184, 4185, 4190, 4191, 4201, 4202, 4203, 4240, 4373, 4894, 4895, 4913, 5481, 6247, 6260, 6279, 6299, 6308, 6309, 6455, 6460, 6464, 6476, 6477, 6480, 351, 360, 526, 709, 864, 1004, 1005, 1011, 1325, 1337, 1338, 1340, 1341, 1342, 1358, 1481, 1482, 1485, 1487, 1624, 1625, 2096, 2400, 2402, 2403, 2409, 3608, 3807, 3808, 3817, 3968, 4182, 4183, 4184, 4191, 4201, 4202, 4203, 4240, 4373, 5481, 6247, 6254, 6260, 6272, 6279, 6299, 6308, 6460, 6480, 351, 360, 370, 526, 864, 991, 1004, 1005, 1011, 1044, 1198, 1337, 1338, 1341, 1342, 1358, 1481, 1482, 1485, 1493, 1624, 1625, 1924, 2096, 2402, 2403, 2409, 2429, 3808, 3817, 3968, 4056, 4182, 4183, 4184, 4201, 4203, 4240, 4373, 6057, 6247, 6254, 6260, 6272, 6279, 6299, 6308, 6309, 6312, 6455, 351, 360, 526, 709, 853, 864, 991, 1004, 1011, 1015, 1044, 1175, 1198, 1337, 1338, 1340, 1341, 1358, 1481, 1482, 1485, 1487, 1624, 1784, 2096, 2227, 2268, 2269, 2392, 2400, 2402, 2403, 2409, 2429, 2430, 3608, 3807, 3808, 3817, 3968, 4182, 4183, 4184, 4185, 4190, 4191, 4201, 4202, 4203, 4240, 4246, 4373, 4700, 4894, 4895, 4913, 5481, 6247, 6260, 6272, 6279, 6308, 6309, 6455, 6460, 6464, 6476, 6477, 6480, 351, 360, 370, 526, 709, 853, 864, 991, 1004, 1005, 1011, 1189, 1198, 1325, 1337, 1338, 1340, 1341, 1342, 1358, 1481, 1482, 1485, 1486, 1487, 1624, 1625, 1784, 2096, 2400, 2402, 2403, 2409, 3807, 3808, 3817, 3968, 4056, 4182, 4183, 4184, 4191, 4201, 4202, 4203, 4240, 4373, 5481, 5693, 6247, 6260, 6272, 6279, 6299, 6308, 6309, 6455, 6460, 6464, 180, 351, 360, 526, 551, 709, 1004, 1011, 1198, 1341, 1342, 1358, 1481, 1482, 1485, 1486, 1487, 1624, 1625, 1626, 1781, 1784, 2083, 2096, 2226, 2227, 2392, 2400, 2402, 2403, 2409, 2411, 2429, 2430, 2436, 3621, 3622, 3807, 3808, 3817, 3857, 3968, 4182, 4183, 4184, 4185, 4189, 4190, 4191, 4201, 4202, 4240, 4241, 4373, 4377, 4379, 4381, 4382, 5297, 5319, 5489, 6247, 6254, 6260, 6272, 6279, 6299, 6308, 6309, 6455, 6460, 6464, 6465, 6469, 6470, 6479, 6486, 6631, 6839, 6989, 180, 351, 360, 526, 709, 853, 864, 1004, 1011, 1198, 1341, 1342, 1358, 1481, 1482, 1485, 1487, 1624, 1625, 1781, 2083, 2096, 2226, 2392, 2400, 2403, 2409, 2429, 2727, 3622, 3623, 3807, 3817, 3857, 3968, 4182, 4183, 4184, 4185, 4189, 4190, 4201, 4202, 4240, 4244, 4373, 4377, 4382, 5067, 5291, 5297, 5936, 6247, 6254, 6260, 6272, 6279, 6299, 6309, 6311, 6312, 6460, 6464, 6465, 6479, 6480, 6485, 6486, 180, 351, 360, 560, 709, 853, 864, 1004, 1011, 1015, 1167, 1198, 1338, 1340, 1341, 1342, 1358, 1481, 1482, 1485, 1624, 1625, 1781, 1784, 2096, 2226, 2392, 2400, 2402, 2403, 2409, 2727, 2728, 3608, 3609, 3622, 3623, 3807, 3808, 3817, 3968, 3986, 4182, 4183, 4184, 4189, 4201, 4202, 4240, 4241, 4244, 4373, 5481, 6247, 6260, 6279, 6299, 6308, 6309, 6455, 6465, 6479, 6480, 6486, 6504, 351, 360, 398, 709, 737, 853, 864, 1004, 1011, 1044, 1166, 1198, 1340, 1341, 1342, 1358, 1481, 1482, 1485, 1486, 1487, 1624, 1625, 1781, 1784, 2083, 2096, 2392, 2402, 2403, 2409, 2565, 3608, 3621, 3622, 3808, 3968, 4182, 4183, 4184, 4185, 4202, 4203, 4240, 4241, 4244, 4373, 4377, 5067, 5869, 6247, 6260, 6279, 6299, 6308, 6309, 6311, 6455, 6460, 6464, 6465, 6472, 6479, 6486, 180, 181, 351, 360, 709, 853, 864, 1004, 1011, 1198, 1358, 1481, 1482, 1486, 1487, 1624, 1625, 1781, 2096, 2226, 2400, 2402, 2403, 2409, 3621, 3622, 3807, 3808, 3968, 4183, 4184, 4185, 4190, 4191, 4240, 4241, 4244, 4373, 4379, 5067, 6247, 6260, 6279, 6460, 6464, 6465, 6469, 6480, 6667, 351, 360, 709, 853, 864, 1004, 1011, 1166, 1167, 1198, 1358, 1481, 1487, 1624, 1625, 1781, 1784, 2096, 2392, 2400, 2402, 2403, 2409, 2429, 3808, 3817, 3968, 4182, 4183, 4184, 4190, 4191, 4201, 4202, 4240, 4241, 4244, 4373, 4377, 6247, 6260, 6279, 6299, 6311, 6460, 180, 351, 360, 526, 709, 853, 864, 991, 994, 1004, 1011, 1358, 1481, 1482, 1485, 1625, 2096, 2400, 2402, 2403, 2409, 2430, 2436, 2718, 2728, 3608, 3808, 3968, 4182, 4183, 4184, 4240, 4241, 4373, 4377, 5489, 6260, 6272, 6279, 6460, 6464, 6465, 6469, 6485, 6486, 6799, 349, 351, 360, 709, 864, 1044, 1167, 1175, 1189, 1337, 1481, 1485, 1486, 1624, 1639, 1778, 1781, 2096, 2400, 2402, 2430, 2727, 3058, 3452, 3465, 3609, 3807, 3808, 4191, 4193, 4252, 4384, 4701, 4703, 4716, 5502, 5693, 6068, 6070, 6272, 6279, 6290, 6465, 6480, 6507, 6799, 6818, 6839, 180, 351, 360, 526, 709, 864, 1004, 1011, 1198, 1341, 1342, 1358, 1481, 1482, 1485, 1486, 1487, 1624, 1625, 1781, 2083, 2096, 2226, 2392, 2400, 2402, 2403, 2409, 2429, 2430, 2436, 3621, 3622, 3623, 3807, 3817, 3857, 3968, 4182, 4183, 4184, 4185, 4189, 4190, 4191, 4201, 4202, 4240, 4244, 4373, 4377, 4381, 4382, 5297, 5936, 6247, 6254, 6260, 6272, 6279, 6299, 6309, 6311, 6312, 6460, 6464, 6465, 6479, 6480, 6486, 180, 351, 360, 709, 853, 864, 1004, 1011, 1015, 1167, 1198, 1340, 1341, 1342, 1358, 1481, 1482, 1485, 1487, 1624, 1625, 1781, 1784, 2096, 2392, 2400, 2402, 2403, 2409, 2727, 2728, 3608, 3609, 3622, 3623, 3807, 3808, 3817, 3968, 4182, 4183, 4184, 4201, 4202, 4240, 4241, 4244, 4373, 5481, 6247, 6260, 6279, 6299, 6308, 6309, 6311, 6455, 6464, 6465, 6479, 6480, 6486, 180, 181, 351, 360, 709, 853, 864, 1004, 1011, 1167, 1198, 1358, 1481, 1482, 1487, 1624, 1625, 1781, 1784, 2096, 2226, 2392, 2400, 2402, 2403, 2409, 2429, 3622, 3807, 3808, 3817, 3968, 4182, 4183, 4184, 4185, 4190, 4191, 4201, 4202, 4240, 4241, 4244, 4373, 4377, 4379, 6247, 6260, 6279, 6299, 6460, 6464, 6465, 6480, 180, 351, 360, 526, 709, 853, 864, 991, 994, 1004, 1011, 1358, 1481, 1482, 1485, 1625, 2096, 2400, 2402, 2403, 2409, 2430, 2436, 2718, 2728, 3608, 3808, 3968, 4182, 4183, 4240, 4241, 4373, 4377, 5489, 6260, 6272, 6279, 6460, 6464, 6465, 6469, 6485, 6486, 6799, 180, 351, 360, 526, 709, 853, 864, 1004, 1011, 1198, 1341, 1342, 1358, 1481, 1482, 1485, 1487, 1624, 1625, 1781, 1784, 2083, 2096, 2226, 2392, 2400, 2402, 2403, 2409, 2429, 2727, 3608, 3622, 3623, 3807, 3808, 3817, 3968, 4182, 4183, 4184, 4185, 4189, 4190, 4201, 4202, 4240, 4241, 4244, 4373, 4377, 5297, 6247, 6254, 6260, 6279, 6299, 6309, 6311, 6460, 6464, 6465, 6479, 6480, 6486, 351, 360, 709, 853, 864, 1004, 1011, 1044, 1166, 1198, 1341, 1358, 1481, 1482, 1486, 1487, 1624, 1625, 1781, 1784, 2096, 2392, 2400, 2402, 2403, 2409, 3608, 3622, 3807, 3808, 3968, 4182, 4183, 4184, 4185, 4190, 4191, 4201, 4202, 4203, 4240, 4241, 4244, 4373, 4377, 6247, 6260, 6279, 6299, 6308, 6309, 6311, 6455, 6460, 6464, 6465, 6479, 6486, 351, 360, 526, 1004, 1011, 1198, 1358, 1481, 1482, 1486, 1487, 1624, 1625, 2096, 2226, 2253, 2268, 2269, 2392, 2400, 2402, 2403, 2409, 2429, 2430, 2436, 3608, 3609, 3622, 3817, 3968, 4182, 4183, 4184, 4185, 4189, 4190, 4191, 4194, 4201, 4202, 4240, 4241, 4244, 4373, 4700, 4893, 4894, 4895, 4936, 6247, 6260, 6272, 6279, 6308, 6309, 6311, 6460, 6464, 6465, 6505, 6989, 351, 526, 709, 864, 1004, 1175, 1198, 1325, 1337, 1338, 1340, 1341, 1358, 1481, 1482, 1485, 1487, 1624, 1625, 1626, 2096, 2392, 2400, 2402, 2403, 2409, 2429, 2430, 3968, 4182, 4184, 4202, 4203, 4240, 4241, 4244, 4246, 4373, 4700, 4894, 4895, 4936, 6247, 6260, 6272, 6279, 6309, 6311, 6460, 6479, 6480, 360, 560, 709, 864, 1004, 1011, 1175, 1198, 1337, 1338, 1340, 1341, 1358, 1481, 1482, 1485, 1486, 1487, 1624, 1625, 2096, 2392, 2400, 2402, 2403, 2409, 3608, 3622, 3623, 3968, 3985, 4183, 4201, 4202, 4203, 4240, 4244, 4373, 4700, 4749, 4751, 4894, 4895, 6260, 6272, 6279, 6309, 6311, 6479, 6510, 709, 853, 864, 1189, 1198, 1337, 1338, 1340, 1341, 1358, 1481, 1482, 1486, 1487, 1624, 1625, 2096, 2400, 2402, 2403, 2409, 3968, 4240, 4373, 4703, 4704, 4749, 4753, 6279, 6460, 6479, 6480, 351, 360, 560, 709, 737, 864, 1198, 1337, 1338, 1340, 1341, 1358, 1481, 1487, 1624, 1625, 1626, 2096, 2400, 2402, 2403, 2409, 3968, 4240, 4373, 4700, 4703, 4704, 4716, 6247, 6260, 6279, 6308, 6311, 6460, 6464, 6470, 6479, 6510, 709, 853, 864, 1175, 1198, 1325, 1341, 1342, 1358, 1481, 1482, 1487, 1624, 1625, 1626, 2392, 2400, 2402, 2403, 2409, 2429, 3968, 4194, 4240, 4373, 4700, 4703, 6247, 6260, 6272, 6279, 6311, 6460, 6485, 6486, 360, 370, 560, 853, 1004, 1175, 1198, 1340, 1341, 1358, 1485, 1624, 2096, 2400, 2402, 2403, 2409, 2436, 3608, 3609, 3968, 4202, 4203, 4246, 4373, 4749, 4913, 6247, 6272, 6308, 6309, 6465, 6858, 737, 853, 1324, 1337, 1358, 1491, 1652, 1768, 1916, 1944, 2227, 2409, 3279, 3608, 3609, 3623, 3980, 4020, 4022, 4196, 4241, 4246, 4373, 4701, 6073, 6104, 6109, 6247, 6260, 6279, 6308, 6505, 6507, 6646, 6648, 6654, 6661, 6799, 6801, 6838, 7016, 7024, 7025, 7027, 351, 360, 526, 864, 1004, 1011, 1175, 1198, 1337, 1338, 1340, 1341, 1358, 1481, 1482, 1485, 1486, 1487, 1624, 1625, 2096, 2268, 2269, 2392, 2400, 2402, 2403, 2409, 2429, 2430, 3608, 3968, 4182, 4183, 4184, 4185, 4189, 4190, 4201, 4202, 4203, 4240, 4241, 4244, 4246, 4373, 4700, 4894, 4895, 4936, 6247, 6260, 6272, 6279, 6308, 6309, 6311, 6460, 6464, 6479, 6480, 709, 853, 864, 1004, 1011, 1175, 1198, 1337, 1338, 1340, 1341, 1358, 1481, 1482, 1485, 1486, 1487, 1624, 1625, 2096, 2392, 2400, 2402, 2403, 2409, 3968, 4183, 4201, 4202, 4203, 4240, 4373, 4700, 4703, 4749, 6260, 6279, 6309, 6460, 6479, 6510, 351, 360, 709, 853, 864, 1175, 1198, 1337, 1338, 1341, 1358, 1481, 1487, 1624, 1625, 1626, 2096, 2392, 2400, 2402, 2403, 2409, 2429, 3968, 4240, 4373, 4700, 4701, 4703, 4704, 4716, 6247, 6260, 6279, 6311, 6460, 6464, 6510, 560, 853, 1004, 1175, 1198, 1337, 1340, 1341, 1358, 1485, 1624, 2096, 2400, 2402, 2403, 2409, 2436, 3608, 3609, 3968, 4202, 4203, 4246, 4373, 4749, 4913, 6247, 6272, 6308, 6309, 6465, 6858, 351, 360, 526, 709, 864, 1004, 1011, 1175, 1198, 1325, 1337, 1338, 1340, 1341, 1358, 1481, 1482, 1485, 1486, 1487, 1624, 1625, 2096, 2269, 2392, 2400, 2402, 2403, 2409, 2429, 2430, 3608, 3622, 3623, 3968, 4182, 4183, 4184, 4189, 4190, 4201, 4202, 4203, 4240, 4241, 4244, 4246, 4373, 4700, 4894, 4895, 4936, 6247, 6260, 6272, 6279, 6308, 6309, 6311, 6460, 6479, 6480, 6510, 709, 853, 864, 1198, 1337, 1338, 1340, 1341, 1358, 1481, 1482, 1487, 1624, 1625, 1626, 2096, 2392, 2400, 2402, 2403, 2409, 2429, 3968, 4240, 4373, 4700, 4703, 4704, 4749, 6247, 6260, 6279, 6460, 6479, 351, 360, 526, 528, 551, 864, 1004, 1341, 1342, 1358, 1481, 1482, 1485, 1486, 1487, 1624, 1625, 1781, 1784, 2400, 2409, 3608, 3609, 3807, 3808, 3817, 3968, 4182, 4183, 4201, 4202, 4203, 4373, 4377, 6247, 6254, 6260, 6279, 6455, 6460, 6464, 6465, 6479, 6480, 6486, 6799, 351, 360, 526, 709, 853, 864, 991, 1004, 1198, 1337, 1338, 1341, 1358, 1481, 1482, 1485, 1486, 1487, 1624, 1625, 2392, 2400, 2402, 2403, 2409, 2429, 3817, 3968, 4182, 4183, 4184, 4201, 4202, 4203, 4240, 4244, 4373, 4700, 4894, 4895, 4936, 6247, 6260, 6272, 6279, 6308, 6309, 6455, 6464, 180, 351, 360, 365, 526, 528, 709, 853, 864, 1004, 1011, 1358, 1481, 1482, 1487, 1624, 1625, 1626, 2096, 2400, 2402, 2403, 2409, 3817, 3968, 4182, 4183, 4184, 4191, 4201, 4202, 4203, 4240, 4373, 6247, 6260, 6279, 6460, 6504, 6505, 351, 360, 526, 528, 551, 864, 1338, 1342, 1481, 1482, 1485, 1486, 1487, 1624, 1625, 1784, 2400, 2402, 2409, 3608, 3609, 3807, 3808, 3817, 3968, 4182, 4183, 4201, 4202, 4203, 4373, 4377, 4379, 6247, 6254, 6260, 6272, 6279, 6455, 6460, 6464, 6465, 6469, 6479, 6480, 6799, 351, 360, 526, 853, 991, 1004, 1198, 1337, 1338, 1358, 1481, 1482, 1486, 1487, 1624, 1625, 1626, 2253, 2400, 2403, 2409, 3067, 3817, 3968, 4182, 4183, 4184, 4191, 4201, 4202, 4203, 4240, 4244, 4373, 4700, 4894, 4895, 4936, 6247, 6260, 6266, 6279, 6308, 6309, 6311, 6312, 6455, 6464, 6480, 6505, 180, 351, 360, 365, 526, 528, 709, 853, 1004, 1011, 1358, 1481, 1482, 1486, 1487, 1624, 1625, 1626, 1784, 2096, 2400, 2402, 2403, 2409, 3817, 3968, 4182, 4183, 4184, 4191, 4201, 4202, 4203, 4240, 4241, 4373, 4405, 6247, 6260, 6279, 6480, 351, 360, 526, 528, 551, 864, 1004, 1338, 1341, 1342, 1481, 1482, 1485, 1486, 1487, 1624, 1625, 1781, 1784, 2400, 2402, 2409, 3608, 3609, 3807, 3808, 3817, 3968, 4182, 4183, 4201, 4202, 4203, 4373, 4377, 4379, 6247, 6254, 6260, 6272, 6279, 6455, 6460, 6464, 6465, 6469, 6479, 6480, 6486, 6799, 351, 360, 526, 709, 853, 991, 1004, 1198, 1338, 1358, 1481, 1482, 1486, 1487, 1624, 1625, 1626, 2400, 2402, 2403, 2409, 3817, 3968, 4182, 4183, 4184, 4191, 4201, 4202, 4203, 4240, 4373, 4700, 4894, 4895, 4936, 6247, 6260, 6279, 6308, 6309, 6464, 180, 351, 360, 365, 526, 528, 709, 853, 864, 1004, 1011, 1358, 1481, 1482, 1486, 1487, 1625, 1626, 1784, 2096, 2392, 2400, 2402, 2403, 2409, 3817, 3968, 4182, 4183, 4184, 4191, 4201, 4202, 4203, 4240, 4241, 4373, 6247, 6260, 6279, 6460, 6504, 6505, 351, 360, 526, 528, 551, 864, 1342, 1482, 1486, 1487, 1625, 1784, 2400, 2402, 2409, 3608, 3807, 3808, 3817, 3968, 4182, 4183, 4201, 4202, 4203, 4373, 4377, 4379, 4700, 6247, 6254, 6266, 6269, 6272, 6279, 6455, 6460, 6464, 6465, 6469, 6479, 6480, 6486, 6799, 351, 360, 526, 853, 991, 1198, 1337, 1340, 1341, 1358, 1481, 1482, 1486, 1487, 1624, 1625, 1626, 1784, 2400, 2403, 2409, 2429, 3067, 3817, 3968, 4182, 4183, 4184, 4191, 4201, 4203, 4244, 4373, 4753, 4894, 4895, 4936, 6247, 6260, 6279, 6308, 6309, 6311, 6312, 6455, 6470, 6480, 6505, 180, 351, 360, 365, 526, 528, 709, 853, 991, 1004, 1011, 1198, 1358, 1481, 1485, 1486, 1487, 1624, 1625, 1626, 1784, 2226, 2400, 2402, 2403, 2409, 3808, 3817, 3968, 4183, 4184, 4191, 4201, 4202, 4203, 4240, 4241, 4373, 4405, 5693, 6260, 6279, 6480, 178, 181, 188, 351, 365, 526, 528, 549, 864, 1011, 1189, 1198, 1340, 1341, 1358, 1481, 1482, 1485, 1487, 1781, 1924, 2403, 2409, 2553, 2728, 3608, 3623, 3807, 3968, 4182, 4183, 4185, 4201, 4203, 4240, 4383, 4719, 5299, 5679, 5693, 6247, 6250, 6254, 6279, 6455, 6460, 6465, 6469, 6470, 6472, 6479, 6480, 6799, 6818, 177, 182, 351, 528, 853, 864, 991, 1198, 1341, 1358, 1481, 1482, 1624, 1625, 1781, 2253, 2400, 2402, 2429, 3817, 3968, 4182, 4190, 4193, 4194, 4196, 4202, 4257, 6247, 6254, 6269, 6309, 6455, 6465, 6470, 6505, 6998, 177, 181, 351, 360, 365, 526, 528, 551, 991, 1004, 1358, 1625, 1911, 1924, 2083, 2087, 2253, 2402, 2403, 3267, 4184, 4189, 4190, 4191, 4196, 4201, 4202, 4244, 4405, 5106, 5693, 6120, 6254, 6260, 6269, 6312, 6460, 6477, 6504, 6681, 351, 360, 526, 528, 709, 864, 991, 1004, 1011, 1198, 1358, 1481, 1482, 1485, 1486, 1487, 1624, 1625, 2400, 2402, 2403, 2409, 3817, 3968, 4182, 4183, 4184, 4201, 4202, 4203, 4240, 4373, 6247, 6260, 6279, 6455, 6460, 6464, 6465, 6479, 6480, 180, 351, 360, 526, 528, 551, 864, 1004, 1011, 1337, 1338, 1341, 1342, 1358, 1481, 1482, 1485, 1486, 1487, 1624, 1625, 1781, 1784, 2392, 2400, 2402, 2403, 2409, 3067, 3608, 3609, 3621, 3622, 3807, 3808, 3817, 3968, 4182, 4183, 4184, 4201, 4202, 4203, 4240, 4373, 4377, 4379, 4381, 4700, 4913, 5297, 5489, 6247, 6254, 6260, 6266, 6268, 6269, 6272, 6279, 6455, 6460, 6464, 6465, 6469, 6470, 6479, 6480, 6486, 6799, 6818, 177, 349, 351, 360, 526, 709, 853, 864, 991, 1004, 1011, 1015, 1175, 1189, 1198, 1325, 1337, 1338, 1340, 1341, 1358, 1481, 1482, 1485, 1486, 1487, 1624, 1625, 1626, 1781, 1784, 2253, 2392, 2400, 2402, 2403, 2409, 2429, 3067, 3817, 3968, 4182, 4183, 4184, 4185, 4189, 4190, 4191, 4193, 4194, 4201, 4202, 4203, 4240, 4241, 4244, 4246, 4373, 4700, 4753, 4894, 4895, 4936, 6247, 6254, 6260, 6266, 6272, 6279, 6308, 6309, 6311, 6312, 6455, 6460, 6464, 6470, 6479, 6480, 6505, 177, 180, 351, 360, 365, 526, 528, 709, 853, 864, 991, 1004, 1011, 1198, 1358, 1481, 1482, 1485, 1486, 1487, 1624, 1625, 1626, 1784, 2096, 2226, 2392, 2400, 2402, 2403, 2409, 3608, 3808, 3817, 3968, 4182, 4183, 4184, 4185, 4190, 4191, 4201, 4202, 4203, 4240, 4241, 4373, 4405, 5693, 6247, 6260, 6279, 6308, 6311, 6460, 6464, 6480, 6504, 6505, 351, 360, 526, 864, 1004, 1011, 1175, 1198, 1341, 1358, 1481, 1482, 1485, 1486, 1487, 1624, 2409, 3608, 3622, 3968, 4182, 4183, 4201, 4203, 4240, 4373, 6247, 6260, 6272, 6279, 6455, 6460, 6464, 6465, 6470, 6479, 6480, 6486, 351, 360, 526, 709, 864, 1004, 1005, 1015, 1167, 1175, 1198, 1337, 1338, 1340, 1341, 1358, 1481, 1482, 1485, 1486, 1487, 1624, 1625, 2096, 2392, 2400, 2402, 2403, 2409, 3817, 3968, 4183, 4201, 4202, 4203, 4240, 4246, 4373, 4700, 4894, 4895, 4913, 5481, 6247, 6260, 6272, 6279, 6476, 6477, 180, 351, 360, 709, 853, 864, 991, 1004, 1011, 1015, 1198, 1358, 1481, 1482, 1487, 1624, 1625, 1924, 2096, 2400, 2402, 2403, 2409, 3465, 3622, 3623, 3808, 3857, 3968, 4182, 4183, 4184, 4201, 4202, 4203, 4240, 4241, 4244, 4373, 5481, 6260, 6272, 6279, 6308, 6464, 6505, 6510, 360, 1481, 1482, 1485, 3968, 4373, 6279, 6465, 6479, 360, 1358, 1481, 1624, 1625, 2400, 2403, 2409, 3968, 6279, 351, 360, 709, 1004, 1011, 1481, 1487, 2096, 2400, 2409, 3968, 4183, 4184, 4201, 4373, 6260, 6279, 180, 709, 1485, 1919, 1920, 2063, 2079, 2082, 2392, 2395, 2400, 2402, 2403, 2409, 2411, 2741, 2894, 2898, 3275, 3636, 3807, 3983, 5280, 5481, 5512, 5698, 5730, 5869, 5898, 6057, 6104, 6819, 21, 709, 1011, 2082, 2083, 2392, 2400, 2403, 2889, 3104, 3127, 3609, 3623, 3973, 3985, 4022, 4050, 4190, 4550, 4556, 4756, 4936, 5069, 5080, 5481, 5721, 5873, 5897, 5898, 6066, 6104, 6110, 6260, 6268, 6272, 6299, 6309, 6311, 6460, 6472, 6476, 6485, 6486, 6631, 6645, 6646, 6651, 6799, 6818, 6819, 6839, 207, 3067, 3275, 6480, 17, 1651, 1806, 2727, 3121, 3258, 3275, 3278, 3449, 3481, 5293, 5305, 5714, 5884, 6069, 6099, 6269, 6469, 6480, 6483, 6678, 6857, 7026, 1491, 1639, 2874, 3452, 3980, 5502, 5550, 6099, 6648, 6857, 7026, 7027, 1177, 1358, 1916, 2253, 4256, 6857, 1177, 1328, 1358, 1651, 1916, 1920, 2253, 2901, 3059, 3473, 3808, 3813, 4256, 4381, 4405, 6655, 6837, 6857, 6858, 180, 351, 360, 526, 528, 551, 864, 1004, 1011, 1337, 1338, 1341, 1342, 1358, 1481, 1482, 1485, 1486, 1487, 1624, 1625, 1781, 1784, 2392, 2400, 2402, 2403, 2409, 3067, 3608, 3609, 3621, 3622, 3807, 3808, 3817, 3968, 4182, 4183, 4184, 4201, 4202, 4203, 4373, 4377, 4379, 4381, 4700, 4913, 5297, 5489, 6247, 6254, 6260, 6266, 6268, 6269, 6272, 6279, 6455, 6460, 6464, 6465, 6469, 6470, 6479, 6480, 6486, 6799, 6818, 351, 360, 526, 709, 864, 991, 1004, 1005, 1011, 1198, 1338, 1341, 1342, 1358, 1481, 1482, 1485, 1486, 1487, 1624, 1625, 1626, 1781, 1784, 1924, 2226, 2392, 2400, 2402, 2409, 2565, 3608, 3609, 3622, 3623, 3807, 3808, 3817, 3968, 4182, 4183, 4184, 4185, 4190, 4191, 4203, 4240, 4241, 4373, 4377, 4379, 4381, 4382, 4700, 5481, 6247, 6254, 6260, 6267, 6272, 6279, 6455, 6460, 6464, 6465, 6469, 6470, 6477, 6479, 6480, 6485, 6486, 6799, 6818, 351, 360, 526, 528, 549, 560, 709, 737, 853, 864, 991, 1004, 1011, 1167, 1175, 1177, 1189, 1190, 1198, 1340, 1341, 1342, 1358, 1481, 1482, 1485, 1486, 1487, 1624, 1781, 2096, 2400, 2409, 2565, 2727, 3608, 3622, 3623, 3807, 3808, 3817, 3968, 4182, 4183, 4201, 4203, 4240, 4241, 4373, 6247, 6250, 6254, 6260, 6272, 6279, 6455, 6460, 6464, 6465, 6469, 6470, 6472, 6479, 6480, 6486, 6799, 351, 360, 526, 528, 709, 737, 853, 864, 992, 1004, 1044, 1166, 1167, 1175, 1177, 1189, 1198, 1338, 1340, 1342, 1358, 1481, 1482, 1485, 1486, 1487, 1624, 1625, 1781, 1924, 2096, 2392, 2403, 2409, 3608, 3609, 3623, 3817, 3968, 4182, 4183, 4184, 4185, 4201, 4202, 4203, 4240, 4241, 4373, 4700, 4701, 5679, 6247, 6260, 6269, 6279, 6455, 6460, 6464, 6465, 6469, 6470, 6472, 6479, 6486, 6799, 181, 351, 360, 371, 526, 528, 709, 853, 864, 1166, 1167, 1175, 1177, 1189, 1198, 1338, 1340, 1341, 1342, 1358, 1481, 1482, 1485, 1486, 1487, 1624, 1625, 1781, 1924, 2096, 2403, 2409, 3608, 3621, 3623, 3807, 3817, 3968, 4182, 4183, 4184, 4185, 4203, 4240, 4373, 4700, 5067, 5679, 6254, 6260, 6267, 6279, 6455, 6460, 6464, 6465, 6469, 6470, 6472, 6479, 6480, 6486, 6799, 6818, 181, 351, 360, 526, 528, 549, 709, 853, 864, 1004, 1011, 1175, 1177, 1189, 1198, 1325, 1337, 1338, 1340, 1341, 1342, 1358, 1481, 1482, 1485, 1486, 1487, 1624, 1625, 1781, 1924, 2392, 2400, 2403, 2409, 3608, 3623, 3807, 3817, 3968, 4182, 4183, 4184, 4185, 4201, 4202, 4203, 4240, 4373, 4701, 5067, 5679, 6247, 6250, 6254, 6260, 6266, 6267, 6272, 6279, 6455, 6460, 6464, 6465, 6469, 6470, 6472, 6477, 6479, 6480, 6486, 6799, 6818, 178, 181, 351, 360, 365, 366, 526, 528, 549, 709, 853, 864, 1175, 1189, 1198, 1340, 1341, 1342, 1358, 1481, 1482, 1485, 1486, 1487, 1624, 1625, 1626, 1781, 1924, 2392, 2403, 2409, 2553, 2728, 3608, 3609, 3621, 3622, 3623, 3807, 3813, 3817, 3968, 4182, 4183, 4184, 4185, 4201, 4203, 4240, 4373, 4701, 4894, 5067, 5679, 5693, 6247, 6250, 6254, 6267, 6272, 6279, 6455, 6460, 6464, 6465, 6469, 6470, 6472, 6477, 6479, 6480, 6486, 6799, 6818, 178, 181, 351, 360, 365, 366, 371, 526, 528, 549, 551, 864, 1175, 1189, 1198, 1325, 1340, 1341, 1342, 1358, 1481, 1482, 1485, 1486, 1487, 1624, 1626, 1781, 1924, 2392, 2403, 2409, 2728, 3052, 3608, 3609, 3621, 3622, 3623, 3807, 3813, 3817, 3968, 4182, 4183, 4184, 4185, 4201, 4203, 4240, 4383, 4701, 4716, 5067, 5679, 5693, 6250, 6254, 6267, 6269, 6272, 6309, 6455, 6465, 6469, 6470, 6472, 6477, 6479, 6480, 6486, 6799, 6818, 180, 351, 360, 526, 528, 551, 864, 1004, 1011, 1337, 1338, 1341, 1342, 1358, 1481, 1482, 1485, 1486, 1487, 1624, 1625, 1781, 1784, 2226, 2392, 2400, 2402, 2403, 2409, 3067, 3608, 3609, 3621, 3622, 3807, 3808, 3817, 3968, 4182, 4183, 4184, 4201, 4202, 4203, 4240, 4373, 4377, 4379, 4381, 4700, 4913, 5297, 5489, 6247, 6254, 6260, 6266, 6268, 6269, 6272, 6279, 6455, 6460, 6464, 6465, 6469, 6470, 6479, 6480, 6486, 6799, 6818, 351, 360, 526, 528, 549, 560, 709, 737, 853, 864, 991, 1004, 1011, 1166, 1167, 1175, 1177, 1189, 1198, 1340, 1341, 1342, 1358, 1481, 1482, 1485, 1486, 1487, 1624, 1781, 1924, 2096, 2409, 3608, 3609, 3817, 3968, 4182, 4183, 4184, 4201, 4202, 4203, 4240, 4241, 4373, 6247, 6250, 6254, 6260, 6272, 6279, 6455, 6460, 6464, 6465, 6469, 6470, 6472, 6479, 6480, 6486, 6799, 181, 351, 360, 371, 526, 528, 709, 853, 864, 1167, 1175, 1177, 1189, 1198, 1338, 1340, 1341, 1342, 1358, 1481, 1482, 1485, 1486, 1487, 1624, 1625, 1781, 1924, 2096, 2392, 2403, 2409, 3608, 3621, 3623, 3807, 3817, 3968, 4182, 4183, 4184, 4185, 4201, 4202, 4203, 4240, 4373, 4700, 5067, 5679, 6247, 6254, 6260, 6267, 6279, 6455, 6460, 6464, 6465, 6469, 6470, 6472, 6479, 6480, 6486, 6799, 6818, 178, 181, 351, 360, 365, 366, 371, 526, 528, 549, 709, 853, 864, 1175, 1189, 1198, 1340, 1341, 1342, 1358, 1481, 1482, 1485, 1486, 1487, 1624, 1625, 1626, 1781, 1924, 2392, 2403, 2409, 2728, 3052, 3608, 3609, 3621, 3622, 3623, 3807, 3813, 3817, 3968, 4182, 4183, 4184, 4185, 4201, 4203, 4240, 4373, 4701, 5067, 5679, 5693, 6247, 6250, 6254, 6267, 6269, 6272, 6279, 6455, 6460, 6464, 6465, 6469, 6470, 6472, 6477, 6479, 6480, 6486, 6799, 6818, 180, 351, 360, 526, 528, 551, 864, 1004, 1011, 1337, 1338, 1341, 1342, 1358, 1481, 1482, 1485, 1486, 1487, 1624, 1625, 1781, 1784, 2392, 2400, 2402, 2403, 2409, 3067, 3608, 3609, 3621, 3622, 3807, 3808, 3817, 3968, 4182, 4183, 4184, 4201, 4202, 4203, 4240, 4373, 4377, 4379, 4381, 4700, 4913, 5297, 5489, 6247, 6254, 6260, 6266, 6268, 6269, 6272, 6279, 6455, 6460, 6464, 6465, 6469, 6470, 6479, 6480, 6486, 6799, 6818, 351, 360, 526, 528, 709, 737, 853, 864, 1004, 1166, 1167, 1175, 1177, 1189, 1198, 1338, 1340, 1341, 1342, 1358, 1481, 1482, 1485, 1486, 1487, 1624, 1625, 1781, 1924, 2096, 2392, 2403, 2409, 3608, 3609, 3623, 3807, 3817, 3968, 4182, 4183, 4184, 4185, 4201, 4202, 4203, 4240, 4373, 4700, 4701, 5679, 6247, 6254, 6260, 6267, 6269, 6279, 6455, 6460, 6464, 6465, 6469, 6470, 6472, 6479, 6480, 6486, 6799, 6818, 177, 349, 351, 360, 526, 853, 991, 1004, 1011, 1015, 1189, 1198, 1325, 1337, 1338, 1340, 1341, 1358, 1481, 1482, 1486, 1487, 1624, 1625, 1626, 1781, 1784, 2226, 2253, 2392, 2400, 2402, 2403, 2409, 2429, 2436, 3067, 3817, 3968, 4182, 4183, 4184, 4185, 4189, 4190, 4191, 4193, 4201, 4202, 4203, 4240, 4241, 4244, 4246, 4373, 4700, 4753, 4894, 4895, 4936, 6247, 6254, 6260, 6266, 6272, 6279, 6308, 6309, 6311, 6312, 6455, 6460, 6464, 6470, 6479, 6480, 6505, 180, 351, 360, 526, 709, 864, 1004, 1015, 1175, 1198, 1325, 1337, 1338, 1340, 1341, 1358, 1481, 1482, 1485, 1487, 1624, 1625, 1781, 2096, 2227, 2392, 2400, 2402, 2403, 2409, 2429, 2430, 3608, 3817, 3968, 4182, 4183, 4184, 4189, 4190, 4191, 4194, 4201, 4202, 4203, 4240, 4246, 4373, 4700, 4894, 4895, 4936, 5481, 6247, 6260, 6269, 6272, 6279, 6311, 6455, 6460, 6464, 6477, 351, 360, 526, 560, 709, 853, 864, 991, 1004, 1005, 1011, 1015, 1044, 1166, 1167, 1175, 1177, 1198, 1337, 1338, 1340, 1341, 1358, 1481, 1482, 1485, 1486, 1487, 1624, 1625, 1784, 2096, 2392, 2400, 2402, 2403, 2409, 2429, 3465, 3817, 3968, 4182, 4183, 4184, 4190, 4201, 4202, 4203, 4240, 4241, 4244, 4246, 4373, 4700, 4749, 4894, 4895, 4913, 4936, 5481, 6247, 6254, 6260, 6272, 6279, 6455, 6460, 6476, 6477, 6480, 6485, 6510, 180, 181, 351, 360, 526, 709, 737, 853, 864, 991, 1004, 1005, 1011, 1015, 1044, 1166, 1167, 1175, 1177, 1189, 1198, 1337, 1338, 1340, 1341, 1342, 1358, 1481, 1482, 1485, 1486, 1487, 1624, 1625, 1784, 2096, 2400, 2402, 2403, 2409, 2429, 3817, 3968, 4182, 4183, 4184, 4185, 4190, 4201, 4202, 4240, 4244, 4257, 4373, 4700, 4701, 4716, 4717, 4749, 4753, 4756, 4893, 4894, 4895, 4936, 5481, 5681, 6247, 6254, 6260, 6279, 6299, 6309, 6455, 6460, 6464, 6465, 6476, 6477, 6504, 6505, 177, 351, 360, 370, 526, 709, 853, 864, 991, 1004, 1167, 1175, 1198, 1337, 1338, 1340, 1341, 1358, 1481, 1482, 1485, 1487, 1624, 1625, 1781, 2096, 2392, 2400, 2402, 2403, 2409, 2429, 3817, 3968, 4182, 4183, 4184, 4190, 4193, 4194, 4201, 4203, 4240, 4241, 4244, 4257, 4373, 4700, 4701, 4709, 4716, 4717, 4719, 4753, 4756, 4893, 4894, 4913, 4936, 6247, 6254, 6260, 6269, 6272, 6279, 6308, 6309, 6455, 6464, 6465, 6476, 6477, 6479, 177, 180, 349, 351, 360, 528, 709, 853, 864, 991, 1004, 1166, 1198, 1337, 1338, 1340, 1341, 1342, 1358, 1481, 1482, 1485, 1486, 1487, 1624, 1625, 1781, 2096, 2392, 2400, 2402, 2403, 2409, 2429, 3817, 3968, 4182, 4183, 4184, 4190, 4193, 4194, 4201, 4202, 4203, 4240, 4244, 4257, 4373, 4700, 4716, 4717, 4753, 4756, 4893, 4894, 4895, 6247, 6254, 6260, 6269, 6272, 6279, 6308, 6309, 6455, 6460, 6464, 6476, 6477, 177, 349, 351, 360, 528, 709, 853, 864, 991, 1011, 1015, 1167, 1175, 1198, 1325, 1338, 1341, 1342, 1358, 1481, 1482, 1485, 1624, 1625, 1781, 2392, 2400, 2402, 2409, 2429, 3623, 3817, 3968, 4182, 4183, 4185, 4190, 4193, 4194, 4201, 4202, 4203, 4240, 4244, 4246, 4257, 4373, 4405, 4700, 4716, 4717, 4753, 6247, 6254, 6260, 6269, 6308, 6309, 6455, 6465, 6470, 6472, 6477, 177, 178, 182, 349, 351, 360, 370, 528, 853, 864, 991, 1011, 1198, 1341, 1358, 1481, 1485, 1624, 1625, 1781, 2253, 2392, 2400, 2402, 2429, 3435, 3621, 3623, 3817, 3968, 4182, 4185, 4189, 4190, 4193, 4194, 4196, 4201, 4203, 4240, 4244, 4257, 4405, 4716, 4753, 4756, 5077, 5106, 5495, 6247, 6254, 6260, 6266, 6269, 6272, 6308, 6309, 6312, 6455, 6460, 6465, 6470, 6472, 6479, 6483, 6485, 6507, 6799, 6998, 177, 349, 351, 360, 526, 709, 853, 991, 1004, 1011, 1015, 1189, 1198, 1325, 1337, 1338, 1340, 1341, 1358, 1481, 1482, 1485, 1486, 1487, 1624, 1625, 1626, 1781, 1784, 2253, 2392, 2400, 2402, 2403, 2409, 2429, 3067, 3817, 3968, 4182, 4183, 4184, 4185, 4189, 4190, 4191, 4193, 4194, 4201, 4202, 4203, 4240, 4241, 4244, 4246, 4373, 4700, 4753, 4894, 4895, 4936, 6247, 6260, 6266, 6272, 6279, 6308, 6309, 6311, 6312, 6455, 6460, 6464, 6470, 6479, 6480, 6505, 351, 360, 526, 560, 709, 853, 864, 991, 1004, 1005, 1011, 1015, 1044, 1166, 1167, 1175, 1177, 1198, 1337, 1338, 1340, 1341, 1342, 1358, 1481, 1482, 1485, 1486, 1487, 1624, 1625, 1784, 2096, 2392, 2400, 2402, 2403, 2409, 2429, 3465, 3817, 3968, 4182, 4183, 4184, 4190, 4201, 4202, 4203, 4240, 4241, 4244, 4246, 4373, 4700, 4716, 4749, 4753, 4756, 4893, 4894, 4895, 4913, 4936, 5481, 6247, 6254, 6260, 6272, 6279, 6455, 6460, 6464, 6465, 6476, 6477, 6480, 6510, 177, 180, 349, 351, 360, 709, 853, 864, 991, 1004, 1167, 1175, 1198, 1337, 1338, 1340, 1341, 1358, 1481, 1482, 1485, 1486, 1487, 1624, 1625, 1781, 2096, 2392, 2400, 2402, 2403, 2409, 2429, 3817, 3968, 4182, 4183, 4184, 4190, 4193, 4194, 4201, 4202, 4203, 4240, 4241, 4244, 4257, 4373, 4700, 4701, 4716, 4717, 4719, 4753, 4756, 4893, 4894, 4895, 4913, 6247, 6254, 6260, 6269, 6272, 6279, 6308, 6309, 6455, 6464, 6465, 6476, 6477, 177, 349, 351, 360, 528, 853, 864, 991, 1011, 1015, 1167, 1175, 1198, 1325, 1341, 1342, 1358, 1481, 1482, 1485, 1624, 1625, 1781, 2392, 2400, 2402, 2409, 2429, 3621, 3623, 3817, 3968, 4182, 4183, 4185, 4190, 4193, 4194, 4201, 4202, 4203, 4240, 4244, 4246, 4257, 4373, 4405, 4700, 4716, 4753, 4756, 5106, 5495, 6247, 6254, 6260, 6269, 6272, 6308, 6309, 6455, 6460, 6465, 6470, 6472, 6479, 177, 349, 351, 360, 526, 709, 853, 864, 991, 1004, 1011, 1015, 1189, 1198, 1325, 1337, 1338, 1340, 1341, 1358, 1481, 1482, 1485, 1486, 1487, 1624, 1625, 1626, 1781, 1784, 2253, 2392, 2400, 2402, 2403, 2409, 2429, 3067, 3817, 3968, 4182, 4183, 4184, 4185, 4189, 4190, 4191, 4193, 4194, 4201, 4202, 4203, 4240, 4241, 4244, 4246, 4373, 4700, 4753, 4894, 4895, 4936, 6247, 6260, 6266, 6272, 6279, 6308, 6309, 6311, 6312, 6455, 6460, 6464, 6470, 6479, 6480, 6505, 180, 351, 360, 526, 709, 853, 864, 991, 1004, 1005, 1011, 1015, 1044, 1166, 1167, 1175, 1177, 1189, 1198, 1337, 1338, 1340, 1341, 1342, 1358, 1481, 1482, 1485, 1486, 1487, 1624, 1625, 1781, 1784, 2096, 2400, 2402, 2403, 2409, 2429, 3817, 3968, 4182, 4183, 4184, 4190, 4201, 4202, 4203, 4240, 4244, 4257, 4373, 4700, 4701, 4716, 4717, 4749, 4753, 4756, 4893, 4894, 4895, 4936, 6247, 6254, 6260, 6272, 6279, 6308, 6309, 6455, 6460, 6464, 6465, 6476, 6477, 6505, 177, 180, 351, 360, 365, 526, 528, 709, 853, 864, 991, 1004, 1011, 1166, 1198, 1358, 1481, 1482, 1485, 1486, 1487, 1624, 1625, 1626, 1784, 2096, 2226, 2392, 2400, 2402, 2403, 2409, 3608, 3808, 3817, 3968, 4182, 4183, 4184, 4185, 4190, 4191, 4201, 4202, 4203, 4240, 4241, 4373, 4405, 5693, 6247, 6260, 6279, 6308, 6460, 6464, 6480, 6504, 6505, 180, 351, 360, 526, 709, 864, 991, 1004, 1011, 1015, 1198, 1358, 1481, 1482, 1485, 1487, 1624, 1625, 1626, 1924, 2083, 2096, 2226, 2392, 2400, 2402, 2403, 2409, 3622, 3623, 3807, 3817, 3857, 3968, 4182, 4183, 4184, 4185, 4189, 4190, 4191, 4201, 4202, 4203, 4240, 4244, 4373, 5291, 5297, 5481, 6247, 6260, 6269, 6272, 6279, 6309, 6311, 6312, 6460, 6464, 6479, 6480, 6504, 6505, 6510, 6799, 6819, 351, 360, 528, 709, 853, 864, 1004, 1011, 1015, 1198, 1337, 1338, 1340, 1358, 1481, 1482, 1487, 1624, 1625, 1924, 2083, 2096, 2400, 2402, 2403, 2409, 2429, 3465, 3622, 3623, 3968, 3986, 4182, 4183, 4184, 4201, 4202, 4203, 4240, 4241, 4244, 4373, 5481, 6247, 6254, 6260, 6279, 6299, 6308, 6455, 6464, 6465, 6472, 6476, 6477, 6504, 6505, 6510, 6799, 181, 351, 360, 398, 526, 528, 709, 853, 864, 991, 992, 1004, 1005, 1011, 1015, 1044, 1175, 1198, 1338, 1342, 1358, 1481, 1482, 1485, 1487, 1624, 1625, 1626, 1924, 2083, 2096, 2400, 2409, 3968, 4182, 4183, 4184, 4190, 4191, 4201, 4202, 4203, 4228, 4240, 4241, 4244, 4246, 4373, 4405, 5481, 5693, 6247, 6260, 6272, 6279, 6299, 6308, 6309, 6312, 6460, 6464, 6470, 6504, 6505, 177, 351, 360, 365, 526, 528, 709, 853, 864, 991, 1004, 1011, 1198, 1358, 1481, 1485, 1487, 1624, 1625, 2083, 2096, 2392, 2400, 2402, 2403, 2409, 2429, 3968, 4182, 4183, 4184, 4189, 4190, 4191, 4201, 4202, 4203, 4240, 4373, 4405, 4716, 5299, 5693, 6254, 6260, 6279, 6309, 6312, 6460, 6464, 6505, 6799, 180, 181, 351, 360, 365, 370, 526, 528, 551, 709, 853, 864, 1004, 1011, 1015, 1198, 1358, 1481, 1485, 1487, 1624, 1625, 2083, 2096, 2400, 2402, 2403, 2409, 3808, 3968, 3989, 4182, 4183, 4184, 4185, 4189, 4190, 4201, 4202, 4203, 4240, 4246, 4373, 4405, 5106, 5299, 5481, 5693, 6247, 6260, 6279, 6299, 6309, 6312, 6455, 6460, 6464, 6465, 6479, 6480, 6504, 6799, 177, 181, 351, 360, 365, 366, 370, 526, 528, 551, 709, 853, 864, 991, 992, 1004, 1005, 1358, 1481, 1487, 1624, 1625, 1626, 1924, 2083, 2087, 2253, 2267, 2392, 2400, 2402, 2403, 2409, 2429, 3481, 3968, 4037, 4183, 4184, 4189, 4190, 4191, 4194, 4201, 4202, 4203, 4210, 4240, 4244, 4246, 4373, 4405, 5106, 5481, 5693, 6250, 6254, 6260, 6308, 6312, 6460, 6477, 6485, 6799, 177, 181, 351, 360, 365, 366, 370, 526, 528, 551, 864, 991, 992, 1004, 1167, 1358, 1487, 1625, 1906, 1911, 1916, 1924, 2083, 2087, 2226, 2253, 2265, 2267, 2400, 2402, 2429, 3248, 3267, 3449, 3481, 3808, 3968, 4037, 4184, 4189, 4190, 4191, 4196, 4201, 4202, 4203, 4210, 4240, 4246, 4373, 4405, 4406, 4716, 5106, 5481, 5693, 6254, 6260, 6269, 6309, 6312, 6460, 6472, 6485, 6500, 6504, 6799, 6998, 7004, 177, 180, 351, 360, 365, 526, 528, 709, 853, 864, 991, 1004, 1011, 1198, 1358, 1481, 1482, 1485, 1486, 1487, 1624, 1625, 1626, 1784, 2096, 2226, 2392, 2400, 2402, 2403, 2409, 3608, 3808, 3817, 3968, 4182, 4183, 4184, 4185, 4190, 4191, 4201, 4202, 4203, 4240, 4241, 4373, 4405, 5693, 6247, 6260, 6279, 6308, 6311, 6460, 6464, 6480, 6504, 6505, 351, 360, 528, 709, 853, 864, 991, 1004, 1005, 1011, 1015, 1198, 1337, 1338, 1358, 1481, 1482, 1487, 1624, 1625, 1924, 2083, 2096, 2400, 2402, 2403, 2409, 3465, 3622, 3623, 3968, 3986, 4182, 4183, 4184, 4201, 4202, 4203, 4240, 4241, 4244, 4246, 4373, 4405, 5481, 6247, 6254, 6260, 6272, 6279, 6299, 6308, 6309, 6455, 6464, 6465, 6472, 6504, 6505, 6510, 6799, 177, 181, 351, 360, 365, 370, 526, 528, 709, 853, 864, 1004, 1011, 1198, 1358, 1481, 1485, 1487, 1624, 1625, 2083, 2096, 2392, 2400, 2402, 2403, 2409, 3808, 3968, 4182, 4183, 4184, 4189, 4190, 4191, 4201, 4202, 4203, 4240, 4373, 4405, 5299, 5481, 5693, 6254, 6260, 6279, 6309, 6312, 6460, 6464, 6799, 177, 181, 351, 360, 365, 366, 370, 526, 528, 551, 709, 864, 991, 992, 1004, 1005, 1167, 1358, 1481, 1487, 1625, 1626, 1924, 2083, 2087, 2253, 2267, 2392, 2400, 2402, 2403, 2409, 2429, 3267, 3481, 3808, 3968, 4037, 4183, 4184, 4189, 4190, 4191, 4194, 4201, 4202, 4203, 4210, 4240, 4246, 4373, 4405, 4406, 5106, 5481, 5693, 6247, 6254, 6260, 6308, 6309, 6312, 6460, 6485, 6799, 7004, 177, 180, 351, 360, 365, 526, 528, 709, 853, 864, 991, 1004, 1011, 1198, 1358, 1481, 1482, 1485, 1486, 1487, 1624, 1625, 1626, 1784, 2096, 2226, 2392, 2400, 2402, 2403, 2409, 3608, 3808, 3817, 3968, 4182, 4183, 4184, 4185, 4190, 4191, 4201, 4202, 4203, 4240, 4241, 4373, 4405, 5693, 6247, 6260, 6279, 6308, 6311, 6460, 6464, 6480, 6504, 6505, 181, 351, 360, 365, 526, 528, 709, 853, 864, 991, 1004, 1005, 1011, 1044, 1198, 1358, 1481, 1482, 1485, 1487, 1624, 1625, 1626, 1924, 2083, 2096, 2400, 2402, 2403, 2409, 3968, 4182, 4183, 4184, 4190, 4191, 4201, 4202, 4203, 4240, 4241, 4244, 4246, 4373, 4405, 5481, 5693, 6247, 6260, 6272, 6279, 6299, 6308, 6309, 6312, 6460, 6464, 6504, 6505, 6799, 351, 360, 526, 709, 853, 864, 1004, 1011, 1198, 1358, 1481, 1482, 1486, 1487, 1624, 1625, 1781, 1784, 2096, 2392, 2400, 2402, 2403, 2409, 2429, 3608, 3622, 3817, 3968, 4182, 4183, 4184, 4185, 4201, 4202, 4240, 4241, 4244, 4373, 4700, 4936, 6247, 6254, 6260, 6279, 6308, 6309, 6311, 6312, 6460, 6464, 6465, 351, 360, 709, 1004, 1011, 1198, 1358, 1481, 1482, 1486, 1487, 1624, 1626, 1784, 2096, 2392, 2400, 2402, 2403, 2409, 2429, 2436, 3608, 3817, 3968, 4184, 4201, 4202, 4240, 4373, 4936, 6247, 6279, 6308, 6309, 6311, 6312, 6460, 6465, 6989, 351, 360, 526, 1004, 1011, 1198, 1358, 1481, 1482, 1486, 1487, 1624, 1626, 1784, 2096, 2392, 2400, 2402, 2403, 2409, 2429, 3608, 3609, 3817, 3968, 4182, 4183, 4184, 4201, 4202, 4240, 4244, 4373, 4936, 6247, 6254, 6272, 6279, 6308, 6309, 6311, 6312, 6460, 6464, 6465, 6989, 351, 360, 1004, 1198, 1481, 1482, 1486, 1487, 1626, 1784, 2096, 2392, 2400, 2403, 2409, 3808, 3817, 3968, 4184, 4201, 4202, 4240, 4373, 4936, 6247, 6279, 6308, 6309, 6312, 6465, 6989, 6, 1189, 1338, 1481, 1781, 2392, 2403, 2409, 2429, 3817, 4185, 4202, 4373, 4895, 4936, 5338, 6247, 6250, 6260, 6279, 6480, 351, 360, 526, 709, 853, 864, 1004, 1011, 1198, 1358, 1481, 1482, 1486, 1487, 1624, 1625, 1781, 1784, 2096, 2392, 2400, 2402, 2403, 2409, 2429, 3608, 3622, 3817, 3968, 4182, 4183, 4184, 4185, 4201, 4202, 4240, 4241, 4244, 4373, 4700, 4936, 6247, 6254, 6260, 6279, 6308, 6309, 6311, 6312, 6460, 6464, 6465, 351, 360, 526, 709, 853, 864, 1004, 1011, 1198, 1358, 1481, 1482, 1486, 1487, 1624, 1625, 1626, 1781, 1784, 2096, 2392, 2400, 2402, 2403, 2409, 2429, 2436, 3608, 3609, 3621, 3622, 3808, 3817, 3968, 4182, 4183, 4184, 4185, 4201, 4202, 4203, 4240, 4244, 4373, 4377, 4700, 4936, 6247, 6254, 6260, 6272, 6279, 6308, 6309, 6311, 6312, 6460, 6464, 6465, 6989, 351, 360, 526, 709, 853, 991, 1004, 1011, 1198, 1340, 1341, 1342, 1358, 1481, 1482, 1486, 1487, 1624, 1625, 1781, 2083, 2096, 2226, 2392, 2400, 2402, 2403, 2409, 2429, 3608, 3622, 3817, 3968, 4182, 4183, 4184, 4190, 4201, 4202, 4203, 4240, 4241, 4244, 4373, 4700, 6247, 6254, 6260, 6279, 6309, 6311, 6479, 351, 360, 1481, 1487, 1624, 2400, 2403, 2409, 3608, 3817, 3968, 4201, 4240, 4373, 6247, 6279, 207, 1340, 1354, 1358, 1625, 1762, 1906, 2553, 2554, 2576, 2592, 2756, 2757, 2896, 2897, 2935, 2936, 3251, 3974, 4021, 4025, 4190, 4415, 4704, 4921, 5113, 5131, 5701, 5730, 6062, 6630, 6661, 7027, 6308, 1166, 1911, 3481, 6314, 6799, 6821, 178, 365, 397, 737, 1166, 1485, 1491, 1626, 1760, 1784, 1911, 2266, 2874, 3460, 3465, 3481, 3488, 3489, 3615, 3968, 3996, 5481, 6070, 6290, 6314, 6799, 6821, 351, 360, 526, 709, 864, 1004, 1011, 1198, 1337, 1338, 1340, 1358, 1481, 1482, 1485, 1486, 1487, 1624, 1625, 2096, 2392, 2400, 2402, 2403, 2409, 3817, 3968, 4182, 4183, 4184, 4190, 4201, 4202, 4240, 4241, 4244, 4373, 4700, 5481, 6247, 6260, 6279, 6460, 6464, 6479, 351, 360, 526, 709, 853, 864, 991, 1004, 1011, 1175, 1198, 1337, 1338, 1340, 1358, 1481, 1482, 1485, 1486, 1487, 1624, 1625, 1781, 1784, 2096, 2392, 2400, 2402, 2403, 2409, 2436, 3608, 3622, 3623, 3817, 3968, 4182, 4183, 4184, 4185, 4201, 4202, 4240, 4241, 4244, 4373, 4700, 4894, 4895, 4936, 5481, 6247, 6254, 6260, 6279, 6460, 6479, 6480, 6510, 351, 360, 526, 709, 853, 864, 1004, 1011, 1175, 1198, 1337, 1338, 1340, 1358, 1481, 1482, 1485, 1486, 1487, 1624, 1625, 1784, 2096, 2392, 2400, 2402, 2403, 2409, 3608, 3622, 3623, 3808, 3817, 3968, 4182, 4183, 4184, 4185, 4201, 4202, 4240, 4241, 4244, 4373, 4700, 4936, 5481, 6247, 6260, 6279, 6299, 6311, 6460, 6464, 6479, 351, 360, 526, 709, 853, 864, 991, 1004, 1011, 1175, 1189, 1198, 1337, 1338, 1340, 1341, 1358, 1481, 1482, 1485, 1486, 1487, 1624, 1625, 1781, 1784, 2096, 2269, 2392, 2400, 2402, 2403, 2409, 2436, 3608, 3623, 3817, 3857, 3968, 4182, 4183, 4184, 4185, 4189, 4190, 4201, 4202, 4240, 4241, 4373, 4377, 4700, 4894, 4895, 5481, 6247, 6254, 6260, 6279, 6312, 6460, 6465, 6479, 6480, 6486, 6510, 526, 1198, 1340, 1482, 1486, 1624, 1625, 1777, 2083, 2096, 2400, 2409, 2429, 2727, 4193, 4201, 4202, 4240, 4241, 4244, 4700, 6260, 6308, 6455, 6460, 6469, 6476, 6479, 6486, 351, 360, 526, 709, 864, 1004, 1011, 1198, 1337, 1338, 1340, 1358, 1481, 1482, 1485, 1486, 1487, 1624, 1625, 2096, 2392, 2400, 2402, 2403, 2409, 3817, 3968, 4182, 4183, 4184, 4190, 4201, 4202, 4240, 4241, 4244, 4373, 4700, 5481, 6247, 6260, 6279, 6460, 6464, 6479, 351, 360, 526, 709, 853, 864, 991, 1004, 1011, 1175, 1198, 1337, 1338, 1340, 1341, 1358, 1481, 1482, 1485, 1486, 1487, 1624, 1625, 1781, 1784, 2096, 2392, 2400, 2402, 2403, 2409, 2436, 3608, 3622, 3623, 3808, 3817, 3968, 4182, 4183, 4184, 4185, 4189, 4190, 4201, 4202, 4203, 4240, 4241, 4244, 4373, 4377, 4700, 4895, 4936, 5481, 6247, 6254, 6260, 6279, 6299, 6309, 6311, 6455, 6460, 6464, 6465, 6479, 6480, 6486, 6510, 351, 360, 526, 709, 864, 1004, 1011, 1175, 1337, 1338, 1340, 1358, 1481, 1482, 1485, 1487, 1624, 1625, 1784, 2096, 2269, 2392, 2400, 2402, 2403, 2409, 3622, 3808, 3817, 3968, 4182, 4183, 4184, 4201, 4202, 4240, 4241, 4244, 4373, 4700, 4936, 5481, 6247, 6260, 6279, 6311, 6460, 6479, 180, 351, 360, 526, 709, 853, 864, 991, 1004, 1011, 1175, 1189, 1198, 1337, 1338, 1340, 1341, 1342, 1358, 1481, 1482, 1485, 1486, 1487, 1624, 1625, 1626, 1781, 1784, 2096, 2227, 2268, 2269, 2392, 2400, 2402, 2403, 2409, 2436, 2727, 3608, 3609, 3622, 3623, 3807, 3817, 3857, 3968, 4182, 4183, 4184, 4185, 4189, 4190, 4201, 4202, 4240, 4241, 4244, 4246, 4373, 4377, 4381, 4700, 4894, 4895, 4936, 5481, 5489, 5936, 6247, 6254, 6260, 6279, 6312, 6460, 6465, 6469, 6479, 6480, 6486, 6510, 1015, 1796, 1916, 2266, 2576, 2718, 3118, 3435, 3481, 3800, 4037, 4556, 5305, 5337, 5338, 5511, 5704, 5730, 6101, 360, 709, 1011, 1482, 2409, 4185, 4936, 709, 1485, 2096, 3072, 4182, 4373, 4895, 5481, 6260, 6465, 6480, 526, 709, 991, 1004, 1189, 1340, 1482, 1485, 1486, 2096, 2269, 2409, 2880, 3072, 4182, 4189, 4373, 4377, 4700, 4895, 5481, 6260, 6279, 6465, 6480, 351, 360, 526, 528, 709, 991, 1004, 1011, 1342, 1358, 1481, 1482, 1485, 1486, 1487, 1624, 1625, 1781, 1784, 2400, 2402, 2403, 2409, 3608, 3817, 3968, 4183, 4184, 4201, 4203, 4240, 4373, 6247, 6254, 6260, 6279, 6455, 6460, 6464, 6465, 6479, 6799, 351, 360, 526, 528, 551, 709, 991, 1004, 1011, 1337, 1342, 1358, 1481, 1482, 1485, 1486, 1487, 1625, 1626, 1781, 1784, 2400, 2402, 2403, 2409, 3067, 3608, 3609, 3807, 3808, 3817, 3968, 4182, 4183, 4184, 4191, 4201, 4202, 4203, 4240, 4373, 4377, 6247, 6254, 6260, 6279, 6455, 6460, 6464, 6479, 6480, 6799, 351, 360, 526, 528, 551, 709, 991, 1004, 1011, 1342, 1358, 1481, 1482, 1485, 1486, 1487, 1625, 1626, 1784, 2400, 2402, 2403, 2409, 3609, 3808, 3817, 3968, 4182, 4183, 4184, 4201, 4202, 4203, 4240, 4373, 4377, 4936, 6247, 6254, 6260, 6279, 6455, 6460, 6464, 6479, 6480, 6799, 351, 360, 365, 526, 528, 551, 709, 864, 991, 1004, 1011, 1198, 1338, 1342, 1358, 1482, 1485, 1486, 1487, 1625, 1626, 1781, 1784, 2400, 2402, 2403, 2409, 3067, 3608, 3609, 3808, 3817, 3968, 4191, 4201, 4202, 4203, 4240, 4373, 4377, 6247, 6254, 6260, 6279, 6455, 6460, 6464, 6479, 6480, 6799, 181, 351, 360, 365, 370, 526, 528, 709, 864, 991, 1015, 1044, 1175, 1189, 1358, 1485, 1487, 1624, 1625, 1781, 1924, 2409, 2429, 2436, 2728, 3608, 3621, 3623, 3807, 3968, 4185, 4240, 4257, 4753, 5679, 5693, 6254, 6260, 6272, 6308, 6309, 6455, 6464, 6465, 6470, 6472, 6476, 6485, 6486, 6799, 6818, 6998, 351, 360, 526, 528, 709, 991, 1004, 1011, 1342, 1358, 1481, 1482, 1485, 1486, 1487, 1624, 1625, 1781, 1784, 2400, 2402, 2403, 2409, 3608, 3817, 3968, 4183, 4184, 4201, 4203, 4240, 4373, 6247, 6254, 6260, 6279, 6455, 6460, 6464, 6465, 6479, 6799, 180, 351, 360, 365, 526, 528, 551, 709, 864, 991, 1004, 1011, 1198, 1337, 1338, 1341, 1342, 1358, 1481, 1482, 1485, 1486, 1487, 1624, 1625, 1626, 1781, 1784, 2096, 2400, 2402, 2403, 2409, 3067, 3608, 3609, 3807, 3808, 3817, 3968, 4182, 4183, 4184, 4191, 4201, 4202, 4203, 4240, 4373, 4377, 4379, 4405, 4700, 4936, 6247, 6254, 6260, 6266, 6279, 6308, 6455, 6460, 6464, 6465, 6469, 6470, 6479, 6480, 6486, 6799, 351, 360, 709, 1004, 1011, 1015, 1337, 1338, 1358, 1481, 1482, 1485, 1486, 1487, 1624, 1924, 2096, 2400, 2402, 2403, 2409, 3817, 3968, 4183, 4184, 4240, 4241, 4373, 4700, 4894, 4895, 4936, 6247, 6260, 6279, 6460, 6464, 351, 360, 2409, 4373, 6279, 1189, 2897, 3979, 3999, 4037, 4194, 4893, 5337, 5698, 5699, 6104, 6299, 6498, 6499, 6504, 6652, 7025, 7027, 37, 864, 1762, 1794, 2917, 2928, 3845, 4196, 4201, 5305, 6121, 6312, 351, 360, 709, 864, 1004, 1011, 1175, 1198, 1337, 1338, 1358, 1481, 1482, 1485, 1486, 1487, 1624, 1625, 2096, 2400, 2402, 2403, 2409, 3968, 4183, 4184, 4201, 4202, 4373, 4700, 4894, 6247, 6260, 6279, 6460, 6464, 6465, 6479, 351, 360, 709, 864, 1004, 1011, 1175, 1198, 1337, 1338, 1481, 1482, 1485, 1486, 1487, 1624, 1625, 1784, 2096, 2392, 2400, 2402, 2403, 2409, 3817, 3968, 4183, 4184, 4201, 4202, 4373, 4377, 4700, 4894, 4895, 4936, 5481, 6247, 6254, 6260, 6279, 6460, 6464, 6465, 6479, 351, 360, 709, 864, 1004, 1011, 1198, 1338, 1358, 1481, 1482, 1485, 1486, 1487, 1624, 1625, 2096, 2392, 2400, 2402, 2403, 2409, 3817, 3968, 4183, 4184, 4201, 4202, 4373, 4700, 5481, 6247, 6260, 6279, 6460, 6464, 6465, 6479, 351, 360, 709, 864, 1004, 1011, 1175, 1198, 1337, 1338, 1340, 1481, 1482, 1485, 1486, 1487, 1624, 1625, 1781, 1784, 2096, 2227, 2400, 2402, 2403, 2409, 3465, 3608, 3609, 3817, 3968, 4182, 4183, 4184, 4201, 4202, 4203, 4373, 4377, 4700, 4894, 4895, 4936, 5481, 6247, 6254, 6260, 6279, 6460, 6464, 6465, 6479, 351, 709, 864, 1011, 1044, 1198, 1337, 1338, 1340, 1358, 1485, 1486, 1624, 1625, 2402, 2403, 2409, 3968, 4038, 4201, 4202, 4244, 4373, 4894, 5113, 6260, 6272, 6475, 6479, 6486, 351, 360, 709, 864, 1004, 1011, 1175, 1198, 1337, 1338, 1358, 1481, 1482, 1485, 1486, 1487, 1624, 1625, 2096, 2400, 2402, 2403, 2409, 3968, 4183, 4184, 4201, 4202, 4373, 4700, 4894, 6247, 6260, 6279, 6460, 6464, 6465, 6479, 180, 351, 360, 526, 709, 864, 991, 1004, 1011, 1015, 1167, 1175, 1198, 1337, 1338, 1340, 1341, 1342, 1358, 1481, 1482, 1485, 1486, 1487, 1624, 1625, 1781, 1784, 2096, 2392, 2400, 2402, 2403, 2409, 3608, 3609, 3817, 3968, 4182, 4183, 4184, 4201, 4202, 4203, 4240, 4246, 4373, 4377, 4700, 4894, 4895, 4936, 5481, 6247, 6254, 6260, 6272, 6279, 6460, 6464, 6465, 6476, 6477, 6479, 6486, 351, 360, 709, 864, 1004, 1011, 1358, 1481, 1482, 1485, 1486, 1487, 1624, 1625, 2096, 2392, 2400, 2402, 2403, 2409, 3608, 3817, 3968, 4182, 4183, 4201, 4202, 4373, 4700, 6247, 6260, 6272, 6279, 6460, 6464, 6465, 6477, 6479, 351, 360, 709, 864, 1004, 1011, 1175, 1198, 1337, 1338, 1341, 1358, 1481, 1482, 1485, 1486, 1487, 1624, 1625, 2096, 2392, 2400, 2402, 2403, 2409, 3817, 3968, 4182, 4183, 4184, 4201, 4202, 4203, 4373, 4700, 4894, 4895, 6247, 6260, 6279, 6460, 6464, 6465, 6476, 6477, 6479, 2757, 3127, 3473, 4193, 2096, 994, 1004, 1325, 1486, 2083, 2096, 2227, 3465, 3807, 4190, 4219, 4379, 4550, 5489, 6, 1044, 1189, 1666, 1768, 1793, 1946, 2591, 2741, 2742, 2880, 2894, 2897, 2898, 3067, 3267, 3275, 3985, 3986, 3989, 4003, 4185, 4196, 4231, 4379, 4414, 4415, 4550, 4887, 5067, 5113, 5132, 5541, 5675, 5714, 5730, 5884, 5936, 6099, 6110, 6470, 6480, 6504, 6630, 6678, 6681, 6801, 6837, 6857, 6971, 7004, 7027, 526, 560, 1338, 1341, 1363, 2083, 2266, 2272, 3059, 3095, 3104, 3808, 4043, 4185, 4193, 4246, 5067, 5131, 5701, 5716, 5873, 6099, 6465, 6631, 6680, 6819, 6837, 7026, 35, 37, 1651, 1652, 4405, 4406, 4414, 4415, 4416, 5106, 5113, 5915, 7004, 35, 37, 207, 557, 560, 1651, 1652, 1659, 1666, 1931, 2087, 2096, 2575, 2576, 2579, 2741, 2742, 4228, 4231, 4236, 4405, 4406, 4414, 4415, 4416, 5106, 5113, 5713, 5714, 5715, 5716, 5721, 5915, 6099, 6101, 6104, 6109, 6110, 7004, 35, 37, 5915, 7004]\n"
     ]
    }
   ],
   "source": [
    "print(index_list)"
   ]
  },
  {
   "cell_type": "code",
   "execution_count": 66,
   "id": "2fef2021",
   "metadata": {},
   "outputs": [
    {
     "data": {
      "text/plain": [
       "(6883, 563)"
      ]
     },
     "execution_count": 66,
     "metadata": {},
     "output_type": "execute_result"
    }
   ],
   "source": [
    "def remove(df,ls):\n",
    "    ls = sorted(set(ls))\n",
    "    df = df.drop(ls)\n",
    "    return df\n",
    "df_new = remove(df,index_list)\n",
    "df_new.shape"
   ]
  },
  {
   "cell_type": "markdown",
   "id": "6fbd7ed4",
   "metadata": {},
   "source": [
    "## Remove non-Important Features"
   ]
  },
  {
   "attachments": {},
   "cell_type": "markdown",
   "id": "46e8baeb",
   "metadata": {},
   "source": [
    "No features are removed since all features in the dataset are combinations of human movements in x,y,z directions, so nothing can be irrelevant in training our model"
   ]
  },
  {
   "cell_type": "markdown",
   "id": "5d6bb07b",
   "metadata": {},
   "source": [
    "## Split Predictor and Target Varaibles"
   ]
  },
  {
   "cell_type": "code",
   "execution_count": 78,
   "id": "583f1548",
   "metadata": {},
   "outputs": [],
   "source": [
    "x_data = df_new[x_columns]\n",
    "# x_data.head()\n",
    "y_data = df_new[\"Activity\"]     #y is target variable\n",
    "# print(y_data)\n"
   ]
  },
  {
   "cell_type": "markdown",
   "id": "42429766",
   "metadata": {},
   "source": [
    "## Split Training and Testing Data Set"
   ]
  },
  {
   "cell_type": "code",
   "execution_count": 80,
   "id": "35eabe38",
   "metadata": {},
   "outputs": [],
   "source": [
    "from sklearn.model_selection import train_test_split\n",
    "\n",
    "x_train, x_test, y_train, y_test = train_test_split(\n",
    "    x_data,\n",
    "    y_data ,\n",
    "    test_size = 0.2,\n",
    "    shuffle = False )\n",
    "# print(x_train)\n"
   ]
  },
  {
   "cell_type": "markdown",
   "id": "95e2e290",
   "metadata": {},
   "source": [
    "## Standardize the Variables"
   ]
  },
  {
   "cell_type": "code",
   "execution_count": 87,
   "id": "7d7297e5",
   "metadata": {},
   "outputs": [
    {
     "data": {
      "text/plain": [
       "(5506, 561)"
      ]
     },
     "execution_count": 87,
     "metadata": {},
     "output_type": "execute_result"
    }
   ],
   "source": [
    "from sklearn.preprocessing import StandardScaler\n",
    "x_train_scaled = StandardScaler().fit_transform(x_train)\n",
    "x_train_scaled.shape"
   ]
  },
  {
   "cell_type": "code",
   "execution_count": 86,
   "id": "5fe50b32",
   "metadata": {},
   "outputs": [
    {
     "data": {
      "text/plain": [
       "(1377, 561)"
      ]
     },
     "execution_count": 86,
     "metadata": {},
     "output_type": "execute_result"
    }
   ],
   "source": [
    "x_test_scaled = StandardScaler().fit_transform(x_test)\n",
    "x_test_scaled.shape"
   ]
  },
  {
   "cell_type": "markdown",
   "id": "c6bd7e08",
   "metadata": {},
   "source": [
    "# Train Model using different variations of NB [Marks:2+1]\n",
    "**Breifly describe & Justify why one of the variant performed better compared to others**"
   ]
  },
  {
   "cell_type": "code",
   "execution_count": 117,
   "id": "c54e4440",
   "metadata": {},
   "outputs": [
    {
     "data": {
      "text/html": [
       "<style>#sk-container-id-6 {color: black;background-color: white;}#sk-container-id-6 pre{padding: 0;}#sk-container-id-6 div.sk-toggleable {background-color: white;}#sk-container-id-6 label.sk-toggleable__label {cursor: pointer;display: block;width: 100%;margin-bottom: 0;padding: 0.3em;box-sizing: border-box;text-align: center;}#sk-container-id-6 label.sk-toggleable__label-arrow:before {content: \"▸\";float: left;margin-right: 0.25em;color: #696969;}#sk-container-id-6 label.sk-toggleable__label-arrow:hover:before {color: black;}#sk-container-id-6 div.sk-estimator:hover label.sk-toggleable__label-arrow:before {color: black;}#sk-container-id-6 div.sk-toggleable__content {max-height: 0;max-width: 0;overflow: hidden;text-align: left;background-color: #f0f8ff;}#sk-container-id-6 div.sk-toggleable__content pre {margin: 0.2em;color: black;border-radius: 0.25em;background-color: #f0f8ff;}#sk-container-id-6 input.sk-toggleable__control:checked~div.sk-toggleable__content {max-height: 200px;max-width: 100%;overflow: auto;}#sk-container-id-6 input.sk-toggleable__control:checked~label.sk-toggleable__label-arrow:before {content: \"▾\";}#sk-container-id-6 div.sk-estimator input.sk-toggleable__control:checked~label.sk-toggleable__label {background-color: #d4ebff;}#sk-container-id-6 div.sk-label input.sk-toggleable__control:checked~label.sk-toggleable__label {background-color: #d4ebff;}#sk-container-id-6 input.sk-hidden--visually {border: 0;clip: rect(1px 1px 1px 1px);clip: rect(1px, 1px, 1px, 1px);height: 1px;margin: -1px;overflow: hidden;padding: 0;position: absolute;width: 1px;}#sk-container-id-6 div.sk-estimator {font-family: monospace;background-color: #f0f8ff;border: 1px dotted black;border-radius: 0.25em;box-sizing: border-box;margin-bottom: 0.5em;}#sk-container-id-6 div.sk-estimator:hover {background-color: #d4ebff;}#sk-container-id-6 div.sk-parallel-item::after {content: \"\";width: 100%;border-bottom: 1px solid gray;flex-grow: 1;}#sk-container-id-6 div.sk-label:hover label.sk-toggleable__label {background-color: #d4ebff;}#sk-container-id-6 div.sk-serial::before {content: \"\";position: absolute;border-left: 1px solid gray;box-sizing: border-box;top: 0;bottom: 0;left: 50%;z-index: 0;}#sk-container-id-6 div.sk-serial {display: flex;flex-direction: column;align-items: center;background-color: white;padding-right: 0.2em;padding-left: 0.2em;position: relative;}#sk-container-id-6 div.sk-item {position: relative;z-index: 1;}#sk-container-id-6 div.sk-parallel {display: flex;align-items: stretch;justify-content: center;background-color: white;position: relative;}#sk-container-id-6 div.sk-item::before, #sk-container-id-6 div.sk-parallel-item::before {content: \"\";position: absolute;border-left: 1px solid gray;box-sizing: border-box;top: 0;bottom: 0;left: 50%;z-index: -1;}#sk-container-id-6 div.sk-parallel-item {display: flex;flex-direction: column;z-index: 1;position: relative;background-color: white;}#sk-container-id-6 div.sk-parallel-item:first-child::after {align-self: flex-end;width: 50%;}#sk-container-id-6 div.sk-parallel-item:last-child::after {align-self: flex-start;width: 50%;}#sk-container-id-6 div.sk-parallel-item:only-child::after {width: 0;}#sk-container-id-6 div.sk-dashed-wrapped {border: 1px dashed gray;margin: 0 0.4em 0.5em 0.4em;box-sizing: border-box;padding-bottom: 0.4em;background-color: white;}#sk-container-id-6 div.sk-label label {font-family: monospace;font-weight: bold;display: inline-block;line-height: 1.2em;}#sk-container-id-6 div.sk-label-container {text-align: center;}#sk-container-id-6 div.sk-container {/* jupyter's `normalize.less` sets `[hidden] { display: none; }` but bootstrap.min.css set `[hidden] { display: none !important; }` so we also need the `!important` here to be able to override the default hidden behavior on the sphinx rendered scikit-learn.org. See: https://github.com/scikit-learn/scikit-learn/issues/21755 */display: inline-block !important;position: relative;}#sk-container-id-6 div.sk-text-repr-fallback {display: none;}</style><div id=\"sk-container-id-6\" class=\"sk-top-container\"><div class=\"sk-text-repr-fallback\"><pre>BernoulliNB()</pre><b>In a Jupyter environment, please rerun this cell to show the HTML representation or trust the notebook. <br />On GitHub, the HTML representation is unable to render, please try loading this page with nbviewer.org.</b></div><div class=\"sk-container\" hidden><div class=\"sk-item\"><div class=\"sk-estimator sk-toggleable\"><input class=\"sk-toggleable__control sk-hidden--visually\" id=\"sk-estimator-id-6\" type=\"checkbox\" checked><label for=\"sk-estimator-id-6\" class=\"sk-toggleable__label sk-toggleable__label-arrow\">BernoulliNB</label><div class=\"sk-toggleable__content\"><pre>BernoulliNB()</pre></div></div></div></div></div>"
      ],
      "text/plain": [
       "BernoulliNB()"
      ]
     },
     "execution_count": 117,
     "metadata": {},
     "output_type": "execute_result"
    }
   ],
   "source": [
    "#Bernouli\n",
    "from sklearn.naive_bayes import BernoulliNB\n",
    "\n",
    "model_b = BernoulliNB()\n",
    "model_b.fit(x_train,y_train)"
   ]
  },
  {
   "cell_type": "code",
   "execution_count": 128,
   "id": "55dc8340",
   "metadata": {},
   "outputs": [
    {
     "name": "stdout",
     "output_type": "stream",
     "text": [
      "Accuracy score on train :  0.8694151834362513\n",
      "Accuracy score on test :  0.8569353667392883\n"
     ]
    }
   ],
   "source": [
    "#Bernouli\n",
    "from sklearn.metrics import accuracy_score\n",
    "\n",
    "pred_train = model_b.predict(x_train)\n",
    "\n",
    "print(\"Accuracy score on train : \",accuracy_score(y_train,pred_train))\n",
    "\n",
    "pred_test_b = model_b.predict(x_test)\n",
    "print(\"Accuracy score on test : \",accuracy_score(y_test,pred_test_b))"
   ]
  },
  {
   "cell_type": "code",
   "execution_count": 119,
   "id": "d7a937bf",
   "metadata": {},
   "outputs": [
    {
     "data": {
      "text/html": [
       "<style>#sk-container-id-7 {color: black;background-color: white;}#sk-container-id-7 pre{padding: 0;}#sk-container-id-7 div.sk-toggleable {background-color: white;}#sk-container-id-7 label.sk-toggleable__label {cursor: pointer;display: block;width: 100%;margin-bottom: 0;padding: 0.3em;box-sizing: border-box;text-align: center;}#sk-container-id-7 label.sk-toggleable__label-arrow:before {content: \"▸\";float: left;margin-right: 0.25em;color: #696969;}#sk-container-id-7 label.sk-toggleable__label-arrow:hover:before {color: black;}#sk-container-id-7 div.sk-estimator:hover label.sk-toggleable__label-arrow:before {color: black;}#sk-container-id-7 div.sk-toggleable__content {max-height: 0;max-width: 0;overflow: hidden;text-align: left;background-color: #f0f8ff;}#sk-container-id-7 div.sk-toggleable__content pre {margin: 0.2em;color: black;border-radius: 0.25em;background-color: #f0f8ff;}#sk-container-id-7 input.sk-toggleable__control:checked~div.sk-toggleable__content {max-height: 200px;max-width: 100%;overflow: auto;}#sk-container-id-7 input.sk-toggleable__control:checked~label.sk-toggleable__label-arrow:before {content: \"▾\";}#sk-container-id-7 div.sk-estimator input.sk-toggleable__control:checked~label.sk-toggleable__label {background-color: #d4ebff;}#sk-container-id-7 div.sk-label input.sk-toggleable__control:checked~label.sk-toggleable__label {background-color: #d4ebff;}#sk-container-id-7 input.sk-hidden--visually {border: 0;clip: rect(1px 1px 1px 1px);clip: rect(1px, 1px, 1px, 1px);height: 1px;margin: -1px;overflow: hidden;padding: 0;position: absolute;width: 1px;}#sk-container-id-7 div.sk-estimator {font-family: monospace;background-color: #f0f8ff;border: 1px dotted black;border-radius: 0.25em;box-sizing: border-box;margin-bottom: 0.5em;}#sk-container-id-7 div.sk-estimator:hover {background-color: #d4ebff;}#sk-container-id-7 div.sk-parallel-item::after {content: \"\";width: 100%;border-bottom: 1px solid gray;flex-grow: 1;}#sk-container-id-7 div.sk-label:hover label.sk-toggleable__label {background-color: #d4ebff;}#sk-container-id-7 div.sk-serial::before {content: \"\";position: absolute;border-left: 1px solid gray;box-sizing: border-box;top: 0;bottom: 0;left: 50%;z-index: 0;}#sk-container-id-7 div.sk-serial {display: flex;flex-direction: column;align-items: center;background-color: white;padding-right: 0.2em;padding-left: 0.2em;position: relative;}#sk-container-id-7 div.sk-item {position: relative;z-index: 1;}#sk-container-id-7 div.sk-parallel {display: flex;align-items: stretch;justify-content: center;background-color: white;position: relative;}#sk-container-id-7 div.sk-item::before, #sk-container-id-7 div.sk-parallel-item::before {content: \"\";position: absolute;border-left: 1px solid gray;box-sizing: border-box;top: 0;bottom: 0;left: 50%;z-index: -1;}#sk-container-id-7 div.sk-parallel-item {display: flex;flex-direction: column;z-index: 1;position: relative;background-color: white;}#sk-container-id-7 div.sk-parallel-item:first-child::after {align-self: flex-end;width: 50%;}#sk-container-id-7 div.sk-parallel-item:last-child::after {align-self: flex-start;width: 50%;}#sk-container-id-7 div.sk-parallel-item:only-child::after {width: 0;}#sk-container-id-7 div.sk-dashed-wrapped {border: 1px dashed gray;margin: 0 0.4em 0.5em 0.4em;box-sizing: border-box;padding-bottom: 0.4em;background-color: white;}#sk-container-id-7 div.sk-label label {font-family: monospace;font-weight: bold;display: inline-block;line-height: 1.2em;}#sk-container-id-7 div.sk-label-container {text-align: center;}#sk-container-id-7 div.sk-container {/* jupyter's `normalize.less` sets `[hidden] { display: none; }` but bootstrap.min.css set `[hidden] { display: none !important; }` so we also need the `!important` here to be able to override the default hidden behavior on the sphinx rendered scikit-learn.org. See: https://github.com/scikit-learn/scikit-learn/issues/21755 */display: inline-block !important;position: relative;}#sk-container-id-7 div.sk-text-repr-fallback {display: none;}</style><div id=\"sk-container-id-7\" class=\"sk-top-container\"><div class=\"sk-text-repr-fallback\"><pre>GaussianNB()</pre><b>In a Jupyter environment, please rerun this cell to show the HTML representation or trust the notebook. <br />On GitHub, the HTML representation is unable to render, please try loading this page with nbviewer.org.</b></div><div class=\"sk-container\" hidden><div class=\"sk-item\"><div class=\"sk-estimator sk-toggleable\"><input class=\"sk-toggleable__control sk-hidden--visually\" id=\"sk-estimator-id-7\" type=\"checkbox\" checked><label for=\"sk-estimator-id-7\" class=\"sk-toggleable__label sk-toggleable__label-arrow\">GaussianNB</label><div class=\"sk-toggleable__content\"><pre>GaussianNB()</pre></div></div></div></div></div>"
      ],
      "text/plain": [
       "GaussianNB()"
      ]
     },
     "execution_count": 119,
     "metadata": {},
     "output_type": "execute_result"
    }
   ],
   "source": [
    "#Gaussian\n",
    "from sklearn.naive_bayes import GaussianNB\n",
    "\n",
    "model_g = GaussianNB()\n",
    "model_g.fit(x_train,y_train)"
   ]
  },
  {
   "cell_type": "code",
   "execution_count": 129,
   "id": "2e93548b",
   "metadata": {},
   "outputs": [
    {
     "name": "stdout",
     "output_type": "stream",
     "text": [
      "Accuracy score on train :  0.7050490374137305\n",
      "Accuracy score on test :  0.7116920842411039\n"
     ]
    }
   ],
   "source": [
    "#Gaussian\n",
    "from sklearn.metrics import accuracy_score\n",
    "\n",
    "pred_train = model_g.predict(x_train)\n",
    "\n",
    "print(\"Accuracy score on train : \",accuracy_score(y_train,pred_train))\n",
    "\n",
    "pred_test_g = model_g.predict(x_test)\n",
    "print(\"Accuracy score on test : \",accuracy_score(y_test,pred_test_g))"
   ]
  },
  {
   "attachments": {},
   "cell_type": "markdown",
   "id": "ce4bbe90",
   "metadata": {},
   "source": [
    "We see that bernoulli's performed better than Gaussian in this case. When we standardised the data, it got closer in resemblance to bernouli's distribution which can be one of the reasons for this. Also, Gaussian might be less accurate than Gaussian because in Gaussian there are two hyperparameters which need to be estimated on maximum likelihood basis"
   ]
  },
  {
   "cell_type": "markdown",
   "id": "bb30ac66",
   "metadata": {},
   "source": [
    "# Compare time and accuracy of different NB algos [Marks:0.5]"
   ]
  },
  {
   "cell_type": "code",
   "execution_count": 132,
   "id": "4bf8f864",
   "metadata": {},
   "outputs": [],
   "source": [
    "from sklearn.preprocessing import MinMaxScaler\n",
    "\n",
    "scaler = MinMaxScaler()\n",
    "scaler.fit(x_train)\n",
    "x_train_minmax = scaler.fit_transform(x_train)\n",
    "x_test_minmax = scaler.fit_transform(x_test)\n"
   ]
  },
  {
   "cell_type": "code",
   "execution_count": 127,
   "id": "8b6b10af",
   "metadata": {},
   "outputs": [
    {
     "data": {
      "text/html": [
       "<style>#sk-container-id-9 {color: black;background-color: white;}#sk-container-id-9 pre{padding: 0;}#sk-container-id-9 div.sk-toggleable {background-color: white;}#sk-container-id-9 label.sk-toggleable__label {cursor: pointer;display: block;width: 100%;margin-bottom: 0;padding: 0.3em;box-sizing: border-box;text-align: center;}#sk-container-id-9 label.sk-toggleable__label-arrow:before {content: \"▸\";float: left;margin-right: 0.25em;color: #696969;}#sk-container-id-9 label.sk-toggleable__label-arrow:hover:before {color: black;}#sk-container-id-9 div.sk-estimator:hover label.sk-toggleable__label-arrow:before {color: black;}#sk-container-id-9 div.sk-toggleable__content {max-height: 0;max-width: 0;overflow: hidden;text-align: left;background-color: #f0f8ff;}#sk-container-id-9 div.sk-toggleable__content pre {margin: 0.2em;color: black;border-radius: 0.25em;background-color: #f0f8ff;}#sk-container-id-9 input.sk-toggleable__control:checked~div.sk-toggleable__content {max-height: 200px;max-width: 100%;overflow: auto;}#sk-container-id-9 input.sk-toggleable__control:checked~label.sk-toggleable__label-arrow:before {content: \"▾\";}#sk-container-id-9 div.sk-estimator input.sk-toggleable__control:checked~label.sk-toggleable__label {background-color: #d4ebff;}#sk-container-id-9 div.sk-label input.sk-toggleable__control:checked~label.sk-toggleable__label {background-color: #d4ebff;}#sk-container-id-9 input.sk-hidden--visually {border: 0;clip: rect(1px 1px 1px 1px);clip: rect(1px, 1px, 1px, 1px);height: 1px;margin: -1px;overflow: hidden;padding: 0;position: absolute;width: 1px;}#sk-container-id-9 div.sk-estimator {font-family: monospace;background-color: #f0f8ff;border: 1px dotted black;border-radius: 0.25em;box-sizing: border-box;margin-bottom: 0.5em;}#sk-container-id-9 div.sk-estimator:hover {background-color: #d4ebff;}#sk-container-id-9 div.sk-parallel-item::after {content: \"\";width: 100%;border-bottom: 1px solid gray;flex-grow: 1;}#sk-container-id-9 div.sk-label:hover label.sk-toggleable__label {background-color: #d4ebff;}#sk-container-id-9 div.sk-serial::before {content: \"\";position: absolute;border-left: 1px solid gray;box-sizing: border-box;top: 0;bottom: 0;left: 50%;z-index: 0;}#sk-container-id-9 div.sk-serial {display: flex;flex-direction: column;align-items: center;background-color: white;padding-right: 0.2em;padding-left: 0.2em;position: relative;}#sk-container-id-9 div.sk-item {position: relative;z-index: 1;}#sk-container-id-9 div.sk-parallel {display: flex;align-items: stretch;justify-content: center;background-color: white;position: relative;}#sk-container-id-9 div.sk-item::before, #sk-container-id-9 div.sk-parallel-item::before {content: \"\";position: absolute;border-left: 1px solid gray;box-sizing: border-box;top: 0;bottom: 0;left: 50%;z-index: -1;}#sk-container-id-9 div.sk-parallel-item {display: flex;flex-direction: column;z-index: 1;position: relative;background-color: white;}#sk-container-id-9 div.sk-parallel-item:first-child::after {align-self: flex-end;width: 50%;}#sk-container-id-9 div.sk-parallel-item:last-child::after {align-self: flex-start;width: 50%;}#sk-container-id-9 div.sk-parallel-item:only-child::after {width: 0;}#sk-container-id-9 div.sk-dashed-wrapped {border: 1px dashed gray;margin: 0 0.4em 0.5em 0.4em;box-sizing: border-box;padding-bottom: 0.4em;background-color: white;}#sk-container-id-9 div.sk-label label {font-family: monospace;font-weight: bold;display: inline-block;line-height: 1.2em;}#sk-container-id-9 div.sk-label-container {text-align: center;}#sk-container-id-9 div.sk-container {/* jupyter's `normalize.less` sets `[hidden] { display: none; }` but bootstrap.min.css set `[hidden] { display: none !important; }` so we also need the `!important` here to be able to override the default hidden behavior on the sphinx rendered scikit-learn.org. See: https://github.com/scikit-learn/scikit-learn/issues/21755 */display: inline-block !important;position: relative;}#sk-container-id-9 div.sk-text-repr-fallback {display: none;}</style><div id=\"sk-container-id-9\" class=\"sk-top-container\"><div class=\"sk-text-repr-fallback\"><pre>CategoricalNB(min_categories=100)</pre><b>In a Jupyter environment, please rerun this cell to show the HTML representation or trust the notebook. <br />On GitHub, the HTML representation is unable to render, please try loading this page with nbviewer.org.</b></div><div class=\"sk-container\" hidden><div class=\"sk-item\"><div class=\"sk-estimator sk-toggleable\"><input class=\"sk-toggleable__control sk-hidden--visually\" id=\"sk-estimator-id-9\" type=\"checkbox\" checked><label for=\"sk-estimator-id-9\" class=\"sk-toggleable__label sk-toggleable__label-arrow\">CategoricalNB</label><div class=\"sk-toggleable__content\"><pre>CategoricalNB(min_categories=100)</pre></div></div></div></div></div>"
      ],
      "text/plain": [
       "CategoricalNB(min_categories=100)"
      ]
     },
     "execution_count": 127,
     "metadata": {},
     "output_type": "execute_result"
    }
   ],
   "source": [
    "from sklearn.naive_bayes import MultinomialNB\n",
    "model_m = MultinomialNB()\n",
    "model_m.fit(x_train_minmax,y_train)\n",
    "\n",
    "from sklearn.naive_bayes import ComplementNB\n",
    "model_c = ComplementNB()\n",
    "model_c.fit(x_train_minmax, y_train)\n",
    "\n",
    "from sklearn.naive_bayes import CategoricalNB\n",
    "model_categ = CategoricalNB(min_categories= 100)\n",
    "model_categ.fit(x_train_minmax,y_train)\n"
   ]
  },
  {
   "cell_type": "code",
   "execution_count": 133,
   "id": "aba4e591",
   "metadata": {},
   "outputs": [],
   "source": [
    "from sklearn.metrics import accuracy_score\n",
    "pred_test_multi = model_m.predict(x_test_minmax)\n",
    "pred_test_complem = model_c.predict(x_test_minmax)\n",
    "pred_test_categ = model_categ.predict(x_test_minmax)"
   ]
  },
  {
   "cell_type": "code",
   "execution_count": 134,
   "id": "976d7c3f",
   "metadata": {},
   "outputs": [
    {
     "name": "stdout",
     "output_type": "stream",
     "text": [
      "Accuracy score on test with Bernoulli:  0.8569353667392883\n",
      "Accuracy score on test with Gaussian:  0.7116920842411039\n",
      "Accuracy score on test with Multinomial:  0.7283950617283951\n",
      "Accuracy score on test with Complement:  0.36673928830791575\n",
      "Accuracy score on test with Categorial:  0.21423384168482207\n"
     ]
    }
   ],
   "source": [
    "print(\"Accuracy score on test with Bernoulli: \",accuracy_score(y_test,pred_test_b))\n",
    "print(\"Accuracy score on test with Gaussian: \",accuracy_score(y_test,pred_test_g))\n",
    "print(\"Accuracy score on test with Multinomial: \",accuracy_score(y_test,pred_test_multi))\n",
    "print(\"Accuracy score on test with Complement: \",accuracy_score(y_test,pred_test_complem))\n",
    "print(\"Accuracy score on test with Categorial: \",accuracy_score(y_test,pred_test_categ))\n"
   ]
  },
  {
   "cell_type": "markdown",
   "id": "e89ad9dc",
   "metadata": {},
   "source": [
    "# Train Model with Logistic Regression with different solver and penalty [Marks:2+1]\n",
    "**Justify why one of the solver or penalty performed better compared to others**"
   ]
  },
  {
   "cell_type": "code",
   "execution_count": 88,
   "id": "a276d9d5",
   "metadata": {},
   "outputs": [
    {
     "name": "stdout",
     "output_type": "stream",
     "text": [
      "Training accuracy score: 0.9962\n",
      "Test accuracy score: 0.9695\n"
     ]
    }
   ],
   "source": [
    "from sklearn.linear_model import LogisticRegression\n",
    "\n",
    "model = LogisticRegression(penalty='l1',solver='liblinear',max_iter = 100000)\n",
    "model.fit(x_train_scaled,y_train)\n",
    "print('Training accuracy score: {0:0.4f}'. format(model.score(x_train_scaled,y_train)))\n",
    "print('Test accuracy score: {0:0.4f}'. format(model.score(x_test_scaled,y_test)))"
   ]
  },
  {
   "cell_type": "code",
   "execution_count": 90,
   "id": "f392e501",
   "metadata": {},
   "outputs": [
    {
     "name": "stdout",
     "output_type": "stream",
     "text": [
      "Training accuracy score: 0.9980\n",
      "Test accuracy score: 0.9572\n"
     ]
    }
   ],
   "source": [
    "from sklearn.linear_model import LogisticRegression\n",
    "\n",
    "model = LogisticRegression(penalty='l2',solver='lbfgs',max_iter = 100000)\n",
    "model.fit(x_train_scaled,y_train)\n",
    "print('Training accuracy score: {0:0.4f}'. format(model.score(x_train_scaled,y_train)))\n",
    "print('Test accuracy score: {0:0.4f}'. format(model.score(x_test_scaled,y_test)))"
   ]
  },
  {
   "attachments": {},
   "cell_type": "markdown",
   "id": "ee5851e5",
   "metadata": {},
   "source": [
    "Liblinear with l1 performed better on test data set since we do not have the multinomial loss for which lbfgs was designed to handle. An interesting observation here is that lbfgs took quite sometime to train the model"
   ]
  },
  {
   "cell_type": "markdown",
   "id": "3d3c9589",
   "metadata": {},
   "source": [
    "# Compare time and accuracy of different Logistic Regression algos [Marks:0.5]"
   ]
  },
  {
   "cell_type": "code",
   "execution_count": 96,
   "id": "1160eab7",
   "metadata": {},
   "outputs": [],
   "source": [
    "model_1 = LogisticRegression(penalty='l1',solver='liblinear',max_iter = 100000)\n",
    "model_4 = LogisticRegression(penalty='l2',solver='liblinear',max_iter = 100000)\n",
    "model_5 = LogisticRegression(penalty='l2',solver='lbfgs',max_iter = 100000)\n",
    "model_6 = LogisticRegression(penalty='l2',solver='newton-cg',max_iter = 100000)\n"
   ]
  },
  {
   "cell_type": "code",
   "execution_count": 98,
   "id": "245bbaeb",
   "metadata": {},
   "outputs": [
    {
     "name": "stdout",
     "output_type": "stream",
     "text": [
      "accuracy score in l1+liblinear = 0.9710\n",
      "accuracy score in l2+liblinear = 0.9637\n",
      "accuracy score in l2+lbgfs = 0.9572\n",
      "accuracy score in l2+newton-cg = 0.9564\n"
     ]
    }
   ],
   "source": [
    "model_1.fit(x_train_scaled,y_train)\n",
    "print('accuracy score in l1+liblinear = {0:0.4f}'. format(model_1.score(x_test_scaled,y_test)))\n",
    "\n",
    "\n",
    "model_4.fit(x_train_scaled,y_train)\n",
    "print('accuracy score in l2+liblinear = {0:0.4f}'. format(model_4.score(x_test_scaled,y_test)))\n",
    "\n",
    "model_5.fit(x_train_scaled,y_train)\n",
    "print('accuracy score in l2+lbgfs = {0:0.4f}'. format(model_5.score(x_test_scaled,y_test)))\n",
    "\n",
    "model_6.fit(x_train_scaled,y_train)\n",
    "print('accuracy score in l2+newton-cg = {0:0.4f}'. format(model_6.score(x_test_scaled,y_test)))\n"
   ]
  },
  {
   "cell_type": "markdown",
   "id": "8f36cb10",
   "metadata": {},
   "source": [
    "# Plot confusion Matrix for the final model selected [Marks:1]"
   ]
  },
  {
   "cell_type": "code",
   "execution_count": 105,
   "id": "c372cc7b",
   "metadata": {},
   "outputs": [
    {
     "name": "stderr",
     "output_type": "stream",
     "text": [
      "/home/nishith/.local/lib/python3.8/site-packages/sklearn/base.py:443: UserWarning: X has feature names, but LogisticRegression was fitted without feature names\n",
      "  warnings.warn(\n"
     ]
    }
   ],
   "source": [
    "from sklearn.metrics import confusion_matrix\n",
    "y_predicted = model_1.predict(x_test)\n",
    "cm = confusion_matrix(y_test, y_predicted)"
   ]
  },
  {
   "cell_type": "code",
   "execution_count": 107,
   "id": "9184b59e",
   "metadata": {},
   "outputs": [
    {
     "name": "stdout",
     "output_type": "stream",
     "text": [
      "[[106 168  19   0   0   0]\n",
      " [  0 215   2   0   0   0]\n",
      " [  0 107 115   0   0   0]\n",
      " [  0  23   0 206   0   0]\n",
      " [  0 146  19   1  33   1]\n",
      " [  0  80  41   0   0  95]]\n"
     ]
    }
   ],
   "source": [
    "print(cm) "
   ]
  }
 ],
 "metadata": {
  "kernelspec": {
   "display_name": "Python 3.8.10 64-bit",
   "language": "python",
   "name": "python3"
  },
  "language_info": {
   "codemirror_mode": {
    "name": "ipython",
    "version": 3
   },
   "file_extension": ".py",
   "mimetype": "text/x-python",
   "name": "python",
   "nbconvert_exporter": "python",
   "pygments_lexer": "ipython3",
   "version": "3.8.10"
  },
  "vscode": {
   "interpreter": {
    "hash": "916dbcbb3f70747c44a77c7bcd40155683ae19c65e1c03b4aa3499c5328201f1"
   }
  }
 },
 "nbformat": 4,
 "nbformat_minor": 5
}
